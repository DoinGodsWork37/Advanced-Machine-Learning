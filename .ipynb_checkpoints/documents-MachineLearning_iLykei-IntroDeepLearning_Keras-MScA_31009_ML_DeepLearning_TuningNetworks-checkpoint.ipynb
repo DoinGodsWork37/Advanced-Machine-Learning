{
 "cells": [
  {
   "cell_type": "markdown",
   "metadata": {
    "collapsed": true,
    "nbpresent": {
     "id": "f765eb10-54e6-4a14-912b-e5117e8f433d"
    }
   },
   "source": [
    "# Advanced Machine Learning and AI (MScA, 32017)\n",
    "\n",
    "# Fine Tuning a Keras Neural Network\n",
    "\n",
    "### Yuri Balasanov, Leonid Nazarov, &copy; iLykei 2017\n",
    "\n",
    "\n",
    "This notebook shows how to tune basic network parameters: number of epochs, dropout rate, learning rate, number of neurons in the layers, optimization algorithm.\n",
    "\n",
    "Import all necessary modules."
   ]
  },
  {
   "cell_type": "code",
   "execution_count": 1,
   "metadata": {
    "nbpresent": {
     "id": "efdff163-e13a-4bed-ae11-c66a9f45047d"
    },
    "scrolled": false
   },
   "outputs": [
    {
     "name": "stderr",
     "output_type": "stream",
     "text": [
      "Using TensorFlow backend.\n"
     ]
    }
   ],
   "source": [
    "%matplotlib inline\n",
    "import pandas as pd\n",
    "import numpy as np\n",
    "from matplotlib import pyplot as plt\n",
    "from sklearn.preprocessing import LabelEncoder\n",
    "from sklearn.model_selection import GridSearchCV\n",
    "from keras.models import Sequential\n",
    "from keras.layers import Dense, Dropout, Activation, Flatten\n",
    "from keras.utils import to_categorical, plot_model\n",
    "from keras.optimizers import Adam,SGD,Adagrad\n",
    "from keras.utils.vis_utils import model_to_dot\n",
    "from keras.wrappers.scikit_learn import KerasClassifier\n",
    "from IPython.display import SVG"
   ]
  },
  {
   "cell_type": "markdown",
   "metadata": {
    "raw_mimetype": "text/markdown"
   },
   "source": [
    "# Data (Kaggle OTTO  Group challenge)\n",
    "\n",
    "Tuning methods will be demonstrated on the train dataset from Kaggle [Otto Group Product Classification Challenge](https://www.kaggle.com/c/otto-group-product-classification-challenge).  \n",
    "Read the data, remove 'id' column and shuffle rows since they are originally oredered by class. "
   ]
  },
  {
   "cell_type": "code",
   "execution_count": 3,
   "metadata": {},
   "outputs": [
    {
     "name": "stdout",
     "output_type": "stream",
     "text": [
      "(55878, 94)\n"
     ]
    }
   ],
   "source": [
    "X = pd.read_csv(\"documents-Advanced Machine Learning-Lecture 7 AdvML-KaggleOtto_train.csv\")\n",
    "X.drop('id', axis=1, inplace=True)\n",
    "print(X.shape)\n",
    "np.random.seed(1)\n",
    "# Shuffle data. It is originally oredered by class\n",
    "X = X.reindex(np.random.permutation(X.index))"
   ]
  },
  {
   "cell_type": "markdown",
   "metadata": {},
   "source": [
    "This is a multiclass classification problem. \n",
    "\n",
    "Keras loss function for this problem is `categorical_crossentropy` (multiclass logloss). \n",
    "\n",
    "There is important note in the manual:  <br>\n",
    "when using the `categorical_crossentropy` loss, your targets should be in categorical format (e.g. if you have 10 classes, the target for each sample should be a 10-dimensional vector that is all-zeros except for 1 at the index corresponding to the class of the sample). \n",
    "\n",
    "In order to convert integer targets into categorical targets, you can use Keras utility `to_categorical`:\n",
    "\n",
    "`from keras.utils import to_categorical`\n",
    "`categorical_labels = to_categorical(int_labels, num_classes=None)`\n",
    "\n",
    "The target variable initially is in string format:"
   ]
  },
  {
   "cell_type": "code",
   "execution_count": 9,
   "metadata": {},
   "outputs": [
    {
     "ename": "AttributeError",
     "evalue": "'numpy.ndarray' object has no attribute 'target'",
     "output_type": "error",
     "traceback": [
      "\u001b[0;31m---------------------------------------------------------------------------\u001b[0m",
      "\u001b[0;31mAttributeError\u001b[0m                            Traceback (most recent call last)",
      "\u001b[0;32m<ipython-input-9-6f85ea3d1b3a>\u001b[0m in \u001b[0;36m<module>\u001b[0;34m\u001b[0m\n\u001b[0;32m----> 1\u001b[0;31m \u001b[0mX\u001b[0m\u001b[0;34m.\u001b[0m\u001b[0mtarget\u001b[0m\u001b[0;34m[\u001b[0m\u001b[0;34m:\u001b[0m\u001b[0;36m6\u001b[0m\u001b[0;34m]\u001b[0m\u001b[0;34m\u001b[0m\u001b[0;34m\u001b[0m\u001b[0m\n\u001b[0m",
      "\u001b[0;31mAttributeError\u001b[0m: 'numpy.ndarray' object has no attribute 'target'"
     ]
    }
   ],
   "source": [
    "X.target[:6]"
   ]
  },
  {
   "cell_type": "markdown",
   "metadata": {},
   "source": [
    "Convert strings to integers and then to categorical format"
   ]
  },
  {
   "cell_type": "code",
   "execution_count": 5,
   "metadata": {},
   "outputs": [
    {
     "data": {
      "text/plain": [
       "array([[0., 0., 0., 0., 0., 0., 0., 1., 0.],\n",
       "       [1., 0., 0., 0., 0., 0., 0., 0., 0.],\n",
       "       [0., 0., 0., 0., 1., 0., 0., 0., 0.],\n",
       "       [0., 0., 0., 0., 0., 0., 0., 0., 1.],\n",
       "       [0., 0., 1., 0., 0., 0., 0., 0., 0.],\n",
       "       [0., 0., 0., 0., 0., 1., 0., 0., 0.]], dtype=float32)"
      ]
     },
     "execution_count": 5,
     "metadata": {},
     "output_type": "execute_result"
    }
   ],
   "source": [
    "# Extract target\n",
    "# Encode it to make it manageable by ML algo, convert to np.int32\n",
    "y = X.target.values\n",
    "encoder = LabelEncoder()\n",
    "y = encoder.fit_transform(y).astype(np.int32)\n",
    "num_classes = len(encoder.classes_)\n",
    "# convert class vectors to binary class matrices\n",
    "y = to_categorical(y, num_classes)\n",
    "\n",
    "# Remove target from train\n",
    "X.drop('target', axis=1, inplace=True)\n",
    "\n",
    "y[:6,:]"
   ]
  },
  {
   "cell_type": "markdown",
   "metadata": {
    "collapsed": true
   },
   "source": [
    "It was noticed during competition that logarithmic transfrom improves performance of most of ML algrithms. Transform the data and convert them to numpy array."
   ]
  },
  {
   "cell_type": "code",
   "execution_count": 8,
   "metadata": {
    "nbpresent": {
     "id": "9ae3ad2d-82e9-4ac2-b198-dce882dfcd53"
    }
   },
   "outputs": [
    {
     "ename": "AttributeError",
     "evalue": "'numpy.ndarray' object has no attribute 'values'",
     "output_type": "error",
     "traceback": [
      "\u001b[0;31m---------------------------------------------------------------------------\u001b[0m",
      "\u001b[0;31mAttributeError\u001b[0m                            Traceback (most recent call last)",
      "\u001b[0;32m<ipython-input-8-93a8e71a9dc7>\u001b[0m in \u001b[0;36m<module>\u001b[0;34m\u001b[0m\n\u001b[1;32m      1\u001b[0m \u001b[0mnum_features\u001b[0m \u001b[0;34m=\u001b[0m \u001b[0mX\u001b[0m\u001b[0;34m.\u001b[0m\u001b[0mshape\u001b[0m\u001b[0;34m[\u001b[0m\u001b[0;36m1\u001b[0m\u001b[0;34m]\u001b[0m\u001b[0;34m\u001b[0m\u001b[0;34m\u001b[0m\u001b[0m\n\u001b[1;32m      2\u001b[0m \u001b[0;31m# log transform to decrease large values affect\u001b[0m\u001b[0;34m\u001b[0m\u001b[0;34m\u001b[0m\u001b[0;34m\u001b[0m\u001b[0m\n\u001b[0;32m----> 3\u001b[0;31m \u001b[0mX\u001b[0m \u001b[0;34m=\u001b[0m \u001b[0mnp\u001b[0m\u001b[0;34m.\u001b[0m\u001b[0mlog\u001b[0m\u001b[0;34m(\u001b[0m\u001b[0;36m1\u001b[0m\u001b[0;34m+\u001b[0m\u001b[0mX\u001b[0m\u001b[0;34m.\u001b[0m\u001b[0mvalues\u001b[0m\u001b[0;34m)\u001b[0m\u001b[0;34m\u001b[0m\u001b[0;34m\u001b[0m\u001b[0m\n\u001b[0m",
      "\u001b[0;31mAttributeError\u001b[0m: 'numpy.ndarray' object has no attribute 'values'"
     ]
    }
   ],
   "source": [
    "num_features = X.shape[1]\n",
    "# log transform to decrease large values affect\n",
    "X = np.log(1+X.values)"
   ]
  },
  {
   "cell_type": "markdown",
   "metadata": {
    "nbpresent": {
     "id": "ab91eb3a-658e-4ffd-ba20-864fea7b7f8d"
    }
   },
   "source": [
    "# The baseline model\n",
    "\n",
    "Start tunning sequential network with two hidden layers and dropout layers after each of them. \n",
    "\n",
    "The following function creates such network."
   ]
  },
  {
   "cell_type": "code",
   "execution_count": 7,
   "metadata": {
    "nbpresent": {
     "id": "a4306c9c-9be2-4172-9ad6-2355ffad6ba5"
    }
   },
   "outputs": [
    {
     "data": {
      "image/svg+xml": [
       "<svg height=\"410pt\" viewBox=\"0.00 0.00 139.00 410.00\" width=\"139pt\" xmlns=\"http://www.w3.org/2000/svg\" xmlns:xlink=\"http://www.w3.org/1999/xlink\">\n",
       "<g class=\"graph\" id=\"graph0\" transform=\"scale(1 1) rotate(0) translate(4 406)\">\n",
       "<title>G</title>\n",
       "<polygon fill=\"#ffffff\" points=\"-4,4 -4,-406 135,-406 135,4 -4,4\" stroke=\"transparent\"/>\n",
       "<!-- 39090239640 -->\n",
       "<g class=\"node\" id=\"node1\">\n",
       "<title>39090239640</title>\n",
       "<polygon fill=\"none\" points=\"11.5,-292.5 11.5,-328.5 119.5,-328.5 119.5,-292.5 11.5,-292.5\" stroke=\"#000000\"/>\n",
       "<text fill=\"#000000\" font-family=\"Times,serif\" font-size=\"14.00\" text-anchor=\"middle\" x=\"65.5\" y=\"-306.8\">Dense_1: Dense</text>\n",
       "</g>\n",
       "<!-- 112371590872 -->\n",
       "<g class=\"node\" id=\"node2\">\n",
       "<title>112371590872</title>\n",
       "<polygon fill=\"none\" points=\"0,-219.5 0,-255.5 131,-255.5 131,-219.5 0,-219.5\" stroke=\"#000000\"/>\n",
       "<text fill=\"#000000\" font-family=\"Times,serif\" font-size=\"14.00\" text-anchor=\"middle\" x=\"65.5\" y=\"-233.8\">Dropout_1: Dropout</text>\n",
       "</g>\n",
       "<!-- 39090239640&#45;&gt;112371590872 -->\n",
       "<g class=\"edge\" id=\"edge2\">\n",
       "<title>39090239640-&gt;112371590872</title>\n",
       "<path d=\"M65.5,-292.4551C65.5,-284.3828 65.5,-274.6764 65.5,-265.6817\" fill=\"none\" stroke=\"#000000\"/>\n",
       "<polygon fill=\"#000000\" points=\"69.0001,-265.5903 65.5,-255.5904 62.0001,-265.5904 69.0001,-265.5903\" stroke=\"#000000\"/>\n",
       "</g>\n",
       "<!-- 112371591488 -->\n",
       "<g class=\"node\" id=\"node3\">\n",
       "<title>112371591488</title>\n",
       "<polygon fill=\"none\" points=\"11.5,-146.5 11.5,-182.5 119.5,-182.5 119.5,-146.5 11.5,-146.5\" stroke=\"#000000\"/>\n",
       "<text fill=\"#000000\" font-family=\"Times,serif\" font-size=\"14.00\" text-anchor=\"middle\" x=\"65.5\" y=\"-160.8\">Dense_2: Dense</text>\n",
       "</g>\n",
       "<!-- 112371590872&#45;&gt;112371591488 -->\n",
       "<g class=\"edge\" id=\"edge3\">\n",
       "<title>112371590872-&gt;112371591488</title>\n",
       "<path d=\"M65.5,-219.4551C65.5,-211.3828 65.5,-201.6764 65.5,-192.6817\" fill=\"none\" stroke=\"#000000\"/>\n",
       "<polygon fill=\"#000000\" points=\"69.0001,-192.5903 65.5,-182.5904 62.0001,-192.5904 69.0001,-192.5903\" stroke=\"#000000\"/>\n",
       "</g>\n",
       "<!-- 4430782984 -->\n",
       "<g class=\"node\" id=\"node4\">\n",
       "<title>4430782984</title>\n",
       "<polygon fill=\"none\" points=\"0,-73.5 0,-109.5 131,-109.5 131,-73.5 0,-73.5\" stroke=\"#000000\"/>\n",
       "<text fill=\"#000000\" font-family=\"Times,serif\" font-size=\"14.00\" text-anchor=\"middle\" x=\"65.5\" y=\"-87.8\">Dropout_2: Dropout</text>\n",
       "</g>\n",
       "<!-- 112371591488&#45;&gt;4430782984 -->\n",
       "<g class=\"edge\" id=\"edge4\">\n",
       "<title>112371591488-&gt;4430782984</title>\n",
       "<path d=\"M65.5,-146.4551C65.5,-138.3828 65.5,-128.6764 65.5,-119.6817\" fill=\"none\" stroke=\"#000000\"/>\n",
       "<polygon fill=\"#000000\" points=\"69.0001,-119.5903 65.5,-109.5904 62.0001,-119.5904 69.0001,-119.5903\" stroke=\"#000000\"/>\n",
       "</g>\n",
       "<!-- 112445795240 -->\n",
       "<g class=\"node\" id=\"node5\">\n",
       "<title>112445795240</title>\n",
       "<polygon fill=\"none\" points=\"16.5,-.5 16.5,-36.5 114.5,-36.5 114.5,-.5 16.5,-.5\" stroke=\"#000000\"/>\n",
       "<text fill=\"#000000\" font-family=\"Times,serif\" font-size=\"14.00\" text-anchor=\"middle\" x=\"65.5\" y=\"-14.8\">Output: Dense</text>\n",
       "</g>\n",
       "<!-- 4430782984&#45;&gt;112445795240 -->\n",
       "<g class=\"edge\" id=\"edge5\">\n",
       "<title>4430782984-&gt;112445795240</title>\n",
       "<path d=\"M65.5,-73.4551C65.5,-65.3828 65.5,-55.6764 65.5,-46.6817\" fill=\"none\" stroke=\"#000000\"/>\n",
       "<polygon fill=\"#000000\" points=\"69.0001,-46.5903 65.5,-36.5904 62.0001,-46.5904 69.0001,-46.5903\" stroke=\"#000000\"/>\n",
       "</g>\n",
       "<!-- 112371591600 -->\n",
       "<g class=\"node\" id=\"node6\">\n",
       "<title>112371591600</title>\n",
       "<polygon fill=\"none\" points=\"15,-365.5 15,-401.5 116,-401.5 116,-365.5 15,-365.5\" stroke=\"#000000\"/>\n",
       "<text fill=\"#000000\" font-family=\"Times,serif\" font-size=\"14.00\" text-anchor=\"middle\" x=\"65.5\" y=\"-379.8\">112371591600</text>\n",
       "</g>\n",
       "<!-- 112371591600&#45;&gt;39090239640 -->\n",
       "<g class=\"edge\" id=\"edge1\">\n",
       "<title>112371591600-&gt;39090239640</title>\n",
       "<path d=\"M65.5,-365.4551C65.5,-357.3828 65.5,-347.6764 65.5,-338.6817\" fill=\"none\" stroke=\"#000000\"/>\n",
       "<polygon fill=\"#000000\" points=\"69.0001,-338.5903 65.5,-328.5904 62.0001,-338.5904 69.0001,-338.5903\" stroke=\"#000000\"/>\n",
       "</g>\n",
       "</g>\n",
       "</svg>"
      ],
      "text/plain": [
       "<IPython.core.display.SVG object>"
      ]
     },
     "execution_count": 7,
     "metadata": {},
     "output_type": "execute_result"
    }
   ],
   "source": [
    "def getModel(dropout=0.1, neurons1=500, neurons2=250,\n",
    "             learningRate=0.04):\n",
    "    np.random.seed(1)\n",
    "    model = Sequential()\n",
    "    model.add(Dense(neurons1, activation='relu', input_dim=num_features,\n",
    "                    name='Dense_1'))\n",
    "    model.add(Dropout(dropout,name='Dropout_1'))\n",
    "    model.add(Dense(neurons2, activation='relu',name='Dense_2'))\n",
    "    model.add(Dropout(dropout,name='Dropout_2'))\n",
    "    model.add(Dense(num_classes, activation='softmax',name='Output'))\n",
    "    model.compile(loss='categorical_crossentropy',\n",
    "                  optimizer=Adagrad(lr=learningRate), metrics=['accuracy'])\n",
    "    return model\n",
    "\n",
    "model1 = getModel()\n",
    "\n",
    "SVG(model_to_dot(model1).create(prog='dot', format='svg'))"
   ]
  },
  {
   "cell_type": "markdown",
   "metadata": {},
   "source": [
    "The network was created by `getModel()` with default parameters. Method `Fit` has parameter  \n",
    "\n",
    "`validation_split`: float (0. < x < 1): this is fraction of the data to use as hold-out validation data.  \n",
    "\n",
    "Set `validation_split = 0.2` i.e. 20% of data will be used for validation. <br>\n",
    "Fit the model and draw validation loss plot. <br>\n",
    "Since we want to show validation loss behaviour after it reaches minimum, we do not use `EarlyStopping` callback."
   ]
  },
  {
   "cell_type": "code",
   "execution_count": 7,
   "metadata": {},
   "outputs": [
    {
     "name": "stdout",
     "output_type": "stream",
     "text": [
      "Train on 44702 samples, validate on 11176 samples\n",
      "Epoch 1/12\n",
      " - 2s - loss: 0.9310 - acc: 0.7147 - val_loss: 0.5984 - val_acc: 0.7658\n",
      "Epoch 2/12\n",
      " - 2s - loss: 0.5518 - acc: 0.7854 - val_loss: 0.5682 - val_acc: 0.7833\n",
      "Epoch 3/12\n",
      " - 2s - loss: 0.5055 - acc: 0.8023 - val_loss: 0.5377 - val_acc: 0.7886\n",
      "Epoch 4/12\n",
      " - 2s - loss: 0.4707 - acc: 0.8137 - val_loss: 0.5228 - val_acc: 0.8005\n",
      "Epoch 5/12\n",
      " - 2s - loss: 0.4430 - acc: 0.8232 - val_loss: 0.5264 - val_acc: 0.7937\n",
      "Epoch 6/12\n",
      " - 2s - loss: 0.4187 - acc: 0.8332 - val_loss: 0.5258 - val_acc: 0.7975\n",
      "Epoch 7/12\n",
      " - 2s - loss: 0.3954 - acc: 0.8407 - val_loss: 0.5070 - val_acc: 0.8073\n",
      "Epoch 8/12\n",
      " - 2s - loss: 0.3727 - acc: 0.8507 - val_loss: 0.5266 - val_acc: 0.7997\n",
      "Epoch 9/12\n",
      " - 2s - loss: 0.3530 - acc: 0.8588 - val_loss: 0.5490 - val_acc: 0.8025\n",
      "Epoch 10/12\n",
      " - 2s - loss: 0.3348 - acc: 0.8651 - val_loss: 0.5490 - val_acc: 0.8039\n",
      "Epoch 11/12\n",
      " - 2s - loss: 0.3188 - acc: 0.8717 - val_loss: 0.5303 - val_acc: 0.8075\n",
      "Epoch 12/12\n",
      " - 3s - loss: 0.3047 - acc: 0.8781 - val_loss: 0.5420 - val_acc: 0.8070\n"
     ]
    }
   ],
   "source": [
    "net1 = model1.fit(X, y, epochs=12, batch_size=512, verbose=2,\n",
    "                  validation_split=0.2)"
   ]
  },
  {
   "cell_type": "code",
   "execution_count": 8,
   "metadata": {
    "nbpresent": {
     "id": "b1913631-f4d5-4a17-a7dc-b14ff18f2233"
    }
   },
   "outputs": [
    {
     "data": {
      "image/png": "[encoded data removed]",
      "text/plain": [
       "<Figure size 432x288 with 1 Axes>"
      ]
     },
     "metadata": {},
     "output_type": "display_data"
    }
   ],
   "source": [
    "valid_loss1 = net1.history[\"val_loss\"]\n",
    "plt.plot(valid_loss1, linewidth=3, label=\"The baseline\")\n",
    "plt.grid()\n",
    "plt.legend()\n",
    "plt.xlabel(\"epoch\")\n",
    "plt.ylabel(\"validation loss\")\n",
    "plt.xlim(0, 40)\n",
    "plt.ylim(0.48, 0.6)\n",
    "plt.yscale(\"log\")\n",
    "plt.show()"
   ]
  },
  {
   "cell_type": "markdown",
   "metadata": {
    "nbpresent": {
     "id": "1a787e08-697b-4665-b430-80d2c2ab6487"
    }
   },
   "source": [
    "Note that optimal performance is achieved around *epoch = 7*.\n",
    "For later epochs the model is overfitting, and performance is worse."
   ]
  },
  {
   "cell_type": "markdown",
   "metadata": {
    "nbpresent": {
     "id": "f632bfe3-05ff-45f8-8229-e312cb9cf4ab"
    }
   },
   "source": [
    "# Increase dropout\n",
    "\n",
    "Add some drop out to prevent overfitting."
   ]
  },
  {
   "cell_type": "code",
   "execution_count": 9,
   "metadata": {
    "nbpresent": {
     "id": "af0110da-1129-4946-92db-0977911c1724"
    }
   },
   "outputs": [
    {
     "name": "stdout",
     "output_type": "stream",
     "text": [
      "Train on 44702 samples, validate on 11176 samples\n",
      "Epoch 1/12\n",
      " - 3s - loss: 1.7472 - acc: 0.6531 - val_loss: 0.6491 - val_acc: 0.7573\n",
      "Epoch 2/12\n",
      " - 2s - loss: 0.6524 - acc: 0.7539 - val_loss: 0.5961 - val_acc: 0.7681\n",
      "Epoch 3/12\n",
      " - 2s - loss: 0.6033 - acc: 0.7667 - val_loss: 0.5663 - val_acc: 0.7768\n",
      "Epoch 4/12\n",
      " - 2s - loss: 0.5749 - acc: 0.7797 - val_loss: 0.5500 - val_acc: 0.7853\n",
      "Epoch 5/12\n",
      " - 2s - loss: 0.5536 - acc: 0.7853 - val_loss: 0.5391 - val_acc: 0.7870\n",
      "Epoch 6/12\n",
      " - 2s - loss: 0.5409 - acc: 0.7920 - val_loss: 0.5384 - val_acc: 0.7868\n",
      "Epoch 7/12\n",
      " - 2s - loss: 0.5230 - acc: 0.7952 - val_loss: 0.5240 - val_acc: 0.7953\n",
      "Epoch 8/12\n",
      " - 2s - loss: 0.5108 - acc: 0.8004 - val_loss: 0.5188 - val_acc: 0.7970\n",
      "Epoch 9/12\n",
      " - 2s - loss: 0.4987 - acc: 0.8050 - val_loss: 0.5255 - val_acc: 0.7938\n",
      "Epoch 10/12\n",
      " - 2s - loss: 0.4907 - acc: 0.8078 - val_loss: 0.5207 - val_acc: 0.7971\n",
      "Epoch 11/12\n",
      " - 2s - loss: 0.4823 - acc: 0.8101 - val_loss: 0.5154 - val_acc: 0.7985\n",
      "Epoch 12/12\n",
      " - 2s - loss: 0.4722 - acc: 0.8135 - val_loss: 0.5081 - val_acc: 0.8033\n"
     ]
    }
   ],
   "source": [
    "increasedDropout = 0.4\n",
    "model2 = getModel(increasedDropout)\n",
    "net2 = model2.fit(X, y, epochs=12, batch_size=512, verbose=2,validation_split=0.2)"
   ]
  },
  {
   "cell_type": "markdown",
   "metadata": {},
   "source": [
    "Compare validation loss for `net1` and `net2`"
   ]
  },
  {
   "cell_type": "code",
   "execution_count": 10,
   "metadata": {
    "nbpresent": {
     "id": "9681dd61-7153-4302-821a-679f712d6620"
    }
   },
   "outputs": [
    {
     "data": {
      "image/png": "[encoded data removed]",
      "text/plain": [
       "<Figure size 432x288 with 1 Axes>"
      ]
     },
     "metadata": {},
     "output_type": "display_data"
    },
    {
     "name": "stdout",
     "output_type": "stream",
     "text": [
      "best validation loss 0.508067818011\n"
     ]
    }
   ],
   "source": [
    "valid_loss2 = net2.history[\"val_loss\"]\n",
    "plt.plot(valid_loss1, linewidth=3, label=\"The baseline\")\n",
    "plt.plot(valid_loss2, linewidth=3, label=\"Increased dropout\")\n",
    "plt.grid()\n",
    "plt.legend()\n",
    "plt.xlabel(\"epoch\")\n",
    "plt.ylabel(\"validation loss\")\n",
    "plt.xlim(0, 40)\n",
    "plt.ylim(0.47, 0.6)\n",
    "plt.yscale(\"log\")\n",
    "plt.show()\n",
    "print('best validation loss', min(valid_loss2))"
   ]
  },
  {
   "cell_type": "markdown",
   "metadata": {
    "nbpresent": {
     "id": "f1ed5413-2a3e-4867-9f13-3370cfd8eaf1"
    }
   },
   "source": [
    "That is better. <br>\n",
    "No more overfitting, and it feels like it is possible to increase number of epochs."
   ]
  },
  {
   "cell_type": "markdown",
   "metadata": {
    "nbpresent": {
     "id": "06969724-bbdd-4fb1-8d07-6482f7215782"
    }
   },
   "source": [
    "# Increase epoch\n",
    "\n",
    "Increase number of epochs and check what loss can be reached."
   ]
  },
  {
   "cell_type": "code",
   "execution_count": 11,
   "metadata": {
    "nbpresent": {
     "id": "6356fb1c-4fd3-44f3-98b1-8bdf49066203"
    }
   },
   "outputs": [
    {
     "name": "stdout",
     "output_type": "stream",
     "text": [
      "Train on 44702 samples, validate on 11176 samples\n",
      "Epoch 1/25\n",
      " - 3s - loss: 2.1457 - acc: 0.6536 - val_loss: 0.6476 - val_acc: 0.7490\n",
      "Epoch 2/25\n",
      " - 2s - loss: 0.6557 - acc: 0.7541 - val_loss: 0.6101 - val_acc: 0.7581\n",
      "Epoch 3/25\n",
      " - 2s - loss: 0.6051 - acc: 0.7672 - val_loss: 0.5660 - val_acc: 0.7787\n",
      "Epoch 4/25\n",
      " - 2s - loss: 0.5758 - acc: 0.7773 - val_loss: 0.5532 - val_acc: 0.7819\n",
      "Epoch 5/25\n",
      " - 2s - loss: 0.5534 - acc: 0.7848 - val_loss: 0.5448 - val_acc: 0.7852\n",
      "Epoch 6/25\n",
      " - 2s - loss: 0.5377 - acc: 0.7901 - val_loss: 0.5350 - val_acc: 0.7907\n",
      "Epoch 7/25\n",
      " - 2s - loss: 0.5199 - acc: 0.7968 - val_loss: 0.5200 - val_acc: 0.7970\n",
      "Epoch 8/25\n",
      " - 2s - loss: 0.5112 - acc: 0.7998 - val_loss: 0.5155 - val_acc: 0.7972\n",
      "Epoch 9/25\n",
      " - 2s - loss: 0.4968 - acc: 0.8043 - val_loss: 0.5168 - val_acc: 0.7979\n",
      "Epoch 10/25\n",
      " - 2s - loss: 0.4879 - acc: 0.8064 - val_loss: 0.5143 - val_acc: 0.8002\n",
      "Epoch 11/25\n",
      " - 2s - loss: 0.4761 - acc: 0.8119 - val_loss: 0.5077 - val_acc: 0.8033\n",
      "Epoch 12/25\n",
      " - 2s - loss: 0.4667 - acc: 0.8135 - val_loss: 0.5033 - val_acc: 0.8043\n",
      "Epoch 13/25\n",
      " - 2s - loss: 0.4591 - acc: 0.8181 - val_loss: 0.5039 - val_acc: 0.8058\n",
      "Epoch 14/25\n",
      " - 2s - loss: 0.4525 - acc: 0.8184 - val_loss: 0.5023 - val_acc: 0.8064\n",
      "Epoch 15/25\n",
      " - 2s - loss: 0.4461 - acc: 0.8222 - val_loss: 0.5039 - val_acc: 0.8050\n",
      "Epoch 16/25\n",
      " - 2s - loss: 0.4372 - acc: 0.8240 - val_loss: 0.4985 - val_acc: 0.8094\n",
      "Epoch 17/25\n",
      " - 2s - loss: 0.4298 - acc: 0.8253 - val_loss: 0.5034 - val_acc: 0.8099\n",
      "Epoch 18/25\n",
      " - 2s - loss: 0.4260 - acc: 0.8271 - val_loss: 0.5047 - val_acc: 0.8056\n",
      "Epoch 19/25\n",
      " - 2s - loss: 0.4161 - acc: 0.8315 - val_loss: 0.5047 - val_acc: 0.8074\n",
      "Epoch 20/25\n",
      " - 2s - loss: 0.4130 - acc: 0.8328 - val_loss: 0.5082 - val_acc: 0.8057\n",
      "Epoch 21/25\n",
      " - 2s - loss: 0.4072 - acc: 0.8338 - val_loss: 0.5013 - val_acc: 0.8092\n",
      "Epoch 22/25\n",
      " - 2s - loss: 0.4022 - acc: 0.8376 - val_loss: 0.5000 - val_acc: 0.8113\n",
      "Epoch 23/25\n",
      " - 2s - loss: 0.3977 - acc: 0.8375 - val_loss: 0.4994 - val_acc: 0.8111\n",
      "Epoch 24/25\n",
      " - 2s - loss: 0.3939 - acc: 0.8391 - val_loss: 0.5094 - val_acc: 0.8097\n",
      "Epoch 25/25\n",
      " - 2s - loss: 0.3884 - acc: 0.8414 - val_loss: 0.5058 - val_acc: 0.8108\n"
     ]
    }
   ],
   "source": [
    "model3 = getModel(increasedDropout)\n",
    "net3 = model3.fit(X, y, epochs=25, batch_size=512, verbose=2, validation_split=0.2)"
   ]
  },
  {
   "cell_type": "code",
   "execution_count": 12,
   "metadata": {
    "nbpresent": {
     "id": "f248015c-df5d-47d3-86fd-073d8b0860a3"
    }
   },
   "outputs": [
    {
     "data": {
      "image/png": "[encoded data removed]",
      "text/plain": [
       "<Figure size 432x288 with 1 Axes>"
      ]
     },
     "metadata": {},
     "output_type": "display_data"
    },
    {
     "name": "stdout",
     "output_type": "stream",
     "text": [
      "best validation loss 0.498512847772\n"
     ]
    }
   ],
   "source": [
    "valid_loss3 = np.array(net3.history[\"val_loss\"])\n",
    "plt.plot(valid_loss1, linewidth=3, label=\"The baseline\")\n",
    "plt.plot(valid_loss3, linewidth=3, label=\"Increased dropout & epoch\")\n",
    "plt.grid()\n",
    "plt.legend()\n",
    "plt.xlabel(\"epoch\")\n",
    "plt.ylabel(\"validation loss\")\n",
    "plt.xlim(0, 40)\n",
    "plt.ylim(0.47, 0.6)\n",
    "plt.yscale(\"log\")\n",
    "plt.show()\n",
    "print('best validation loss', min(valid_loss3))"
   ]
  },
  {
   "cell_type": "markdown",
   "metadata": {},
   "source": [
    "Try to improve performance further by adding neurons"
   ]
  },
  {
   "cell_type": "markdown",
   "metadata": {
    "nbpresent": {
     "id": "21f44c66-abe8-4ca0-b689-2abf7290d246"
    }
   },
   "source": [
    "# Increase number of neurons\n",
    "\n",
    "Increase number of neurons in the first hidden layer."
   ]
  },
  {
   "cell_type": "code",
   "execution_count": 13,
   "metadata": {
    "nbpresent": {
     "id": "0a6a6da6-7a04-4cfd-8030-34f14d1918ea"
    },
    "scrolled": false
   },
   "outputs": [
    {
     "name": "stdout",
     "output_type": "stream",
     "text": [
      "Train on 44702 samples, validate on 11176 samples\n",
      "Epoch 1/25\n",
      " - 4s - loss: 6.6041 - acc: 0.4583 - val_loss: 0.6844 - val_acc: 0.7453\n",
      "Epoch 2/25\n",
      " - 3s - loss: 0.6580 - acc: 0.7543 - val_loss: 0.5932 - val_acc: 0.7725\n",
      "Epoch 3/25\n",
      " - 3s - loss: 0.5914 - acc: 0.7741 - val_loss: 0.5579 - val_acc: 0.7840\n",
      "Epoch 4/25\n",
      " - 3s - loss: 0.5544 - acc: 0.7859 - val_loss: 0.5341 - val_acc: 0.7923\n",
      "Epoch 5/25\n",
      " - 3s - loss: 0.5249 - acc: 0.7949 - val_loss: 0.5305 - val_acc: 0.7870\n",
      "Epoch 6/25\n",
      " - 3s - loss: 0.5098 - acc: 0.8018 - val_loss: 0.5192 - val_acc: 0.7947\n",
      "Epoch 7/25\n",
      " - 3s - loss: 0.4869 - acc: 0.8081 - val_loss: 0.5125 - val_acc: 0.8039\n",
      "Epoch 8/25\n",
      " - 4s - loss: 0.4706 - acc: 0.8148 - val_loss: 0.5062 - val_acc: 0.8048\n",
      "Epoch 9/25\n",
      " - 3s - loss: 0.4536 - acc: 0.8194 - val_loss: 0.5131 - val_acc: 0.8019\n",
      "Epoch 10/25\n",
      " - 3s - loss: 0.4392 - acc: 0.8239 - val_loss: 0.5081 - val_acc: 0.8071\n",
      "Epoch 11/25\n",
      " - 3s - loss: 0.4282 - acc: 0.8288 - val_loss: 0.5028 - val_acc: 0.8082\n",
      "Epoch 12/25\n",
      " - 3s - loss: 0.4165 - acc: 0.8316 - val_loss: 0.4985 - val_acc: 0.8086\n",
      "Epoch 13/25\n",
      " - 3s - loss: 0.4042 - acc: 0.8375 - val_loss: 0.5018 - val_acc: 0.8083\n",
      "Epoch 14/25\n",
      " - 3s - loss: 0.3945 - acc: 0.8391 - val_loss: 0.5000 - val_acc: 0.8100\n",
      "Epoch 15/25\n",
      " - 3s - loss: 0.3850 - acc: 0.8450 - val_loss: 0.4997 - val_acc: 0.8096\n",
      "Epoch 16/25\n",
      " - 3s - loss: 0.3741 - acc: 0.8509 - val_loss: 0.5013 - val_acc: 0.8120\n",
      "Epoch 17/25\n",
      " - 3s - loss: 0.3654 - acc: 0.8524 - val_loss: 0.5109 - val_acc: 0.8139\n",
      "Epoch 18/25\n",
      " - 3s - loss: 0.3574 - acc: 0.8559 - val_loss: 0.5106 - val_acc: 0.8121\n",
      "Epoch 19/25\n",
      " - 4s - loss: 0.3509 - acc: 0.8577 - val_loss: 0.5146 - val_acc: 0.8136\n",
      "Epoch 20/25\n",
      " - 3s - loss: 0.3436 - acc: 0.8605 - val_loss: 0.5176 - val_acc: 0.8121\n",
      "Epoch 21/25\n",
      " - 3s - loss: 0.3333 - acc: 0.8642 - val_loss: 0.5144 - val_acc: 0.8100\n",
      "Epoch 22/25\n",
      " - 3s - loss: 0.3256 - acc: 0.8663 - val_loss: 0.5259 - val_acc: 0.8139\n",
      "Epoch 23/25\n",
      " - 3s - loss: 0.3225 - acc: 0.8676 - val_loss: 0.5291 - val_acc: 0.8132\n",
      "Epoch 24/25\n",
      " - 3s - loss: 0.3175 - acc: 0.8692 - val_loss: 0.5261 - val_acc: 0.8142\n",
      "Epoch 25/25\n",
      " - 3s - loss: 0.3094 - acc: 0.8731 - val_loss: 0.5279 - val_acc: 0.8134\n"
     ]
    }
   ],
   "source": [
    "increasedNeurons1 = 1000\n",
    "model4 = getModel(increasedDropout, neurons1=increasedNeurons1)\n",
    "net4 = model4.fit(X, y, epochs=25, batch_size=512, verbose=2, validation_split=0.2)"
   ]
  },
  {
   "cell_type": "code",
   "execution_count": 14,
   "metadata": {
    "nbpresent": {
     "id": "696ef53e-4019-4f1f-8cc4-786269febd64"
    },
    "scrolled": true
   },
   "outputs": [
    {
     "data": {
      "image/png": "[encoded data removed]",
      "text/plain": [
       "<Figure size 432x288 with 1 Axes>"
      ]
     },
     "metadata": {},
     "output_type": "display_data"
    },
    {
     "name": "stdout",
     "output_type": "stream",
     "text": [
      "best validation loss 0.49851766282\n"
     ]
    }
   ],
   "source": [
    "valid_loss4 = net4.history[\"val_loss\"]\n",
    "plt.plot(valid_loss1, linewidth=3, label=\"The baseline\")\n",
    "plt.plot(valid_loss3, linewidth=3, label=\"Increased dropout & epoch\")\n",
    "plt.plot(valid_loss4, linewidth=3, label=\"Increased neurons\")\n",
    "plt.grid()\n",
    "plt.legend()\n",
    "plt.xlabel(\"epoch\")\n",
    "plt.ylabel(\"validation loss\")\n",
    "plt.xlim(0, 40)\n",
    "plt.ylim(0.47, 0.6)\n",
    "plt.yscale(\"log\")\n",
    "plt.show()\n",
    "print('best validation loss', min(valid_loss4))"
   ]
  },
  {
   "cell_type": "markdown",
   "metadata": {
    "nbpresent": {
     "id": "e4df500f-c9fc-494e-8e99-5eba98055ec9"
    }
   },
   "source": [
    "That is better, but we start overfitting around epoch 12. <br>"
   ]
  },
  {
   "cell_type": "markdown",
   "metadata": {
    "nbpresent": {
     "id": "a7b34497-c26a-4f4b-9ad4-ded1f752db13"
    }
   },
   "source": [
    "# Decrease learning rate\n",
    "\n",
    "To prevent overfitting decrease the learning rate."
   ]
  },
  {
   "cell_type": "code",
   "execution_count": 15,
   "metadata": {
    "nbpresent": {
     "id": "2be239bf-bf81-4233-84a4-49a6565de50d"
    },
    "scrolled": true
   },
   "outputs": [
    {
     "name": "stdout",
     "output_type": "stream",
     "text": [
      "Train on 44702 samples, validate on 11176 samples\n",
      "Epoch 1/30\n",
      " - 4s - loss: 0.7909 - acc: 0.7148 - val_loss: 0.6179 - val_acc: 0.7704\n",
      "Epoch 2/30\n",
      " - 3s - loss: 0.6142 - acc: 0.7668 - val_loss: 0.5822 - val_acc: 0.7786\n",
      "Epoch 3/30\n",
      " - 3s - loss: 0.5841 - acc: 0.7762 - val_loss: 0.5640 - val_acc: 0.7848\n",
      "Epoch 4/30\n",
      " - 3s - loss: 0.5621 - acc: 0.7838 - val_loss: 0.5552 - val_acc: 0.7854\n",
      "Epoch 5/30\n",
      " - 3s - loss: 0.5452 - acc: 0.7901 - val_loss: 0.5444 - val_acc: 0.7894\n",
      "Epoch 6/30\n",
      " - 3s - loss: 0.5380 - acc: 0.7922 - val_loss: 0.5398 - val_acc: 0.7895\n",
      "Epoch 7/30\n",
      " - 4s - loss: 0.5249 - acc: 0.7979 - val_loss: 0.5326 - val_acc: 0.7938\n",
      "Epoch 8/30\n",
      " - 4s - loss: 0.5151 - acc: 0.8004 - val_loss: 0.5287 - val_acc: 0.7945\n",
      "Epoch 9/30\n",
      " - 5s - loss: 0.5073 - acc: 0.8039 - val_loss: 0.5316 - val_acc: 0.7948\n",
      "Epoch 10/30\n",
      " - 3s - loss: 0.5018 - acc: 0.8067 - val_loss: 0.5228 - val_acc: 0.7972\n",
      "Epoch 11/30\n",
      " - 4s - loss: 0.4915 - acc: 0.8105 - val_loss: 0.5191 - val_acc: 0.7976\n",
      "Epoch 12/30\n",
      " - 4s - loss: 0.4862 - acc: 0.8124 - val_loss: 0.5142 - val_acc: 0.7982\n",
      "Epoch 13/30\n",
      " - 4s - loss: 0.4831 - acc: 0.8110 - val_loss: 0.5117 - val_acc: 0.7991\n",
      "Epoch 14/30\n",
      " - 3s - loss: 0.4754 - acc: 0.8151 - val_loss: 0.5124 - val_acc: 0.8005\n",
      "Epoch 15/30\n",
      " - 3s - loss: 0.4717 - acc: 0.8173 - val_loss: 0.5084 - val_acc: 0.8017\n",
      "Epoch 16/30\n",
      " - 3s - loss: 0.4665 - acc: 0.8185 - val_loss: 0.5063 - val_acc: 0.8040\n",
      "Epoch 17/30\n",
      " - 3s - loss: 0.4623 - acc: 0.8211 - val_loss: 0.5069 - val_acc: 0.8049\n",
      "Epoch 18/30\n",
      " - 3s - loss: 0.4564 - acc: 0.8218 - val_loss: 0.5055 - val_acc: 0.8035\n",
      "Epoch 19/30\n",
      " - 4s - loss: 0.4519 - acc: 0.8234 - val_loss: 0.5055 - val_acc: 0.8044\n",
      "Epoch 20/30\n",
      " - 3s - loss: 0.4481 - acc: 0.8241 - val_loss: 0.5021 - val_acc: 0.8053\n",
      "Epoch 21/30\n",
      " - 3s - loss: 0.4461 - acc: 0.8248 - val_loss: 0.4992 - val_acc: 0.8077\n",
      "Epoch 22/30\n",
      " - 3s - loss: 0.4393 - acc: 0.8285 - val_loss: 0.4979 - val_acc: 0.8082\n",
      "Epoch 23/30\n",
      " - 3s - loss: 0.4377 - acc: 0.8275 - val_loss: 0.4974 - val_acc: 0.8100\n",
      "Epoch 24/30\n",
      " - 3s - loss: 0.4337 - acc: 0.8312 - val_loss: 0.5009 - val_acc: 0.8077\n",
      "Epoch 25/30\n",
      " - 3s - loss: 0.4296 - acc: 0.8320 - val_loss: 0.4958 - val_acc: 0.8092\n",
      "Epoch 26/30\n",
      " - 3s - loss: 0.4268 - acc: 0.8322 - val_loss: 0.4991 - val_acc: 0.8093\n",
      "Epoch 27/30\n",
      " - 3s - loss: 0.4231 - acc: 0.8331 - val_loss: 0.4959 - val_acc: 0.8100\n",
      "Epoch 28/30\n",
      " - 3s - loss: 0.4196 - acc: 0.8350 - val_loss: 0.4957 - val_acc: 0.8082\n",
      "Epoch 29/30\n",
      " - 4s - loss: 0.4203 - acc: 0.8351 - val_loss: 0.4926 - val_acc: 0.8092\n",
      "Epoch 30/30\n",
      " - 4s - loss: 0.4171 - acc: 0.8373 - val_loss: 0.4951 - val_acc: 0.8101\n"
     ]
    }
   ],
   "source": [
    "model5 = getModel(increasedDropout, neurons1=increasedNeurons1, learningRate=0.008)\n",
    "net5 = model5.fit(X, y, epochs=30, batch_size=512, verbose=2, validation_split=0.2)"
   ]
  },
  {
   "cell_type": "code",
   "execution_count": 16,
   "metadata": {
    "nbpresent": {
     "id": "5754a0dd-3083-49bc-baff-f669dd566b4c"
    },
    "scrolled": true
   },
   "outputs": [
    {
     "data": {
      "image/png": "[encoded data removed]",
      "text/plain": [
       "<Figure size 432x288 with 1 Axes>"
      ]
     },
     "metadata": {},
     "output_type": "display_data"
    },
    {
     "name": "stdout",
     "output_type": "stream",
     "text": [
      "best validation loss 0.492603744962\n"
     ]
    }
   ],
   "source": [
    "valid_loss5 = net5.history[\"val_loss\"]\n",
    "plt.plot(valid_loss1, linewidth=3, label=\"The baseline\")\n",
    "plt.plot(valid_loss3, linewidth=3, label=\"Increased dropout & epoch\")\n",
    "plt.plot(valid_loss4, linewidth=3, label=\"Increased neurons\")\n",
    "plt.plot(valid_loss5, linewidth=3, label=\"Increased neurons & decr. learning rate\")\n",
    "plt.grid()\n",
    "plt.legend()\n",
    "plt.xlabel(\"epoch\")\n",
    "plt.ylabel(\"validation loss\")\n",
    "plt.xlim(0, 40)\n",
    "plt.ylim(0.47, 0.6)\n",
    "plt.yscale(\"log\")\n",
    "plt.show()\n",
    "print('best validation loss', min(valid_loss5))"
   ]
  },
  {
   "cell_type": "markdown",
   "metadata": {
    "nbpresent": {
     "id": "9bdfced1-2060-4294-ac62-c864b95be8f2"
    }
   },
   "source": [
    "Low learning rate smoothed down validation loss curve and improved prediction quality. \n",
    "Now there is a good balance between number of neurons, dropout and learning rate. <br>\n",
    "Note that other parameters could have been tuned too: number of layers, activation function etc."
   ]
  },
  {
   "cell_type": "markdown",
   "metadata": {},
   "source": [
    "<font color=blue>\n",
    "    \n",
    "**Assignment 1**  <br>\n",
    "Tune sequentially droput rate, number of epochs and number of neurons of the following network:\n",
    "\n",
    "![test_model6](https://ilykei.com/api/fileProxy/documents%2FAdvanced%20Machine%20Learning%2FLecture%207%20AdvML%2Ftest_model6.png)\n",
    "\n",
    "Try to improve 'best validation loss' at least by 0.02 compare to starting point (dropout rate = 0, optimizer=Adagrad(lr=0.04). <br>\n",
    "Do not change validation_split=0.2, optimizer and learning rate. \n",
    "\n",
    "![TunningPic1](https://ilykei.com/api/fileProxy/documents%2FAdvanced%20Machine%20Learning%2FLecture%207%20AdvML%2FTunningPic1.png)"
   ]
  },
  {
   "cell_type": "code",
   "execution_count": null,
   "metadata": {
    "scrolled": true
   },
   "outputs": [],
   "source": [
    "#Skipped code\n",
    "# Assignment 1\n"
   ]
  },
  {
   "cell_type": "markdown",
   "metadata": {},
   "source": [
    "# Tuning hyperparameters with grid search\n",
    "\n",
    "Keras sequential models (single-input only) can be used in `scikit-learn` by wrapping them with the `KerasClassifier` or `KerasRegressor` class.\n",
    "\n",
    "To use these wrappers you must define a function that creates and returns your Keras sequential model, then pass this function to the `build_fn` argument when constructing the `KerasClassifier` class. `build_fn` should construct, compile and return a Keras model, which will then be used to fit/predict. One of the following three values could be passed to build_fn:  \n",
    "\n",
    "- A function\n",
    "- An instance of a class that implements the call method\n",
    "- None. This means you implement a class that inherits from either KerasClassifier or KerasRegressor. The call method of the present class will then be treated as the default *build_fn*.\n",
    "\n",
    "E.g. we can create `KerasClassifier` instance with the above defined function `getModel` :"
   ]
  },
  {
   "cell_type": "code",
   "execution_count": 17,
   "metadata": {},
   "outputs": [],
   "source": [
    "model = KerasClassifier(build_fn=getModel)"
   ]
  },
  {
   "cell_type": "markdown",
   "metadata": {},
   "source": [
    "The constructor for the KerasClassifier class takes second argument   \n",
    "`ssk_params`: model parameters & fitting parameters.  \n",
    "We can pass there any legal model and fitting parameters. "
   ]
  },
  {
   "cell_type": "code",
   "execution_count": 18,
   "metadata": {},
   "outputs": [
    {
     "data": {
      "text/plain": [
       "{'epochs': 20,\n",
       " 'batch_size': 512,\n",
       " 'verbose': 0,\n",
       " 'build_fn': <function __main__.getModel(dropout=0.1, neurons1=500, neurons2=250, learningRate=0.04)>}"
      ]
     },
     "execution_count": 18,
     "metadata": {},
     "output_type": "execute_result"
    }
   ],
   "source": [
    "model = KerasClassifier(build_fn=getModel, epochs=20, batch_size=512, verbose=0)\n",
    "model.get_params()"
   ]
  },
  {
   "cell_type": "markdown",
   "metadata": {},
   "source": [
    "Since it is now scikit-learn Classifier, we can use Grid search - a model hyperparameter optimization technique provided in scikit-learn GridSearchCV class.  \n",
    "\n",
    "When constructing this class we provide a dictionary of hyperparameters to evaluate in the `param_grid` argument.\n",
    "\n",
    "By default, the grid search will only use one thread. <br>\n",
    "By setting the `n_jobs` argument in the `GridSearchCV` constructor to -1, the process will use all cores on your machine. <br>\n",
    "If `n_jobs` was set to a value higher than one, the data are copied for each point in the grid (and not `n_jobs` times). <br>\n",
    "This is done for efficiency if individual jobs take very little time, but may raise errors if the dataset is large and there is not enough memory available. <br>\n",
    "A workaround in this case is to set pre_dispatch. <br>\n",
    "Then, the memory is copied only pre_dispatch many times. <br>\n",
    "A reasonable value for pre_dispatch is $2~\\times~$n_jobs.\n",
    "\n",
    "The `GridSearchCV` process will then construct and evaluate one model for each combination of parameters. <br>\n",
    "Cross validation is used to evaluate each individual model and the default of 3-fold cross validation is used, although this can be overridden by specifying the cv argument to the `GridSearchCV` constructor.  \n",
    "\n",
    "We set \"neg_log_loss\" (negative logloss) as a scoring measure since  `GridSearchCV` is trying to maximize score."
   ]
  },
  {
   "cell_type": "code",
   "execution_count": 19,
   "metadata": {},
   "outputs": [],
   "source": [
    "# define the grid search parameters\n",
    "param_grid = dict(dropout=[0.1, 0.2, 0.3], neurons1=[300, 500, 700])\n",
    "\n",
    "grid = GridSearchCV(estimator=model, param_grid=param_grid, \n",
    "                    scoring=\"neg_log_loss\", n_jobs=1)\n"
   ]
  },
  {
   "cell_type": "code",
   "execution_count": 20,
   "metadata": {},
   "outputs": [],
   "source": [
    "grid_result = grid.fit(X, y)"
   ]
  },
  {
   "cell_type": "markdown",
   "metadata": {},
   "source": [
    "We can extract results from `grid_result` attribute `cv_results_`. \n",
    "\n",
    "Recall that we were maximizing negative logloss. So, we output `-mean`  as logloss mean."
   ]
  },
  {
   "cell_type": "code",
   "execution_count": 21,
   "metadata": {
    "scrolled": true
   },
   "outputs": [
    {
     "name": "stdout",
     "output_type": "stream",
     "text": [
      "Best: 0.519677 using {'dropout': 0.3, 'neurons1': 300}\n",
      "18.685507 (12.921873) with: {'dropout': 0.1, 'neurons1': 300}\n",
      "0.623016 (0.016451) with: {'dropout': 0.1, 'neurons1': 500}\n",
      "18.676579 (12.852253) with: {'dropout': 0.1, 'neurons1': 700}\n",
      "0.543008 (0.009925) with: {'dropout': 0.2, 'neurons1': 300}\n",
      "0.577984 (0.007234) with: {'dropout': 0.2, 'neurons1': 500}\n",
      "8.935292 (11.802510) with: {'dropout': 0.2, 'neurons1': 700}\n",
      "0.519677 (0.004612) with: {'dropout': 0.3, 'neurons1': 300}\n",
      "0.532895 (0.003629) with: {'dropout': 0.3, 'neurons1': 500}\n",
      "8.902130 (11.827406) with: {'dropout': 0.3, 'neurons1': 700}\n"
     ]
    }
   ],
   "source": [
    "# summarize results\n",
    "print(\"Best: %f using %s\" % (-grid_result.best_score_, grid_result.best_params_))\n",
    "means = grid_result.cv_results_['mean_test_score']\n",
    "stds = grid_result.cv_results_['std_test_score']\n",
    "params = grid_result.cv_results_['params']\n",
    "for mean, stdev, param in zip(means, stds, params):\n",
    "    print(\"%f (%f) with: %r\" % (-mean, stdev, param))\n"
   ]
  },
  {
   "cell_type": "markdown",
   "metadata": {},
   "source": [
    "# Selecting Optimization Algorithm\n",
    "\n",
    "Grid search may be applied not only to numerical parameters. \n",
    "\n",
    "We can find the best optimizer using it."
   ]
  },
  {
   "cell_type": "code",
   "execution_count": 22,
   "metadata": {},
   "outputs": [],
   "source": [
    "def getModel1(dropout=0.1, neurons1=500, neurons2=250,optimizer=\"Adagrad\"):\n",
    "    np.random.seed(1)\n",
    "    model = Sequential()\n",
    "    model.add(Dense(neurons1, activation='relu', input_dim=num_features))\n",
    "    model.add(Dropout(dropout))\n",
    "    model.add(Dense(neurons2, activation='relu'))\n",
    "    model.add(Dropout(dropout))\n",
    "    model.add(Dense(num_classes, activation='softmax'))\n",
    "    model.compile(loss='categorical_crossentropy',\n",
    "                  optimizer=optimizer, metrics=['accuracy'])\n",
    "    return model\n",
    "\n",
    "\n",
    "optimizer = ['SGD', 'RMSprop', 'Adagrad', 'Adadelta', 'Adam', 'Adamax', 'Nadam']\n",
    "# create model\n",
    "model = KerasClassifier(build_fn=getModel1, dropout=0.3, neurons1=300,\n",
    "                        epochs=20, batch_size=512, verbose=0)\n",
    "# define the grid search parameters\n",
    "\n",
    "grid = GridSearchCV(estimator=model, param_grid=dict(optimizer=optimizer),\n",
    "                    scoring=\"neg_log_loss\",n_jobs=1)\n"
   ]
  },
  {
   "cell_type": "code",
   "execution_count": 23,
   "metadata": {
    "scrolled": true
   },
   "outputs": [
    {
     "name": "stdout",
     "output_type": "stream",
     "text": [
      "Best: 0.512019 using {'optimizer': 'Adam'}\n",
      "0.746024 (0.002902) with: {'optimizer': 'SGD'}\n",
      "0.515591 (0.002480) with: {'optimizer': 'RMSprop'}\n",
      "0.522140 (0.002009) with: {'optimizer': 'Adagrad'}\n",
      "0.519864 (0.001241) with: {'optimizer': 'Adadelta'}\n",
      "0.512019 (0.002401) with: {'optimizer': 'Adam'}\n",
      "0.518393 (0.001063) with: {'optimizer': 'Adamax'}\n",
      "0.522720 (0.004061) with: {'optimizer': 'Nadam'}\n"
     ]
    }
   ],
   "source": [
    "grid_result = grid.fit(X, y)\n",
    "# summarize results\n",
    "print(\"Best: %f using %s\" % (-grid_result.best_score_, grid_result.best_params_))\n",
    "means = grid_result.cv_results_['mean_test_score']\n",
    "stds = grid_result.cv_results_['std_test_score']\n",
    "params = grid_result.cv_results_['params']\n",
    "for mean, stdev, param in zip(means, stds, params):\n",
    "    print(\"%f (%f) with: %r\" % (-mean, stdev, param))"
   ]
  }
 ],
 "metadata": {
  "anaconda-cloud": {},
  "kernelspec": {
   "display_name": "Python 3",
   "language": "python",
   "name": "python3"
  },
  "language_info": {
   "codemirror_mode": {
    "name": "ipython",
    "version": 3
   },
   "file_extension": ".py",
   "mimetype": "text/x-python",
   "name": "python",
   "nbconvert_exporter": "python",
   "pygments_lexer": "ipython3",
   "version": "3.6.7"
  },
  "latex_envs": {
   "LaTeX_envs_menu_present": true,
   "autoclose": false,
   "autocomplete": true,
   "bibliofile": "biblio.bib",
   "cite_by": "apalike",
   "current_citInitial": 1,
   "eqLabelWithNumbers": true,
   "eqNumInitial": 1,
   "hotkeys": {
    "equation": "Ctrl-E",
    "itemize": "Ctrl-I"
   },
   "labels_anchors": false,
   "latex_user_defs": false,
   "report_style_numbering": false,
   "user_envs_cfg": false
  },
  "varInspector": {
   "cols": {
    "lenName": 16,
    "lenType": 16,
    "lenVar": 40
   },
   "kernels_config": {
    "python": {
     "delete_cmd_postfix": "",
     "delete_cmd_prefix": "del ",
     "library": "var_list.py",
     "varRefreshCmd": "print(var_dic_list())"
    },
    "r": {
     "delete_cmd_postfix": ") ",
     "delete_cmd_prefix": "rm(",
     "library": "var_list.r",
     "varRefreshCmd": "cat(var_dic_list()) "
    }
   },
   "types_to_exclude": [
    "module",
    "function",
    "builtin_function_or_method",
    "instance",
    "_Feature"
   ],
   "window_display": true
  }
 },
 "nbformat": 4,
 "nbformat_minor": 1
}
