{
 "cells": [
  {
   "cell_type": "markdown",
   "metadata": {
    "collapsed": true,
    "nbpresent": {
     "id": "f765eb10-54e6-4a14-912b-e5117e8f433d"
    }
   },
   "source": [
    "# Advanced Machine Learning and AI (MScA, 32017)\n",
    "\n",
    "# Fine Tuning a Keras Neural Network\n",
    "\n",
    "### Yuri Balasanov, Leonid Nazarov, &copy; iLykei 2017\n",
    "\n",
    "\n",
    "This notebook shows how to tune basic network parameters: number of epochs, dropout rate, learning rate, number of neurons in the layers, optimization algorithm.\n",
    "\n",
    "Import all necessary modules."
   ]
  },
  {
   "cell_type": "code",
   "execution_count": 1,
   "metadata": {
    "nbpresent": {
     "id": "efdff163-e13a-4bed-ae11-c66a9f45047d"
    },
    "scrolled": false
   },
   "outputs": [
    {
     "name": "stderr",
     "output_type": "stream",
     "text": [
      "Using TensorFlow backend.\n"
     ]
    }
   ],
   "source": [
    "%matplotlib inline\n",
    "import pandas as pd\n",
    "import numpy as np\n",
    "from matplotlib import pyplot as plt\n",
    "from sklearn.preprocessing import LabelEncoder\n",
    "from sklearn.model_selection import GridSearchCV\n",
    "from keras.models import Sequential\n",
    "from keras.layers import Dense, Dropout, Activation, Flatten\n",
    "from keras.utils import to_categorical, plot_model\n",
    "from keras.optimizers import Adam,SGD,Adagrad\n",
    "from keras.utils.vis_utils import model_to_dot\n",
    "from keras.wrappers.scikit_learn import KerasClassifier\n",
    "from IPython.display import SVG"
   ]
  },
  {
   "cell_type": "markdown",
   "metadata": {
    "raw_mimetype": "text/markdown"
   },
   "source": [
    "# Data (Kaggle OTTO  Group challenge)\n",
    "\n",
    "Tuning methods will be demonstrated on the train dataset from Kaggle [Otto Group Product Classification Challenge](https://www.kaggle.com/c/otto-group-product-classification-challenge).  \n",
    "Read the data, remove 'id' column and shuffle rows since they are originally oredered by class. "
   ]
  },
  {
   "cell_type": "code",
   "execution_count": 10,
   "metadata": {},
   "outputs": [
    {
     "name": "stdout",
     "output_type": "stream",
     "text": [
      "(55878, 94)\n"
     ]
    }
   ],
   "source": [
    "X = pd.read_csv(\"documents-Advanced Machine Learning-Lecture 7 AdvML-KaggleOtto_train.csv\")\n",
    "X.drop('id', axis=1, inplace=True)\n",
    "print(X.shape)\n",
    "np.random.seed(1)\n",
    "# Shuffle data. It is originally oredered by class\n",
    "X = X.reindex(np.random.permutation(X.index))"
   ]
  },
  {
   "cell_type": "markdown",
   "metadata": {},
   "source": [
    "This is a multiclass classification problem. \n",
    "\n",
    "Keras loss function for this problem is `categorical_crossentropy` (multiclass logloss). \n",
    "\n",
    "There is important note in the manual:  <br>\n",
    "when using the `categorical_crossentropy` loss, your targets should be in categorical format (e.g. if you have 10 classes, the target for each sample should be a 10-dimensional vector that is all-zeros except for 1 at the index corresponding to the class of the sample). \n",
    "\n",
    "In order to convert integer targets into categorical targets, you can use Keras utility `to_categorical`:\n",
    "\n",
    "`from keras.utils import to_categorical`\n",
    "`categorical_labels = to_categorical(int_labels, num_classes=None)`\n",
    "\n",
    "The target variable initially is in string format:"
   ]
  },
  {
   "cell_type": "code",
   "execution_count": 11,
   "metadata": {},
   "outputs": [
    {
     "data": {
      "text/plain": [
       "34888    Class_8\n",
       "33063    Class_1\n",
       "18402    Class_5\n",
       "48904    Class_9\n",
       "8078     Class_3\n",
       "24224    Class_6\n",
       "Name: target, dtype: object"
      ]
     },
     "execution_count": 11,
     "metadata": {},
     "output_type": "execute_result"
    }
   ],
   "source": [
    "X.target[:6]"
   ]
  },
  {
   "cell_type": "markdown",
   "metadata": {},
   "source": [
    "Convert strings to integers and then to categorical format"
   ]
  },
  {
   "cell_type": "code",
   "execution_count": 12,
   "metadata": {},
   "outputs": [
    {
     "data": {
      "text/plain": [
       "array([[0., 0., 0., 0., 0., 0., 0., 1., 0.],\n",
       "       [1., 0., 0., 0., 0., 0., 0., 0., 0.],\n",
       "       [0., 0., 0., 0., 1., 0., 0., 0., 0.],\n",
       "       [0., 0., 0., 0., 0., 0., 0., 0., 1.],\n",
       "       [0., 0., 1., 0., 0., 0., 0., 0., 0.],\n",
       "       [0., 0., 0., 0., 0., 1., 0., 0., 0.]], dtype=float32)"
      ]
     },
     "execution_count": 12,
     "metadata": {},
     "output_type": "execute_result"
    }
   ],
   "source": [
    "# Extract target\n",
    "# Encode it to make it manageable by ML algo, convert to np.int32\n",
    "y = X.target.values\n",
    "encoder = LabelEncoder()\n",
    "y = encoder.fit_transform(y).astype(np.int32)\n",
    "num_classes = len(encoder.classes_)\n",
    "# convert class vectors to binary class matrices\n",
    "y = to_categorical(y, num_classes)\n",
    "\n",
    "# Remove target from train\n",
    "X.drop('target', axis=1, inplace=True)\n",
    "\n",
    "y[:6,:]"
   ]
  },
  {
   "cell_type": "markdown",
   "metadata": {
    "collapsed": true
   },
   "source": [
    "It was noticed during competition that logarithmic transfrom improves performance of most of ML algrithms. Transform the data and convert them to numpy array."
   ]
  },
  {
   "cell_type": "code",
   "execution_count": 13,
   "metadata": {
    "nbpresent": {
     "id": "9ae3ad2d-82e9-4ac2-b198-dce882dfcd53"
    }
   },
   "outputs": [],
   "source": [
    "num_features = X.shape[1]\n",
    "# log transform to decrease large values affect\n",
    "X = np.log(1+X.values)"
   ]
  },
  {
   "cell_type": "markdown",
   "metadata": {
    "nbpresent": {
     "id": "ab91eb3a-658e-4ffd-ba20-864fea7b7f8d"
    }
   },
   "source": [
    "# The baseline model\n",
    "\n",
    "Start tunning sequential network with two hidden layers and dropout layers after each of them. \n",
    "\n",
    "The following function creates such network."
   ]
  },
  {
   "cell_type": "code",
   "execution_count": 14,
   "metadata": {
    "nbpresent": {
     "id": "a4306c9c-9be2-4172-9ad6-2355ffad6ba5"
    }
   },
   "outputs": [
    {
     "data": {
      "image/svg+xml": [
       "<svg height=\"410pt\" viewBox=\"0.00 0.00 139.00 410.00\" width=\"139pt\" xmlns=\"http://www.w3.org/2000/svg\" xmlns:xlink=\"http://www.w3.org/1999/xlink\">\n",
       "<g class=\"graph\" id=\"graph0\" transform=\"scale(1 1) rotate(0) translate(4 406)\">\n",
       "<title>G</title>\n",
       "<polygon fill=\"#ffffff\" points=\"-4,4 -4,-406 135,-406 135,4 -4,4\" stroke=\"transparent\"/>\n",
       "<!-- 4688841136 -->\n",
       "<g class=\"node\" id=\"node1\">\n",
       "<title>4688841136</title>\n",
       "<polygon fill=\"none\" points=\"11.5,-292.5 11.5,-328.5 119.5,-328.5 119.5,-292.5 11.5,-292.5\" stroke=\"#000000\"/>\n",
       "<text fill=\"#000000\" font-family=\"Times,serif\" font-size=\"14.00\" text-anchor=\"middle\" x=\"65.5\" y=\"-306.8\">Dense_1: Dense</text>\n",
       "</g>\n",
       "<!-- 4688839736 -->\n",
       "<g class=\"node\" id=\"node2\">\n",
       "<title>4688839736</title>\n",
       "<polygon fill=\"none\" points=\"0,-219.5 0,-255.5 131,-255.5 131,-219.5 0,-219.5\" stroke=\"#000000\"/>\n",
       "<text fill=\"#000000\" font-family=\"Times,serif\" font-size=\"14.00\" text-anchor=\"middle\" x=\"65.5\" y=\"-233.8\">Dropout_1: Dropout</text>\n",
       "</g>\n",
       "<!-- 4688841136&#45;&gt;4688839736 -->\n",
       "<g class=\"edge\" id=\"edge2\">\n",
       "<title>4688841136-&gt;4688839736</title>\n",
       "<path d=\"M65.5,-292.4551C65.5,-284.3828 65.5,-274.6764 65.5,-265.6817\" fill=\"none\" stroke=\"#000000\"/>\n",
       "<polygon fill=\"#000000\" points=\"69.0001,-265.5903 65.5,-255.5904 62.0001,-265.5904 69.0001,-265.5903\" stroke=\"#000000\"/>\n",
       "</g>\n",
       "<!-- 4688841976 -->\n",
       "<g class=\"node\" id=\"node3\">\n",
       "<title>4688841976</title>\n",
       "<polygon fill=\"none\" points=\"11.5,-146.5 11.5,-182.5 119.5,-182.5 119.5,-146.5 11.5,-146.5\" stroke=\"#000000\"/>\n",
       "<text fill=\"#000000\" font-family=\"Times,serif\" font-size=\"14.00\" text-anchor=\"middle\" x=\"65.5\" y=\"-160.8\">Dense_2: Dense</text>\n",
       "</g>\n",
       "<!-- 4688839736&#45;&gt;4688841976 -->\n",
       "<g class=\"edge\" id=\"edge3\">\n",
       "<title>4688839736-&gt;4688841976</title>\n",
       "<path d=\"M65.5,-219.4551C65.5,-211.3828 65.5,-201.6764 65.5,-192.6817\" fill=\"none\" stroke=\"#000000\"/>\n",
       "<polygon fill=\"#000000\" points=\"69.0001,-192.5903 65.5,-182.5904 62.0001,-192.5904 69.0001,-192.5903\" stroke=\"#000000\"/>\n",
       "</g>\n",
       "<!-- 4688841584 -->\n",
       "<g class=\"node\" id=\"node4\">\n",
       "<title>4688841584</title>\n",
       "<polygon fill=\"none\" points=\"0,-73.5 0,-109.5 131,-109.5 131,-73.5 0,-73.5\" stroke=\"#000000\"/>\n",
       "<text fill=\"#000000\" font-family=\"Times,serif\" font-size=\"14.00\" text-anchor=\"middle\" x=\"65.5\" y=\"-87.8\">Dropout_2: Dropout</text>\n",
       "</g>\n",
       "<!-- 4688841976&#45;&gt;4688841584 -->\n",
       "<g class=\"edge\" id=\"edge4\">\n",
       "<title>4688841976-&gt;4688841584</title>\n",
       "<path d=\"M65.5,-146.4551C65.5,-138.3828 65.5,-128.6764 65.5,-119.6817\" fill=\"none\" stroke=\"#000000\"/>\n",
       "<polygon fill=\"#000000\" points=\"69.0001,-119.5903 65.5,-109.5904 62.0001,-119.5904 69.0001,-119.5903\" stroke=\"#000000\"/>\n",
       "</g>\n",
       "<!-- 112443143112 -->\n",
       "<g class=\"node\" id=\"node5\">\n",
       "<title>112443143112</title>\n",
       "<polygon fill=\"none\" points=\"16.5,-.5 16.5,-36.5 114.5,-36.5 114.5,-.5 16.5,-.5\" stroke=\"#000000\"/>\n",
       "<text fill=\"#000000\" font-family=\"Times,serif\" font-size=\"14.00\" text-anchor=\"middle\" x=\"65.5\" y=\"-14.8\">Output: Dense</text>\n",
       "</g>\n",
       "<!-- 4688841584&#45;&gt;112443143112 -->\n",
       "<g class=\"edge\" id=\"edge5\">\n",
       "<title>4688841584-&gt;112443143112</title>\n",
       "<path d=\"M65.5,-73.4551C65.5,-65.3828 65.5,-55.6764 65.5,-46.6817\" fill=\"none\" stroke=\"#000000\"/>\n",
       "<polygon fill=\"#000000\" points=\"69.0001,-46.5903 65.5,-36.5904 62.0001,-46.5904 69.0001,-46.5903\" stroke=\"#000000\"/>\n",
       "</g>\n",
       "<!-- 4688841472 -->\n",
       "<g class=\"node\" id=\"node6\">\n",
       "<title>4688841472</title>\n",
       "<polygon fill=\"none\" points=\"22,-365.5 22,-401.5 109,-401.5 109,-365.5 22,-365.5\" stroke=\"#000000\"/>\n",
       "<text fill=\"#000000\" font-family=\"Times,serif\" font-size=\"14.00\" text-anchor=\"middle\" x=\"65.5\" y=\"-379.8\">4688841472</text>\n",
       "</g>\n",
       "<!-- 4688841472&#45;&gt;4688841136 -->\n",
       "<g class=\"edge\" id=\"edge1\">\n",
       "<title>4688841472-&gt;4688841136</title>\n",
       "<path d=\"M65.5,-365.4551C65.5,-357.3828 65.5,-347.6764 65.5,-338.6817\" fill=\"none\" stroke=\"#000000\"/>\n",
       "<polygon fill=\"#000000\" points=\"69.0001,-338.5903 65.5,-328.5904 62.0001,-338.5904 69.0001,-338.5903\" stroke=\"#000000\"/>\n",
       "</g>\n",
       "</g>\n",
       "</svg>"
      ],
      "text/plain": [
       "<IPython.core.display.SVG object>"
      ]
     },
     "execution_count": 14,
     "metadata": {},
     "output_type": "execute_result"
    }
   ],
   "source": [
    "def getModel(dropout=0.1, neurons1=500, neurons2=250,\n",
    "             learningRate=0.04):\n",
    "    np.random.seed(1)\n",
    "    model = Sequential()\n",
    "    model.add(Dense(neurons1, activation='relu', input_dim=num_features,\n",
    "                    name='Dense_1'))\n",
    "    model.add(Dropout(dropout,name='Dropout_1'))\n",
    "    model.add(Dense(neurons2, activation='relu',name='Dense_2'))\n",
    "    model.add(Dropout(dropout,name='Dropout_2'))\n",
    "    model.add(Dense(num_classes, activation='softmax',name='Output'))\n",
    "    model.compile(loss='categorical_crossentropy',\n",
    "                  optimizer=Adagrad(lr=learningRate), metrics=['accuracy'])\n",
    "    return model\n",
    "\n",
    "model1 = getModel()\n",
    "\n",
    "SVG(model_to_dot(model1).create(prog='dot', format='svg'))"
   ]
  },
  {
   "cell_type": "markdown",
   "metadata": {},
   "source": [
    "The network was created by `getModel()` with default parameters. Method `Fit` has parameter  \n",
    "\n",
    "`validation_split`: float (0. < x < 1): this is fraction of the data to use as hold-out validation data.  \n",
    "\n",
    "Set `validation_split = 0.2` i.e. 20% of data will be used for validation. <br>\n",
    "Fit the model and draw validation loss plot. <br>\n",
    "Since we want to show validation loss behaviour after it reaches minimum, we do not use `EarlyStopping` callback."
   ]
  },
  {
   "cell_type": "code",
   "execution_count": 15,
   "metadata": {},
   "outputs": [
    {
     "name": "stdout",
     "output_type": "stream",
     "text": [
      "Train on 44702 samples, validate on 11176 samples\n",
      "Epoch 1/12\n",
      " - 1s - loss: 0.9310 - acc: 0.7144 - val_loss: 0.6000 - val_acc: 0.7665\n",
      "Epoch 2/12\n",
      " - 1s - loss: 0.5506 - acc: 0.7865 - val_loss: 0.5648 - val_acc: 0.7833\n",
      "Epoch 3/12\n",
      " - 1s - loss: 0.5019 - acc: 0.8044 - val_loss: 0.5417 - val_acc: 0.7880\n",
      "Epoch 4/12\n",
      " - 1s - loss: 0.4682 - acc: 0.8151 - val_loss: 0.5258 - val_acc: 0.7946\n",
      "Epoch 5/12\n",
      " - 1s - loss: 0.4394 - acc: 0.8253 - val_loss: 0.5271 - val_acc: 0.7913\n",
      "Epoch 6/12\n",
      " - 1s - loss: 0.4146 - acc: 0.8361 - val_loss: 0.5238 - val_acc: 0.7995\n",
      "Epoch 7/12\n",
      " - 1s - loss: 0.3926 - acc: 0.8453 - val_loss: 0.5115 - val_acc: 0.8049\n",
      "Epoch 8/12\n",
      " - 1s - loss: 0.3713 - acc: 0.8522 - val_loss: 0.5353 - val_acc: 0.7946\n",
      "Epoch 9/12\n",
      " - 1s - loss: 0.3495 - acc: 0.8592 - val_loss: 0.5440 - val_acc: 0.8029\n",
      "Epoch 10/12\n",
      " - 1s - loss: 0.3323 - acc: 0.8670 - val_loss: 0.5442 - val_acc: 0.8069\n",
      "Epoch 11/12\n",
      " - 1s - loss: 0.3164 - acc: 0.8730 - val_loss: 0.5358 - val_acc: 0.8057\n",
      "Epoch 12/12\n",
      " - 1s - loss: 0.3018 - acc: 0.8800 - val_loss: 0.5459 - val_acc: 0.8064\n"
     ]
    }
   ],
   "source": [
    "net1 = model1.fit(X, y, epochs=12, batch_size=512, verbose=2,\n",
    "                  validation_split=0.2)"
   ]
  },
  {
   "cell_type": "code",
   "execution_count": 16,
   "metadata": {
    "nbpresent": {
     "id": "b1913631-f4d5-4a17-a7dc-b14ff18f2233"
    }
   },
   "outputs": [
    {
     "data": {
      "image/png": "[encoded data removed]",
      "text/plain": [
       "<Figure size 432x288 with 1 Axes>"
      ]
     },
     "metadata": {
      "needs_background": "light"
     },
     "output_type": "display_data"
    }
   ],
   "source": [
    "valid_loss1 = net1.history[\"val_loss\"]\n",
    "plt.plot(valid_loss1, linewidth=3, label=\"The baseline\")\n",
    "plt.grid()\n",
    "plt.legend()\n",
    "plt.xlabel(\"epoch\")\n",
    "plt.ylabel(\"validation loss\")\n",
    "plt.xlim(0, 40)\n",
    "plt.ylim(0.48, 0.6)\n",
    "plt.yscale(\"log\")\n",
    "plt.show()"
   ]
  },
  {
   "cell_type": "markdown",
   "metadata": {
    "nbpresent": {
     "id": "1a787e08-697b-4665-b430-80d2c2ab6487"
    }
   },
   "source": [
    "Note that optimal performance is achieved around *epoch = 7*.\n",
    "For later epochs the model is overfitting, and performance is worse."
   ]
  },
  {
   "cell_type": "markdown",
   "metadata": {
    "nbpresent": {
     "id": "f632bfe3-05ff-45f8-8229-e312cb9cf4ab"
    }
   },
   "source": [
    "# Increase dropout\n",
    "\n",
    "Add some drop out to prevent overfitting."
   ]
  },
  {
   "cell_type": "code",
   "execution_count": 17,
   "metadata": {
    "nbpresent": {
     "id": "af0110da-1129-4946-92db-0977911c1724"
    }
   },
   "outputs": [
    {
     "name": "stdout",
     "output_type": "stream",
     "text": [
      "Train on 44702 samples, validate on 11176 samples\n",
      "Epoch 1/12\n",
      " - 1s - loss: 1.0341 - acc: 0.6989 - val_loss: 0.6266 - val_acc: 0.7603\n",
      "Epoch 2/12\n",
      " - 1s - loss: 0.6144 - acc: 0.7669 - val_loss: 0.5757 - val_acc: 0.7737\n",
      "Epoch 3/12\n",
      " - 1s - loss: 0.5700 - acc: 0.7814 - val_loss: 0.5533 - val_acc: 0.7863\n",
      "Epoch 4/12\n",
      " - 1s - loss: 0.5442 - acc: 0.7918 - val_loss: 0.5318 - val_acc: 0.7921\n",
      "Epoch 5/12\n",
      " - 1s - loss: 0.5233 - acc: 0.7975 - val_loss: 0.5260 - val_acc: 0.7956\n",
      "Epoch 6/12\n",
      " - 1s - loss: 0.5068 - acc: 0.8023 - val_loss: 0.5224 - val_acc: 0.7969\n",
      "Epoch 7/12\n",
      " - 1s - loss: 0.4903 - acc: 0.8076 - val_loss: 0.5143 - val_acc: 0.8029\n",
      "Epoch 8/12\n",
      " - 1s - loss: 0.4776 - acc: 0.8148 - val_loss: 0.5095 - val_acc: 0.8057\n",
      "Epoch 9/12\n",
      " - 1s - loss: 0.4644 - acc: 0.8170 - val_loss: 0.5142 - val_acc: 0.8027\n",
      "Epoch 10/12\n",
      " - 1s - loss: 0.4554 - acc: 0.8204 - val_loss: 0.5067 - val_acc: 0.8069\n",
      "Epoch 11/12\n",
      " - 1s - loss: 0.4436 - acc: 0.8251 - val_loss: 0.5016 - val_acc: 0.8054\n",
      "Epoch 12/12\n",
      " - 1s - loss: 0.4350 - acc: 0.8283 - val_loss: 0.5040 - val_acc: 0.8095\n"
     ]
    }
   ],
   "source": [
    "increasedDropout = 0.4\n",
    "model2 = getModel(increasedDropout)\n",
    "net2 = model2.fit(X, y, epochs=12, batch_size=512, verbose=2,validation_split=0.2)"
   ]
  },
  {
   "cell_type": "markdown",
   "metadata": {},
   "source": [
    "Compare validation loss for `net1` and `net2`"
   ]
  },
  {
   "cell_type": "code",
   "execution_count": 18,
   "metadata": {
    "nbpresent": {
     "id": "9681dd61-7153-4302-821a-679f712d6620"
    }
   },
   "outputs": [
    {
     "data": {
      "image/png": "[encoded data removed]",
      "text/plain": [
       "<Figure size 432x288 with 1 Axes>"
      ]
     },
     "metadata": {
      "needs_background": "light"
     },
     "output_type": "display_data"
    },
    {
     "name": "stdout",
     "output_type": "stream",
     "text": [
      "best validation loss 0.501575498685038\n"
     ]
    }
   ],
   "source": [
    "valid_loss2 = net2.history[\"val_loss\"]\n",
    "plt.plot(valid_loss1, linewidth=3, label=\"The baseline\")\n",
    "plt.plot(valid_loss2, linewidth=3, label=\"Increased dropout\")\n",
    "plt.grid()\n",
    "plt.legend()\n",
    "plt.xlabel(\"epoch\")\n",
    "plt.ylabel(\"validation loss\")\n",
    "plt.xlim(0, 40)\n",
    "plt.ylim(0.47, 0.6)\n",
    "plt.yscale(\"log\")\n",
    "plt.show()\n",
    "print('best validation loss', min(valid_loss2))"
   ]
  },
  {
   "cell_type": "markdown",
   "metadata": {
    "nbpresent": {
     "id": "f1ed5413-2a3e-4867-9f13-3370cfd8eaf1"
    }
   },
   "source": [
    "That is better. <br>\n",
    "No more overfitting, and it feels like it is possible to increase number of epochs."
   ]
  },
  {
   "cell_type": "markdown",
   "metadata": {
    "nbpresent": {
     "id": "06969724-bbdd-4fb1-8d07-6482f7215782"
    }
   },
   "source": [
    "# Increase epoch\n",
    "\n",
    "Increase number of epochs and check what loss can be reached."
   ]
  },
  {
   "cell_type": "code",
   "execution_count": 19,
   "metadata": {
    "nbpresent": {
     "id": "6356fb1c-4fd3-44f3-98b1-8bdf49066203"
    }
   },
   "outputs": [
    {
     "name": "stdout",
     "output_type": "stream",
     "text": [
      "Train on 44702 samples, validate on 11176 samples\n",
      "Epoch 1/25\n",
      " - 1s - loss: 1.0341 - acc: 0.6989 - val_loss: 0.6266 - val_acc: 0.7603\n",
      "Epoch 2/25\n",
      " - 1s - loss: 0.6144 - acc: 0.7669 - val_loss: 0.5757 - val_acc: 0.7737\n",
      "Epoch 3/25\n",
      " - 1s - loss: 0.5700 - acc: 0.7814 - val_loss: 0.5533 - val_acc: 0.7863\n",
      "Epoch 4/25\n",
      " - 1s - loss: 0.5442 - acc: 0.7918 - val_loss: 0.5318 - val_acc: 0.7924\n",
      "Epoch 5/25\n",
      " - 1s - loss: 0.5233 - acc: 0.7976 - val_loss: 0.5255 - val_acc: 0.7955\n",
      "Epoch 6/25\n",
      " - 1s - loss: 0.5069 - acc: 0.8023 - val_loss: 0.5219 - val_acc: 0.7979\n",
      "Epoch 7/25\n",
      " - 1s - loss: 0.4901 - acc: 0.8073 - val_loss: 0.5136 - val_acc: 0.8028\n",
      "Epoch 8/25\n",
      " - 1s - loss: 0.4776 - acc: 0.8144 - val_loss: 0.5083 - val_acc: 0.8050\n",
      "Epoch 9/25\n",
      " - 1s - loss: 0.4649 - acc: 0.8177 - val_loss: 0.5126 - val_acc: 0.8027\n",
      "Epoch 10/25\n",
      " - 1s - loss: 0.4552 - acc: 0.8199 - val_loss: 0.5086 - val_acc: 0.8059\n",
      "Epoch 11/25\n",
      " - 1s - loss: 0.4430 - acc: 0.8253 - val_loss: 0.5025 - val_acc: 0.8055\n",
      "Epoch 12/25\n",
      " - 1s - loss: 0.4353 - acc: 0.8278 - val_loss: 0.5041 - val_acc: 0.8082\n",
      "Epoch 13/25\n",
      " - 1s - loss: 0.4292 - acc: 0.8297 - val_loss: 0.5016 - val_acc: 0.8069\n",
      "Epoch 14/25\n",
      " - 1s - loss: 0.4167 - acc: 0.8348 - val_loss: 0.5007 - val_acc: 0.8100\n",
      "Epoch 15/25\n",
      " - 1s - loss: 0.4110 - acc: 0.8380 - val_loss: 0.5015 - val_acc: 0.8090\n",
      "Epoch 16/25\n",
      " - 1s - loss: 0.4036 - acc: 0.8380 - val_loss: 0.5032 - val_acc: 0.8108\n",
      "Epoch 17/25\n",
      " - 1s - loss: 0.3975 - acc: 0.8422 - val_loss: 0.5099 - val_acc: 0.8106\n",
      "Epoch 18/25\n",
      " - 1s - loss: 0.3892 - acc: 0.8457 - val_loss: 0.5054 - val_acc: 0.8105\n",
      "Epoch 19/25\n",
      " - 1s - loss: 0.3863 - acc: 0.8441 - val_loss: 0.5096 - val_acc: 0.8092\n",
      "Epoch 20/25\n",
      " - 1s - loss: 0.3758 - acc: 0.8508 - val_loss: 0.5120 - val_acc: 0.8091\n",
      "Epoch 21/25\n",
      " - 1s - loss: 0.3737 - acc: 0.8494 - val_loss: 0.5112 - val_acc: 0.8125\n",
      "Epoch 22/25\n",
      " - 1s - loss: 0.3682 - acc: 0.8529 - val_loss: 0.5122 - val_acc: 0.8135\n",
      "Epoch 23/25\n",
      " - 1s - loss: 0.3610 - acc: 0.8566 - val_loss: 0.5146 - val_acc: 0.8147\n",
      "Epoch 24/25\n",
      " - 1s - loss: 0.3578 - acc: 0.8559 - val_loss: 0.5144 - val_acc: 0.8138\n",
      "Epoch 25/25\n",
      " - 1s - loss: 0.3530 - acc: 0.8566 - val_loss: 0.5181 - val_acc: 0.8147\n"
     ]
    }
   ],
   "source": [
    "model3 = getModel(increasedDropout)\n",
    "net3 = model3.fit(X, y, epochs=25, batch_size=512, verbose=2, validation_split=0.2)"
   ]
  },
  {
   "cell_type": "code",
   "execution_count": 20,
   "metadata": {
    "nbpresent": {
     "id": "f248015c-df5d-47d3-86fd-073d8b0860a3"
    }
   },
   "outputs": [
    {
     "data": {
      "image/png": "[encoded data removed]",
      "text/plain": [
       "<Figure size 432x288 with 1 Axes>"
      ]
     },
     "metadata": {
      "needs_background": "light"
     },
     "output_type": "display_data"
    },
    {
     "name": "stdout",
     "output_type": "stream",
     "text": [
      "best validation loss 0.5007042589576738\n"
     ]
    }
   ],
   "source": [
    "valid_loss3 = np.array(net3.history[\"val_loss\"])\n",
    "plt.plot(valid_loss1, linewidth=3, label=\"The baseline\")\n",
    "plt.plot(valid_loss3, linewidth=3, label=\"Increased dropout & epoch\")\n",
    "plt.grid()\n",
    "plt.legend()\n",
    "plt.xlabel(\"epoch\")\n",
    "plt.ylabel(\"validation loss\")\n",
    "plt.xlim(0, 40)\n",
    "plt.ylim(0.47, 0.6)\n",
    "plt.yscale(\"log\")\n",
    "plt.show()\n",
    "print('best validation loss', min(valid_loss3))"
   ]
  },
  {
   "cell_type": "markdown",
   "metadata": {},
   "source": [
    "Try to improve performance further by adding neurons"
   ]
  },
  {
   "cell_type": "markdown",
   "metadata": {
    "nbpresent": {
     "id": "21f44c66-abe8-4ca0-b689-2abf7290d246"
    }
   },
   "source": [
    "# Increase number of neurons\n",
    "\n",
    "Increase number of neurons in the first hidden layer."
   ]
  },
  {
   "cell_type": "code",
   "execution_count": 21,
   "metadata": {
    "nbpresent": {
     "id": "0a6a6da6-7a04-4cfd-8030-34f14d1918ea"
    },
    "scrolled": false
   },
   "outputs": [
    {
     "name": "stdout",
     "output_type": "stream",
     "text": [
      "Train on 44702 samples, validate on 11176 samples\n",
      "Epoch 1/25\n",
      " - 2s - loss: 5.7394 - acc: 0.4995 - val_loss: 0.6476 - val_acc: 0.7594\n",
      "Epoch 2/25\n",
      " - 1s - loss: 0.6297 - acc: 0.7627 - val_loss: 0.5790 - val_acc: 0.7769\n",
      "Epoch 3/25\n",
      " - 1s - loss: 0.5708 - acc: 0.7807 - val_loss: 0.5410 - val_acc: 0.7904\n",
      "Epoch 4/25\n",
      " - 1s - loss: 0.5340 - acc: 0.7943 - val_loss: 0.5322 - val_acc: 0.7913\n",
      "Epoch 5/25\n",
      " - 1s - loss: 0.5094 - acc: 0.8030 - val_loss: 0.5223 - val_acc: 0.7963\n",
      "Epoch 6/25\n",
      " - 1s - loss: 0.4888 - acc: 0.8113 - val_loss: 0.5145 - val_acc: 0.8008\n",
      "Epoch 7/25\n",
      " - 1s - loss: 0.4680 - acc: 0.8163 - val_loss: 0.5032 - val_acc: 0.8059\n",
      "Epoch 8/25\n",
      " - 1s - loss: 0.4502 - acc: 0.8220 - val_loss: 0.5015 - val_acc: 0.8066\n",
      "Epoch 9/25\n",
      " - 1s - loss: 0.4374 - acc: 0.8271 - val_loss: 0.5094 - val_acc: 0.8048\n",
      "Epoch 10/25\n",
      " - 1s - loss: 0.4229 - acc: 0.8325 - val_loss: 0.5084 - val_acc: 0.8076\n",
      "Epoch 11/25\n",
      " - 1s - loss: 0.4086 - acc: 0.8366 - val_loss: 0.4961 - val_acc: 0.8122\n",
      "Epoch 12/25\n",
      " - 1s - loss: 0.3951 - acc: 0.8409 - val_loss: 0.5008 - val_acc: 0.8097\n",
      "Epoch 13/25\n",
      " - 1s - loss: 0.3841 - acc: 0.8472 - val_loss: 0.5000 - val_acc: 0.8080\n",
      "Epoch 14/25\n",
      " - 1s - loss: 0.3732 - acc: 0.8481 - val_loss: 0.5027 - val_acc: 0.8123\n",
      "Epoch 15/25\n",
      " - 2s - loss: 0.3638 - acc: 0.8554 - val_loss: 0.5099 - val_acc: 0.8074\n",
      "Epoch 16/25\n",
      " - 1s - loss: 0.3545 - acc: 0.8566 - val_loss: 0.5098 - val_acc: 0.8125\n",
      "Epoch 17/25\n",
      " - 1s - loss: 0.3445 - acc: 0.8587 - val_loss: 0.5195 - val_acc: 0.8096\n",
      "Epoch 18/25\n",
      " - 1s - loss: 0.3347 - acc: 0.8627 - val_loss: 0.5259 - val_acc: 0.8083\n",
      "Epoch 19/25\n",
      " - 1s - loss: 0.3302 - acc: 0.8650 - val_loss: 0.5275 - val_acc: 0.8129\n",
      "Epoch 20/25\n",
      " - 1s - loss: 0.3215 - acc: 0.8705 - val_loss: 0.5254 - val_acc: 0.8114\n",
      "Epoch 21/25\n",
      " - 1s - loss: 0.3129 - acc: 0.8736 - val_loss: 0.5258 - val_acc: 0.8126\n",
      "Epoch 22/25\n",
      " - 2s - loss: 0.3104 - acc: 0.8740 - val_loss: 0.5289 - val_acc: 0.8151\n",
      "Epoch 23/25\n",
      " - 2s - loss: 0.3003 - acc: 0.8794 - val_loss: 0.5356 - val_acc: 0.8127\n",
      "Epoch 24/25\n",
      " - 1s - loss: 0.2960 - acc: 0.8789 - val_loss: 0.5418 - val_acc: 0.8125\n",
      "Epoch 25/25\n",
      " - 1s - loss: 0.2912 - acc: 0.8820 - val_loss: 0.5394 - val_acc: 0.8145\n"
     ]
    }
   ],
   "source": [
    "increasedNeurons1 = 1000\n",
    "model4 = getModel(increasedDropout, neurons1=increasedNeurons1)\n",
    "net4 = model4.fit(X, y, epochs=25, batch_size=512, verbose=2, validation_split=0.2)"
   ]
  },
  {
   "cell_type": "code",
   "execution_count": 22,
   "metadata": {
    "nbpresent": {
     "id": "696ef53e-4019-4f1f-8cc4-786269febd64"
    },
    "scrolled": true
   },
   "outputs": [
    {
     "data": {
      "image/png": "[encoded data removed]",
      "text/plain": [
       "<Figure size 432x288 with 1 Axes>"
      ]
     },
     "metadata": {
      "needs_background": "light"
     },
     "output_type": "display_data"
    },
    {
     "name": "stdout",
     "output_type": "stream",
     "text": [
      "best validation loss 0.49614772646445926\n"
     ]
    }
   ],
   "source": [
    "valid_loss4 = net4.history[\"val_loss\"]\n",
    "plt.plot(valid_loss1, linewidth=3, label=\"The baseline\")\n",
    "plt.plot(valid_loss3, linewidth=3, label=\"Increased dropout & epoch\")\n",
    "plt.plot(valid_loss4, linewidth=3, label=\"Increased neurons\")\n",
    "plt.grid()\n",
    "plt.legend()\n",
    "plt.xlabel(\"epoch\")\n",
    "plt.ylabel(\"validation loss\")\n",
    "plt.xlim(0, 40)\n",
    "plt.ylim(0.47, 0.6)\n",
    "plt.yscale(\"log\")\n",
    "plt.show()\n",
    "print('best validation loss', min(valid_loss4))"
   ]
  },
  {
   "cell_type": "markdown",
   "metadata": {
    "nbpresent": {
     "id": "e4df500f-c9fc-494e-8e99-5eba98055ec9"
    }
   },
   "source": [
    "That is better, but we start overfitting around epoch 12. <br>"
   ]
  },
  {
   "cell_type": "markdown",
   "metadata": {
    "nbpresent": {
     "id": "a7b34497-c26a-4f4b-9ad4-ded1f752db13"
    }
   },
   "source": [
    "# Decrease learning rate\n",
    "\n",
    "To prevent overfitting decrease the learning rate."
   ]
  },
  {
   "cell_type": "code",
   "execution_count": 23,
   "metadata": {
    "nbpresent": {
     "id": "2be239bf-bf81-4233-84a4-49a6565de50d"
    },
    "scrolled": true
   },
   "outputs": [
    {
     "name": "stdout",
     "output_type": "stream",
     "text": [
      "Train on 44702 samples, validate on 11176 samples\n",
      "Epoch 1/30\n",
      " - 2s - loss: 0.7756 - acc: 0.7183 - val_loss: 0.6112 - val_acc: 0.7734\n",
      "Epoch 2/30\n",
      " - 1s - loss: 0.6081 - acc: 0.7686 - val_loss: 0.5770 - val_acc: 0.7805\n",
      "Epoch 3/30\n",
      " - 2s - loss: 0.5775 - acc: 0.7782 - val_loss: 0.5596 - val_acc: 0.7834\n",
      "Epoch 4/30\n",
      " - 1s - loss: 0.5548 - acc: 0.7873 - val_loss: 0.5511 - val_acc: 0.7870\n",
      "Epoch 5/30\n",
      " - 1s - loss: 0.5386 - acc: 0.7919 - val_loss: 0.5402 - val_acc: 0.7912\n",
      "Epoch 6/30\n",
      " - 1s - loss: 0.5299 - acc: 0.7959 - val_loss: 0.5362 - val_acc: 0.7907\n",
      "Epoch 7/30\n",
      " - 2s - loss: 0.5170 - acc: 0.8003 - val_loss: 0.5291 - val_acc: 0.7948\n",
      "Epoch 8/30\n",
      " - 2s - loss: 0.5073 - acc: 0.8023 - val_loss: 0.5245 - val_acc: 0.7953\n",
      "Epoch 9/30\n",
      " - 1s - loss: 0.4996 - acc: 0.8056 - val_loss: 0.5275 - val_acc: 0.7963\n",
      "Epoch 10/30\n",
      " - 2s - loss: 0.4931 - acc: 0.8094 - val_loss: 0.5199 - val_acc: 0.7991\n",
      "Epoch 11/30\n",
      " - 1s - loss: 0.4834 - acc: 0.8135 - val_loss: 0.5147 - val_acc: 0.7998\n",
      "Epoch 12/30\n",
      " - 2s - loss: 0.4775 - acc: 0.8147 - val_loss: 0.5107 - val_acc: 0.8014\n",
      "Epoch 13/30\n",
      " - 1s - loss: 0.4738 - acc: 0.8156 - val_loss: 0.5083 - val_acc: 0.8022\n",
      "Epoch 14/30\n",
      " - 1s - loss: 0.4661 - acc: 0.8173 - val_loss: 0.5096 - val_acc: 0.8012\n",
      "Epoch 15/30\n",
      " - 1s - loss: 0.4630 - acc: 0.8199 - val_loss: 0.5065 - val_acc: 0.8040\n",
      "Epoch 16/30\n",
      " - 1s - loss: 0.4570 - acc: 0.8222 - val_loss: 0.5033 - val_acc: 0.8057\n",
      "Epoch 17/30\n",
      " - 2s - loss: 0.4526 - acc: 0.8254 - val_loss: 0.5040 - val_acc: 0.8053\n",
      "Epoch 18/30\n",
      " - 2s - loss: 0.4467 - acc: 0.8261 - val_loss: 0.5026 - val_acc: 0.8057\n",
      "Epoch 19/30\n",
      " - 2s - loss: 0.4409 - acc: 0.8273 - val_loss: 0.5034 - val_acc: 0.8084\n",
      "Epoch 20/30\n",
      " - 2s - loss: 0.4385 - acc: 0.8287 - val_loss: 0.5000 - val_acc: 0.8057\n",
      "Epoch 21/30\n",
      " - 2s - loss: 0.4357 - acc: 0.8282 - val_loss: 0.4972 - val_acc: 0.8097\n",
      "Epoch 22/30\n",
      " - 1s - loss: 0.4295 - acc: 0.8320 - val_loss: 0.4971 - val_acc: 0.8109\n",
      "Epoch 23/30\n",
      " - 1s - loss: 0.4282 - acc: 0.8308 - val_loss: 0.4969 - val_acc: 0.8091\n",
      "Epoch 24/30\n",
      " - 2s - loss: 0.4243 - acc: 0.8346 - val_loss: 0.5008 - val_acc: 0.8091\n",
      "Epoch 25/30\n",
      " - 1s - loss: 0.4198 - acc: 0.8358 - val_loss: 0.4954 - val_acc: 0.8125\n",
      "Epoch 26/30\n",
      " - 2s - loss: 0.4158 - acc: 0.8377 - val_loss: 0.4986 - val_acc: 0.8100\n",
      "Epoch 27/30\n",
      " - 1s - loss: 0.4132 - acc: 0.8364 - val_loss: 0.4956 - val_acc: 0.8125\n",
      "Epoch 28/30\n",
      " - 1s - loss: 0.4102 - acc: 0.8386 - val_loss: 0.4952 - val_acc: 0.8107\n",
      "Epoch 29/30\n",
      " - 1s - loss: 0.4099 - acc: 0.8394 - val_loss: 0.4926 - val_acc: 0.8119\n",
      "Epoch 30/30\n",
      " - 1s - loss: 0.4069 - acc: 0.8403 - val_loss: 0.4950 - val_acc: 0.8128\n"
     ]
    }
   ],
   "source": [
    "model5 = getModel(increasedDropout, neurons1=increasedNeurons1, learningRate=0.008)\n",
    "net5 = model5.fit(X, y, epochs=30, batch_size=512, verbose=2, validation_split=0.2)"
   ]
  },
  {
   "cell_type": "code",
   "execution_count": 25,
   "metadata": {
    "nbpresent": {
     "id": "5754a0dd-3083-49bc-baff-f669dd566b4c"
    }
   },
   "outputs": [
    {
     "data": {
      "image/png": "[encoded data removed]",
      "text/plain": [
       "<Figure size 432x288 with 1 Axes>"
      ]
     },
     "metadata": {
      "needs_background": "light"
     },
     "output_type": "display_data"
    },
    {
     "name": "stdout",
     "output_type": "stream",
     "text": [
      "best validation loss 0.4925565438007745\n"
     ]
    }
   ],
   "source": [
    "valid_loss5 = net5.history[\"val_loss\"]\n",
    "plt.plot(valid_loss1, linewidth=3, label=\"The baseline\")\n",
    "plt.plot(valid_loss3, linewidth=3, label=\"Increased dropout & epoch\")\n",
    "plt.plot(valid_loss4, linewidth=3, label=\"Increased neurons\")\n",
    "plt.plot(valid_loss5, linewidth=3, label=\"Increased neurons & decr. learning rate\")\n",
    "plt.grid()\n",
    "plt.legend()\n",
    "plt.xlabel(\"epoch\")\n",
    "plt.ylabel(\"validation loss\")\n",
    "plt.xlim(0, 40)\n",
    "plt.ylim(0.47, 0.6)\n",
    "plt.yscale(\"log\")\n",
    "plt.show()\n",
    "print('best validation loss', min(valid_loss5))"
   ]
  },
  {
   "cell_type": "markdown",
   "metadata": {
    "nbpresent": {
     "id": "9bdfced1-2060-4294-ac62-c864b95be8f2"
    }
   },
   "source": [
    "Low learning rate smoothed down validation loss curve and improved prediction quality. \n",
    "Now there is a good balance between number of neurons, dropout and learning rate. <br>\n",
    "Note that other parameters could have been tuned too: number of layers, activation function etc."
   ]
  },
  {
   "cell_type": "markdown",
   "metadata": {},
   "source": [
    "<font color=blue>\n",
    "    \n",
    "**Assignment 1**  <br>\n",
    "Tune sequentially droput rate, number of epochs and number of neurons of the following network:\n",
    "\n",
    "![test_model6](https://ilykei.com/api/fileProxy/documents%2FAdvanced%20Machine%20Learning%2FLecture%207%20AdvML%2Ftest_model6.png)\n",
    "\n",
    "Try to improve 'best validation loss' at least by 0.02 compare to starting point (dropout rate = 0, optimizer=Adagrad(lr=0.04). <br>\n",
    "Do not change validation_split=0.2, optimizer and learning rate. \n",
    "\n",
    "![TunningPic1](https://ilykei.com/api/fileProxy/documents%2FAdvanced%20Machine%20Learning%2FLecture%207%20AdvML%2FTunningPic1.png)"
   ]
  },
  {
   "cell_type": "code",
   "execution_count": null,
   "metadata": {
    "scrolled": true
   },
   "outputs": [],
   "source": [
    "#Skipped code\n",
    "# Assignment 1\n"
   ]
  },
  {
   "cell_type": "markdown",
   "metadata": {},
   "source": [
    "# Tuning hyperparameters with grid search\n",
    "\n",
    "Keras sequential models (single-input only) can be used in `scikit-learn` by wrapping them with the `KerasClassifier` or `KerasRegressor` class.\n",
    "\n",
    "To use these wrappers you must define a function that creates and returns your Keras sequential model, then pass this function to the `build_fn` argument when constructing the `KerasClassifier` class. `build_fn` should construct, compile and return a Keras model, which will then be used to fit/predict. One of the following three values could be passed to build_fn:  \n",
    "\n",
    "- A function\n",
    "- An instance of a class that implements the call method\n",
    "- None. This means you implement a class that inherits from either KerasClassifier or KerasRegressor. The call method of the present class will then be treated as the default *build_fn*.\n",
    "\n",
    "E.g. we can create `KerasClassifier` instance with the above defined function `getModel` :"
   ]
  },
  {
   "cell_type": "code",
   "execution_count": 27,
   "metadata": {},
   "outputs": [],
   "source": [
    "model = KerasClassifier(build_fn=getModel)"
   ]
  },
  {
   "cell_type": "markdown",
   "metadata": {},
   "source": [
    "The constructor for the KerasClassifier class takes second argument   \n",
    "`ssk_params`: model parameters & fitting parameters.  \n",
    "We can pass there any legal model and fitting parameters. "
   ]
  },
  {
   "cell_type": "code",
   "execution_count": 28,
   "metadata": {},
   "outputs": [
    {
     "data": {
      "text/plain": [
       "{'epochs': 20,\n",
       " 'batch_size': 512,\n",
       " 'verbose': 0,\n",
       " 'build_fn': <function __main__.getModel(dropout=0.1, neurons1=500, neurons2=250, learningRate=0.04)>}"
      ]
     },
     "execution_count": 28,
     "metadata": {},
     "output_type": "execute_result"
    }
   ],
   "source": [
    "model = KerasClassifier(build_fn=getModel, epochs=20, batch_size=512, verbose=0)\n",
    "model.get_params()"
   ]
  },
  {
   "cell_type": "markdown",
   "metadata": {},
   "source": [
    "Since it is now scikit-learn Classifier, we can use Grid search - a model hyperparameter optimization technique provided in scikit-learn GridSearchCV class.  \n",
    "\n",
    "When constructing this class we provide a dictionary of hyperparameters to evaluate in the `param_grid` argument.\n",
    "\n",
    "By default, the grid search will only use one thread. <br>\n",
    "By setting the `n_jobs` argument in the `GridSearchCV` constructor to -1, the process will use all cores on your machine. <br>\n",
    "If `n_jobs` was set to a value higher than one, the data are copied for each point in the grid (and not `n_jobs` times). <br>\n",
    "This is done for efficiency if individual jobs take very little time, but may raise errors if the dataset is large and there is not enough memory available. <br>\n",
    "A workaround in this case is to set pre_dispatch. <br>\n",
    "Then, the memory is copied only pre_dispatch many times. <br>\n",
    "A reasonable value for pre_dispatch is $2~\\times~$n_jobs.\n",
    "\n",
    "The `GridSearchCV` process will then construct and evaluate one model for each combination of parameters. <br>\n",
    "Cross validation is used to evaluate each individual model and the default of 3-fold cross validation is used, although this can be overridden by specifying the cv argument to the `GridSearchCV` constructor.  \n",
    "\n",
    "We set \"neg_log_loss\" (negative logloss) as a scoring measure since  `GridSearchCV` is trying to maximize score."
   ]
  },
  {
   "cell_type": "code",
   "execution_count": 29,
   "metadata": {},
   "outputs": [],
   "source": [
    "# define the grid search parameters\n",
    "param_grid = dict(dropout=[0.1, 0.2, 0.3], neurons1=[300, 500, 700])\n",
    "\n",
    "grid = GridSearchCV(estimator=model, param_grid=param_grid, \n",
    "                    scoring=\"neg_log_loss\", n_jobs=1)\n"
   ]
  },
  {
   "cell_type": "code",
   "execution_count": 31,
   "metadata": {},
   "outputs": [
    {
     "name": "stderr",
     "output_type": "stream",
     "text": [
      "/Users/joshuagoldberg/anaconda3/lib/python3.6/site-packages/sklearn/model_selection/_split.py:2053: FutureWarning: You should specify a value for 'cv' instead of relying on the default value. The default value will change from 3 to 5 in version 0.22.\n",
      "  warnings.warn(CV_WARNING, FutureWarning)\n"
     ]
    }
   ],
   "source": [
    "grid_result = grid.fit(X, y)"
   ]
  },
  {
   "cell_type": "markdown",
   "metadata": {},
   "source": [
    "We can extract results from `grid_result` attribute `cv_results_`. \n",
    "\n",
    "Recall that we were maximizing negative logloss. So, we output `-mean`  as logloss mean."
   ]
  },
  {
   "cell_type": "code",
   "execution_count": 32,
   "metadata": {
    "scrolled": true
   },
   "outputs": [
    {
     "name": "stdout",
     "output_type": "stream",
     "text": [
      "Best: 0.524630 using {'dropout': 0.3, 'neurons1': 300}\n",
      "0.604970 (0.009914) with: {'dropout': 0.1, 'neurons1': 300}\n",
      "0.663719 (0.008542) with: {'dropout': 0.1, 'neurons1': 500}\n",
      "0.672649 (0.006981) with: {'dropout': 0.1, 'neurons1': 700}\n",
      "0.554974 (0.007766) with: {'dropout': 0.2, 'neurons1': 300}\n",
      "0.583003 (0.004900) with: {'dropout': 0.2, 'neurons1': 500}\n",
      "0.600827 (0.007651) with: {'dropout': 0.2, 'neurons1': 700}\n",
      "0.524630 (0.005670) with: {'dropout': 0.3, 'neurons1': 300}\n",
      "0.543552 (0.003182) with: {'dropout': 0.3, 'neurons1': 500}\n",
      "0.545685 (0.006487) with: {'dropout': 0.3, 'neurons1': 700}\n"
     ]
    }
   ],
   "source": [
    "# summarize results\n",
    "print(\"Best: %f using %s\" % (-grid_result.best_score_, grid_result.best_params_))\n",
    "means = grid_result.cv_results_['mean_test_score']\n",
    "stds = grid_result.cv_results_['std_test_score']\n",
    "params = grid_result.cv_results_['params']\n",
    "for mean, stdev, param in zip(means, stds, params):\n",
    "    print(\"%f (%f) with: %r\" % (-mean, stdev, param))\n"
   ]
  },
  {
   "cell_type": "markdown",
   "metadata": {},
   "source": [
    "# Selecting Optimization Algorithm\n",
    "\n",
    "Grid search may be applied not only to numerical parameters. \n",
    "\n",
    "We can find the best optimizer using it."
   ]
  },
  {
   "cell_type": "code",
   "execution_count": 33,
   "metadata": {},
   "outputs": [],
   "source": [
    "def getModel1(dropout=0.1, neurons1=500, neurons2=250,optimizer=\"Adagrad\"):\n",
    "    np.random.seed(1)\n",
    "    model = Sequential()\n",
    "    model.add(Dense(neurons1, activation='relu', input_dim=num_features))\n",
    "    model.add(Dropout(dropout))\n",
    "    model.add(Dense(neurons2, activation='relu'))\n",
    "    model.add(Dropout(dropout))\n",
    "    model.add(Dense(num_classes, activation='softmax'))\n",
    "    model.compile(loss='categorical_crossentropy',\n",
    "                  optimizer=optimizer, metrics=['accuracy'])\n",
    "    return model\n",
    "\n",
    "\n",
    "optimizer = ['SGD', 'RMSprop', 'Adagrad', 'Adadelta', 'Adam', 'Adamax', 'Nadam']\n",
    "# create model\n",
    "model = KerasClassifier(build_fn=getModel1, dropout=0.3, neurons1=300,\n",
    "                        epochs=20, batch_size=512, verbose=0)\n",
    "# define the grid search parameters\n",
    "\n",
    "grid = GridSearchCV(estimator=model, param_grid=dict(optimizer=optimizer),\n",
    "                    scoring=\"neg_log_loss\",n_jobs=1)\n"
   ]
  },
  {
   "cell_type": "code",
   "execution_count": 23,
   "metadata": {
    "scrolled": true
   },
   "outputs": [
    {
     "name": "stdout",
     "output_type": "stream",
     "text": [
      "Best: 0.512019 using {'optimizer': 'Adam'}\n",
      "0.746024 (0.002902) with: {'optimizer': 'SGD'}\n",
      "0.515591 (0.002480) with: {'optimizer': 'RMSprop'}\n",
      "0.522140 (0.002009) with: {'optimizer': 'Adagrad'}\n",
      "0.519864 (0.001241) with: {'optimizer': 'Adadelta'}\n",
      "0.512019 (0.002401) with: {'optimizer': 'Adam'}\n",
      "0.518393 (0.001063) with: {'optimizer': 'Adamax'}\n",
      "0.522720 (0.004061) with: {'optimizer': 'Nadam'}\n"
     ]
    }
   ],
   "source": [
    "grid_result = grid.fit(X, y)\n",
    "# summarize results\n",
    "print(\"Best: %f using %s\" % (-grid_result.best_score_, grid_result.best_params_))\n",
    "means = grid_result.cv_results_['mean_test_score']\n",
    "stds = grid_result.cv_results_['std_test_score']\n",
    "params = grid_result.cv_results_['params']\n",
    "for mean, stdev, param in zip(means, stds, params):\n",
    "    print(\"%f (%f) with: %r\" % (-mean, stdev, param))"
   ]
  }
 ],
 "metadata": {
  "anaconda-cloud": {},
  "kernelspec": {
   "display_name": "Python 3",
   "language": "python",
   "name": "python3"
  },
  "language_info": {
   "codemirror_mode": {
    "name": "ipython",
    "version": 3
   },
   "file_extension": ".py",
   "mimetype": "text/x-python",
   "name": "python",
   "nbconvert_exporter": "python",
   "pygments_lexer": "ipython3",
   "version": "3.6.7"
  },
  "latex_envs": {
   "LaTeX_envs_menu_present": true,
   "autoclose": false,
   "autocomplete": true,
   "bibliofile": "biblio.bib",
   "cite_by": "apalike",
   "current_citInitial": 1,
   "eqLabelWithNumbers": true,
   "eqNumInitial": 1,
   "hotkeys": {
    "equation": "Ctrl-E",
    "itemize": "Ctrl-I"
   },
   "labels_anchors": false,
   "latex_user_defs": false,
   "report_style_numbering": false,
   "user_envs_cfg": false
  },
  "varInspector": {
   "cols": {
    "lenName": 16,
    "lenType": 16,
    "lenVar": 40
   },
   "kernels_config": {
    "python": {
     "delete_cmd_postfix": "",
     "delete_cmd_prefix": "del ",
     "library": "var_list.py",
     "varRefreshCmd": "print(var_dic_list())"
    },
    "r": {
     "delete_cmd_postfix": ") ",
     "delete_cmd_prefix": "rm(",
     "library": "var_list.r",
     "varRefreshCmd": "cat(var_dic_list()) "
    }
   },
   "position": {
    "height": "541px",
    "left": "1327px",
    "right": "20px",
    "top": "120px",
    "width": "332px"
   },
   "types_to_exclude": [
    "module",
    "function",
    "builtin_function_or_method",
    "instance",
    "_Feature"
   ],
   "window_display": true
  }
 },
 "nbformat": 4,
 "nbformat_minor": 1
}
