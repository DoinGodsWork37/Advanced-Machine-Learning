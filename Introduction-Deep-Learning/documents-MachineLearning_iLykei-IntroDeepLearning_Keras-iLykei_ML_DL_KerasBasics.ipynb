{
 "cells": [
  {
   "cell_type": "markdown",
   "metadata": {
    "collapsed": true,
    "nbpresent": {
     "id": "f765eb10-54e6-4a14-912b-e5117e8f433d"
    }
   },
   "source": [
    "# iLykei Lecture Series\n",
    "\n",
    "# Machine Learning\n",
    "\n",
    "# Introduction to Deep Learning\n",
    "\n",
    "# Introduction to Keras\n",
    "\n",
    "## Yuri Balasanov, Leonid Nazarov, &copy; iLykei 2017-2018\n",
    "\n",
    "\n",
    "Keras is an open source neural network library written in Python. It is capable of running on top of one of several libraries (backends): MXNet, Deeplearning4j, Tensorflow, CNTK or Theano. Designed to enable fast experimentation with deep neural networks, it focuses on being minimal, modular and extensible. It was developed as part of the research effort of project ONEIROS (Open-ended Neuro-Electronic Intelligent Robot Operating System), and its primary author and maintainer is François Chollet, a Google engineer.\n",
    "\n",
    "Keras is a very simple and user friendly modular API that allows managing and organizing layers of neural network in a much easier way than TensorFlow."
   ]
  },
  {
   "cell_type": "markdown",
   "metadata": {},
   "source": [
    "# Sequential model\n",
    "\n",
    "The core data structure of Keras is **model**, a way to organize layers of the neural network. <br>\n",
    "\n",
    "The simplest type of model is the Sequential model, a linear stack of layers.<br>\n",
    "\n",
    "Design a simple neural network with one hidden layer consisting of 3 neurons.  \n",
    "\n",
    "First, define the type of the model."
   ]
  },
  {
   "cell_type": "code",
   "execution_count": 1,
   "metadata": {
    "scrolled": true
   },
   "outputs": [
    {
     "name": "stderr",
     "output_type": "stream",
     "text": [
      "Using TensorFlow backend.\n"
     ]
    }
   ],
   "source": [
    "%matplotlib inline\n",
    "from keras.models import Sequential\n",
    "from keras.layers import Dense, Dropout, Activation, Flatten\n",
    "\n",
    "model =  Sequential() # create model"
   ]
  },
  {
   "cell_type": "markdown",
   "metadata": {
    "collapsed": true
   },
   "source": [
    "Specify the first (hidden) layer."
   ]
  },
  {
   "cell_type": "code",
   "execution_count": 3,
   "metadata": {},
   "outputs": [],
   "source": [
    "model.add(Dense(units=3, input_dim=30)) # add hidden layer"
   ]
  },
  {
   "cell_type": "markdown",
   "metadata": {},
   "source": [
    "Alternative way of calling the same function creating hidden layer is: <br>\n",
    "\n",
    "`model.add(Dense(3, input_dim=30, activation='relu')).` <br>\n",
    "\n",
    "Difference between the two is activation type that can be added separately or inside `model.add` method.\n",
    "\n",
    "Parameter `input_dim` sets number of inputs (predictors). <br>\n",
    "Parameter `activation` is set to `relu` which is a common [activation function](https://en.wikipedia.org/wiki/Rectifier_(neural_networks)) for neural networks.\n",
    "\n",
    "Input layer is not explicitly created. Instead, only number of neurons (features) that feed into the first hidden layer, needs to be specified (30 for the Wisconsin Breast Cancer Dataset considered in this notebook). \n",
    "\n",
    "There is also no need to worry about the input dimensions for subsequent layers: neurons in the previous layer form input for the next layer. The output dimension of the first hidden layer is equal to 3. "
   ]
  },
  {
   "cell_type": "markdown",
   "metadata": {},
   "source": [
    "Selection of activation function for the hidden layer can be done from the list of available activations, providing formulas for the most popular ones: \n",
    "\n",
    "- softmax(x) :   $f_{i}(x)=\\frac{e^{x_{i}}}{\\sum_{i=1}^{n}e^{x_{i}}},i=1,...,n$\n",
    "- elu(x)\n",
    "- selu(x)\n",
    "- softplus(x) = $ln(1 + e^{x})$\n",
    "- softsign(x) = $\\frac {x}{1+|x|}$\n",
    "- relu(x) = $max(0,x)$; (those familiar with options trading will recognize call option payof function in `relu`)\n",
    "- tanh(x) \n",
    "- sigmoid(x) = $\\frac {1}{1+e^{-x}}$\n",
    "- hard_sigmoid(x)\n",
    "- linear(x) = $x$\n",
    "- LeakyReLU(x,alpha) = $max(\\alpha *x,x)$\n",
    "\n",
    "Activation function 'relu' has earned significant popularity recently because it usually provides faster convergence relative to 'tanh' or 'sigmoid'.\n",
    "\n",
    "Since activation was not specified in the previous cell add it now."
   ]
  },
  {
   "cell_type": "code",
   "execution_count": 4,
   "metadata": {},
   "outputs": [],
   "source": [
    "model.add(Activation('relu'))"
   ]
  },
  {
   "cell_type": "markdown",
   "metadata": {},
   "source": [
    "Add output layer with 1 neuron and 'sigmoid' activation function producing predictive probability for Class 1."
   ]
  },
  {
   "cell_type": "code",
   "execution_count": 5,
   "metadata": {},
   "outputs": [],
   "source": [
    "# output layer for binary classification\n",
    "model.add(Dense(units=1))\n",
    "model.add(Activation('sigmoid'))"
   ]
  },
  {
   "cell_type": "markdown",
   "metadata": {},
   "source": [
    "The following plot displays the nework architecture for Wisconsin breast cancer example and explains the nature of **Dense** (fully connected) layer: each neuron of it is connected with all units of the next layer.\n",
    " \n",
    "![Model plot](https://ilykei.com/api/fileProxy/documents%2FAdvanced%20Machine%20Learning%2FLecture%207%20AdvML%2FR_nn_plot.png)\n",
    "\n",
    "The picture was created with function *plot()* from R **neuralnet** package. <br>\n",
    "\n",
    "Keras has tools for model visualization of its own. \n",
    "\n",
    "Module `keras.utils.vis_utils` provides utility functions to plot a Keras model (using **graphviz**). \n",
    "Unlike the R function used above this utility does not show neurons. It describes network in terms of layers.   \n",
    "\n",
    "The code below plots another graph of the same network model: "
   ]
  },
  {
   "cell_type": "code",
   "execution_count": 7,
   "metadata": {},
   "outputs": [
    {
     "data": {
      "image/svg+xml": [
       "<svg height=\"410pt\" viewBox=\"0.00 0.00 160.00 410.00\" width=\"160pt\" xmlns=\"http://www.w3.org/2000/svg\" xmlns:xlink=\"http://www.w3.org/1999/xlink\">\n",
       "<g class=\"graph\" id=\"graph0\" transform=\"scale(1 1) rotate(0) translate(4 406)\">\n",
       "<title>G</title>\n",
       "<polygon fill=\"#ffffff\" points=\"-4,4 -4,-406 156,-406 156,4 -4,4\" stroke=\"transparent\"/>\n",
       "<!-- 4344736624 -->\n",
       "<g class=\"node\" id=\"node1\">\n",
       "<title>4344736624</title>\n",
       "<polygon fill=\"none\" points=\"23.5,-292.5 23.5,-328.5 128.5,-328.5 128.5,-292.5 23.5,-292.5\" stroke=\"#000000\"/>\n",
       "<text fill=\"#000000\" font-family=\"Times,serif\" font-size=\"14.00\" text-anchor=\"middle\" x=\"76\" y=\"-306.8\">dense_1: Dense</text>\n",
       "</g>\n",
       "<!-- 47811616328 -->\n",
       "<g class=\"node\" id=\"node2\">\n",
       "<title>47811616328</title>\n",
       "<polygon fill=\"none\" points=\"23.5,-219.5 23.5,-255.5 128.5,-255.5 128.5,-219.5 23.5,-219.5\" stroke=\"#000000\"/>\n",
       "<text fill=\"#000000\" font-family=\"Times,serif\" font-size=\"14.00\" text-anchor=\"middle\" x=\"76\" y=\"-233.8\">dense_2: Dense</text>\n",
       "</g>\n",
       "<!-- 4344736624&#45;&gt;47811616328 -->\n",
       "<g class=\"edge\" id=\"edge2\">\n",
       "<title>4344736624-&gt;47811616328</title>\n",
       "<path d=\"M76,-292.4551C76,-284.3828 76,-274.6764 76,-265.6817\" fill=\"none\" stroke=\"#000000\"/>\n",
       "<polygon fill=\"#000000\" points=\"79.5001,-265.5903 76,-255.5904 72.5001,-265.5904 79.5001,-265.5903\" stroke=\"#000000\"/>\n",
       "</g>\n",
       "<!-- 4344736792 -->\n",
       "<g class=\"node\" id=\"node3\">\n",
       "<title>4344736792</title>\n",
       "<polygon fill=\"none\" points=\"0,-146.5 0,-182.5 152,-182.5 152,-146.5 0,-146.5\" stroke=\"#000000\"/>\n",
       "<text fill=\"#000000\" font-family=\"Times,serif\" font-size=\"14.00\" text-anchor=\"middle\" x=\"76\" y=\"-160.8\">activation_1: Activation</text>\n",
       "</g>\n",
       "<!-- 47811616328&#45;&gt;4344736792 -->\n",
       "<g class=\"edge\" id=\"edge3\">\n",
       "<title>47811616328-&gt;4344736792</title>\n",
       "<path d=\"M76,-219.4551C76,-211.3828 76,-201.6764 76,-192.6817\" fill=\"none\" stroke=\"#000000\"/>\n",
       "<polygon fill=\"#000000\" points=\"79.5001,-192.5903 76,-182.5904 72.5001,-192.5904 79.5001,-192.5903\" stroke=\"#000000\"/>\n",
       "</g>\n",
       "<!-- 47811911520 -->\n",
       "<g class=\"node\" id=\"node4\">\n",
       "<title>47811911520</title>\n",
       "<polygon fill=\"none\" points=\"23.5,-73.5 23.5,-109.5 128.5,-109.5 128.5,-73.5 23.5,-73.5\" stroke=\"#000000\"/>\n",
       "<text fill=\"#000000\" font-family=\"Times,serif\" font-size=\"14.00\" text-anchor=\"middle\" x=\"76\" y=\"-87.8\">dense_3: Dense</text>\n",
       "</g>\n",
       "<!-- 4344736792&#45;&gt;47811911520 -->\n",
       "<g class=\"edge\" id=\"edge4\">\n",
       "<title>4344736792-&gt;47811911520</title>\n",
       "<path d=\"M76,-146.4551C76,-138.3828 76,-128.6764 76,-119.6817\" fill=\"none\" stroke=\"#000000\"/>\n",
       "<polygon fill=\"#000000\" points=\"79.5001,-119.5903 76,-109.5904 72.5001,-119.5904 79.5001,-119.5903\" stroke=\"#000000\"/>\n",
       "</g>\n",
       "<!-- 47811910400 -->\n",
       "<g class=\"node\" id=\"node5\">\n",
       "<title>47811910400</title>\n",
       "<polygon fill=\"none\" points=\"0,-.5 0,-36.5 152,-36.5 152,-.5 0,-.5\" stroke=\"#000000\"/>\n",
       "<text fill=\"#000000\" font-family=\"Times,serif\" font-size=\"14.00\" text-anchor=\"middle\" x=\"76\" y=\"-14.8\">activation_2: Activation</text>\n",
       "</g>\n",
       "<!-- 47811911520&#45;&gt;47811910400 -->\n",
       "<g class=\"edge\" id=\"edge5\">\n",
       "<title>47811911520-&gt;47811910400</title>\n",
       "<path d=\"M76,-73.4551C76,-65.3828 76,-55.6764 76,-46.6817\" fill=\"none\" stroke=\"#000000\"/>\n",
       "<polygon fill=\"#000000\" points=\"79.5001,-46.5903 76,-36.5904 72.5001,-46.5904 79.5001,-46.5903\" stroke=\"#000000\"/>\n",
       "</g>\n",
       "<!-- 47810193560 -->\n",
       "<g class=\"node\" id=\"node6\">\n",
       "<title>47810193560</title>\n",
       "<polygon fill=\"none\" points=\"29,-365.5 29,-401.5 123,-401.5 123,-365.5 29,-365.5\" stroke=\"#000000\"/>\n",
       "<text fill=\"#000000\" font-family=\"Times,serif\" font-size=\"14.00\" text-anchor=\"middle\" x=\"76\" y=\"-379.8\">47810193560</text>\n",
       "</g>\n",
       "<!-- 47810193560&#45;&gt;4344736624 -->\n",
       "<g class=\"edge\" id=\"edge1\">\n",
       "<title>47810193560-&gt;4344736624</title>\n",
       "<path d=\"M76,-365.4551C76,-357.3828 76,-347.6764 76,-338.6817\" fill=\"none\" stroke=\"#000000\"/>\n",
       "<polygon fill=\"#000000\" points=\"79.5001,-338.5903 76,-328.5904 72.5001,-338.5904 79.5001,-338.5903\" stroke=\"#000000\"/>\n",
       "</g>\n",
       "</g>\n",
       "</svg>"
      ],
      "text/plain": [
       "<IPython.core.display.SVG object>"
      ]
     },
     "execution_count": 7,
     "metadata": {},
     "output_type": "execute_result"
    }
   ],
   "source": [
    "from IPython.display import SVG\n",
    "from keras.utils.vis_utils import model_to_dot\n",
    "\n",
    "SVG(model_to_dot(model).create(prog='dot', format='svg'))"
   ]
  },
  {
   "cell_type": "markdown",
   "metadata": {},
   "source": [
    " Another way is to save the diagram to a file and then plot it with the function `plot_model` which takes two optional arguments:\n",
    "- `show_shapes` (defaults to False) controls whether output shapes are shown in the graph.\n",
    "- `show_layer_names` (defaults to True) controls whether layer names are shown in the graph."
   ]
  },
  {
   "cell_type": "code",
   "execution_count": 8,
   "metadata": {},
   "outputs": [],
   "source": [
    "from keras.utils import plot_model\n",
    "plot_model(model, to_file='model1.png',show_shapes=True,show_layer_names=True)"
   ]
  },
  {
   "cell_type": "markdown",
   "metadata": {},
   "source": [
    "Here is the plot of the the same network model with additional information loaded from the file *model1.png* using a line of markdown code:\n",
    "\n",
    "\"! [model] (./Path to model)\"\n",
    "\n",
    "The resulting plot is:\n",
    "\n",
    "![Model plot](https://ilykei.com/api/fileProxy/documents%2FAdvanced%20Machine%20Learning%2FLecture%207%20AdvML%2Fmodel1.png)\n",
    "\n",
    "Summary of the model can also be shown including layers types, shapes and the number of parameters:"
   ]
  },
  {
   "cell_type": "code",
   "execution_count": 9,
   "metadata": {
    "scrolled": true
   },
   "outputs": [
    {
     "name": "stdout",
     "output_type": "stream",
     "text": [
      "_________________________________________________________________\n",
      "Layer (type)                 Output Shape              Param #   \n",
      "=================================================================\n",
      "dense_1 (Dense)              (None, 3)                 93        \n",
      "_________________________________________________________________\n",
      "dense_2 (Dense)              (None, 3)                 12        \n",
      "_________________________________________________________________\n",
      "activation_1 (Activation)    (None, 3)                 0         \n",
      "_________________________________________________________________\n",
      "dense_3 (Dense)              (None, 1)                 4         \n",
      "_________________________________________________________________\n",
      "activation_2 (Activation)    (None, 1)                 0         \n",
      "=================================================================\n",
      "Total params: 109\n",
      "Trainable params: 109\n",
      "Non-trainable params: 0\n",
      "_________________________________________________________________\n",
      "None\n"
     ]
    }
   ],
   "source": [
    "print(model.summary())"
   ]
  },
  {
   "cell_type": "markdown",
   "metadata": {},
   "source": [
    "Use more compact syntax for describing the same Sequential network: "
   ]
  },
  {
   "cell_type": "code",
   "execution_count": 10,
   "metadata": {},
   "outputs": [],
   "source": [
    "model =  Sequential()\n",
    "model.add(Dense(3, input_dim=30,activation='relu'))\n",
    "model.add(Dense(1,activation='sigmoid'))"
   ]
  },
  {
   "cell_type": "markdown",
   "metadata": {},
   "source": [
    "or even define the model in one line."
   ]
  },
  {
   "cell_type": "code",
   "execution_count": 11,
   "metadata": {},
   "outputs": [],
   "source": [
    "model = Sequential([Dense(3, input_dim=30),Activation('relu'),\n",
    "    Dense(1),Activation('sigmoid')])"
   ]
  },
  {
   "cell_type": "markdown",
   "metadata": {},
   "source": [
    "# More complex architectures \n",
    "\n",
    "## Functional API\n",
    "\n",
    "Keras' functional API provides tools for defining more complex models, such as multi-output models, directed acyclic graphs, or models with shared layers. \n",
    "\n",
    "Models are defined by creating instances of layers and connecting them directly to each other pair by pair, then defining a model that specifies the layers to act as the input and output to the model.\n",
    "\n",
    "Define the simple model as above using functional API. \n",
    "\n",
    "Start with the input layer. Recall that input layer was not explicitly created in sequential model. Here it must be created and defined as a standalone Input layer that specifies the shape of input data.\n",
    "\n",
    "The input layer takes shape (tensor shape) argument that is a tuple that indicates the dimensionality of the input data.\n",
    "\n",
    "The shape must explicitly leave room for the mini-batch size used when splitting the data during training process. \n",
    "\n",
    "Therefore, the shape tuple is always defined with a hanging last dimension:"
   ]
  },
  {
   "cell_type": "code",
   "execution_count": 12,
   "metadata": {},
   "outputs": [
    {
     "data": {
      "text/plain": [
       "<tf.Tensor 'input_1:0' shape=(?, 30) dtype=float32>"
      ]
     },
     "execution_count": 12,
     "metadata": {},
     "output_type": "execute_result"
    }
   ],
   "source": [
    "from keras.layers import Input\n",
    "\n",
    "# This returns a tensor\n",
    "inputs = Input(shape=(30,))\n",
    "inputs"
   ]
  },
  {
   "cell_type": "markdown",
   "metadata": {},
   "source": [
    "A layer instance is callable (on a tensor), and it returns a tensor. The layers in the model are connected pairwise. <br>\n",
    "This is done by specifying where the input comes from when defining each new layer. \n",
    "\n",
    "The following line of code states that the input of Dense layer `hidden_1` comes from `inputs`. <br> "
   ]
  },
  {
   "cell_type": "code",
   "execution_count": 13,
   "metadata": {},
   "outputs": [],
   "source": [
    "hidden = Dense(3, activation='relu',name='hidden_1')(inputs)"
   ]
  },
  {
   "cell_type": "markdown",
   "metadata": {},
   "source": [
    "Parameter `name` is optional. It can be used to pass a name of any layer as an argument.\n",
    "\n",
    "Define the output layer and create a model."
   ]
  },
  {
   "cell_type": "code",
   "execution_count": 14,
   "metadata": {},
   "outputs": [],
   "source": [
    "from keras.models import Model\n",
    "output = Dense(1, activation='sigmoid')(hidden)\n",
    "model_API = Model(inputs=inputs, outputs=output)"
   ]
  },
  {
   "cell_type": "markdown",
   "metadata": {},
   "source": [
    "Model class is used to create a model from layers. It requires only the input and output layers specifications.\n",
    "\n",
    "Here is the model we built.\n",
    "![model_API](https://ilykei.com/api/fileProxy/documents%2FAdvanced%20Machine%20Learning%2FLecture%207%20AdvML%2Fmodel_API.png)  "
   ]
  },
  {
   "cell_type": "markdown",
   "metadata": {},
   "source": [
    "\n",
    "## Concatenating inputs\n",
    "\n",
    "Consider now more complex models. \n",
    "\n",
    "Sometimes in more complex models inputs from a list need to be *concatenated*.\n",
    "\n",
    "Input is a list of tensors and the result is a single tensor: concatenation of all inputs from the list. \n",
    "\n",
    "All tensors must have the same shape except for the concatenation axis. <br>\n",
    "The meaning of this condition can be illustrated on a simple example of tensors of rank 2 which are matrices. <br>\n",
    "\n",
    "Consider, for example, 2 matrices $A,~B$ with the same number of columns, but different number of rows:\n",
    "\n",
    "$$A=\\left(\\begin{array}{cc} \n",
    "a_{11} & a_{12} & a_{13} & a_{14} \\\\\n",
    "a_{21} & a_{22} & a_{23} & a_{24} \\\\\n",
    "a_{31} & a_{32} & a_{33} & a_{34}\n",
    "\\end{array}\\right)\n",
    "$$\n",
    "\n",
    "$$B=\\left(\\begin{array}{cc} \n",
    "b_{11} & b_{12} & b_{13} & b_{14} \\\\\n",
    "b_{21} & b_{22} & b_{23} & b_{24} \\\\\n",
    "b_{31} & b_{32} & b_{33} & b_{34} \\\\\n",
    "b_{41} & b_{42} & b_{43} & b_{44} \\\\\n",
    "b_{51} & b_{52} & b_{53} & b_{54}\n",
    "\\end{array}\\right)\n",
    "$$\n",
    "\n",
    "These matrices as inputs can be concatenated by first dimension (axis), i.e. by appending rows of $B$ to rows of $A$:\n",
    "\n",
    "$$\\left(\\begin{array}{cc} \n",
    "a_{11} & a_{12} & a_{13} & a_{14} \\\\\n",
    "a_{21} & a_{22} & a_{23} & a_{24} \\\\\n",
    "a_{31} & a_{32} & a_{33} & a_{34} \\\\\n",
    "b_{11} & b_{12} & b_{13} & b_{14} \\\\\n",
    "b_{21} & b_{22} & b_{23} & b_{24} \\\\\n",
    "b_{31} & b_{32} & b_{33} & b_{34} \\\\\n",
    "b_{41} & b_{42} & b_{43} & b_{44} \\\\\n",
    "b_{51} & b_{52} & b_{53} & b_{54}\n",
    "\\end{array}\\right)\n",
    "$$\n",
    "\n",
    "But they cannot be concatenated by the second dimension: columns of $A$ cannot be concatenated with columns of $B$ because the numbers of rows are different.\n",
    "\n",
    "Build a model with two inputs using layer of concatenated inputs."
   ]
  },
  {
   "cell_type": "code",
   "execution_count": 15,
   "metadata": {},
   "outputs": [],
   "source": [
    "from keras.layers import concatenate\n",
    "input1 = Input(shape=(10,), name='input_1')\n",
    "hidden = Dense(3, activation='relu',name='hidden1')(input1)\n",
    "input2 = Input(shape=(5,), name='input_2')\n",
    "merge = concatenate([hidden,input2], name='merge')\n",
    "hidden2 = Dense(3, activation='relu',name='hidden2')(merge)\n",
    "output = Dense(1, activation='sigmoid')(hidden2)\n",
    "model_2_inputs = Model(inputs=[input1,input2], outputs=output)\n",
    "plot_model(model_2_inputs, to_file='model_2_inputs.png',show_shapes=True,show_layer_names=True)"
   ]
  },
  {
   "cell_type": "markdown",
   "metadata": {},
   "source": [
    "Here is the result.\n",
    "![model_2_inputs](https://ilykei.com/api/fileProxy/documents%2FAdvanced%20Machine%20Learning%2FLecture%207%20AdvML%2Fmodel_2_inputs.png)  \n",
    "\n",
    "## Shared layers\n",
    "\n",
    "Another way of adding flexibility to network design is shared layers.\n",
    "\n",
    "To share a layer across different inputs, simply instantiate the layer once, then call it on as many inputs as necessary:"
   ]
  },
  {
   "cell_type": "code",
   "execution_count": 16,
   "metadata": {},
   "outputs": [],
   "source": [
    "input1 = Input(shape=(8,), name='input_1')\n",
    "input2 = Input(shape=(8,), name='input_2')\n",
    "shared = Dense(5, activation='relu',name='shared')\n",
    "x1 = shared(input1)\n",
    "x2 = shared(input2)\n",
    "output1 = Dense(1, activation='sigmoid', name='output_1')(x1)\n",
    "output2 = Dense(1, activation='sigmoid', name='output_2')(x2)\n",
    "model_shared = Model(inputs=[input1,input2], outputs=[output1,output2])\n",
    "plot_model(model_shared, to_file='model_shared.png',\n",
    "           show_shapes=True,show_layer_names=True)"
   ]
  },
  {
   "cell_type": "markdown",
   "metadata": {},
   "source": [
    "The resulting model has two inputs, two outputs and shared layer\n",
    "![model_shared](https://ilykei.com/api/fileProxy/documents%2FAdvanced%20Machine%20Learning%2FLecture%207%20AdvML%2Fmodel_shared.png)  \n",
    "\n",
    "Note that when we reuse the same layer instance  multiple times, the weights of the layer  are also being reused  (it is effectively the same layer)"
   ]
  },
  {
   "cell_type": "markdown",
   "metadata": {},
   "source": [
    "<font color=blue>\n",
    "\n",
    "**Assignment 1**\n",
    "\n",
    "Write code creating the following network architecture as *test_model1*.\n",
    "\n",
    "![test_model1](https://ilykei.com/api/fileProxy/documents%2FAdvanced%20Machine%20Learning%2FLecture%207%20AdvML%2Ftest_model1.png) \n",
    "\n",
    "Print out the plot of the resulting model.\n",
    "\n",
    "Enter code in the following cell."
   ]
  },
  {
   "cell_type": "code",
   "execution_count": 15,
   "metadata": {
    "scrolled": true
   },
   "outputs": [],
   "source": [
    "#Skipped code\n",
    "# Assignment 1\n",
    "\n",
    "\n",
    "\n",
    "\n",
    "\n",
    "\n",
    "\n",
    "#plot_model(test_model1, to_file='test_model1.png',\n",
    "#           show_shapes=True,show_layer_names=True)"
   ]
  },
  {
   "cell_type": "markdown",
   "metadata": {},
   "source": [
    "![test_model1](./test_model1.png) \n"
   ]
  },
  {
   "cell_type": "markdown",
   "metadata": {},
   "source": [
    "## Merge layers\n",
    "\n",
    "Merge layers is a set of layers that merge input tensors  executing arithmetic operations over them or just concatenating them. \n",
    "\n",
    "The list of merge layers is not large: \n",
    "- Add, Subtract, Multiply, Average, Maximum  - take as input a list of tensors, all of the same shape, and return a single tensor (also of the same shape) - the result of corresponding pointwise arithmetic operation \n",
    "- Dot - dot product, \n",
    "- Concatenate has been already discussed earlier. \n",
    "\n",
    "Functional API uses lowercase variants of their names. Import them from `keras.layers` before using, e.g.\n",
    "\n",
    "`from keras.layers import add`\n",
    "\n",
    "NB! Though `subtract` layer is described in Keras documentation it may not work in earlier versions giving the error message **\"cannot import name 'subtract'\"** when you try to import it. \n",
    "In order to subtract two inputs you may use `Lambda` core layer that wraps arbitrary expression as a Layer object. For example, the following line:  "
   ]
  },
  {
   "cell_type": "code",
   "execution_count": 17,
   "metadata": {},
   "outputs": [],
   "source": [
    "from keras.layers import Input, Lambda\n",
    "sqr_input = Lambda(lambda x: x*x)(input1)"
   ]
  },
  {
   "cell_type": "markdown",
   "metadata": {},
   "source": [
    "defines layer that returns squared input. \n",
    "\n",
    "Here is a way of subtracting two inputs using `Lambda` layer"
   ]
  },
  {
   "cell_type": "code",
   "execution_count": 18,
   "metadata": {},
   "outputs": [],
   "source": [
    "x = Input(shape=(100,))\n",
    "y = Input(shape=(100,))\n",
    "# Note: shapes must match!\n",
    "subtract_layer = Lambda(lambda inputs: inputs[0] - inputs[1])\n",
    "diff = subtract_layer([x, y])"
   ]
  },
  {
   "cell_type": "markdown",
   "metadata": {},
   "source": [
    "<font color=blue>\n",
    "    \n",
    "**Assignment 2**\n",
    "\n",
    "Create network with two inputs. <br>\n",
    "Input shapes are (10,) and (20,). <br>\n",
    "Each input is processed with its own Dense layer `hidden1` and `hidden2` consisting of 5 neurons. <br>\n",
    "The network output should be square of differences of outputs of `hidden1` and `hidden2`. <br>\n",
    "Draw this network. "
   ]
  },
  {
   "cell_type": "code",
   "execution_count": 18,
   "metadata": {
    "scrolled": true
   },
   "outputs": [],
   "source": [
    "#Skipped code\n",
    "# Assignment 2 \n",
    "\n"
   ]
  },
  {
   "cell_type": "markdown",
   "metadata": {},
   "source": [
    "![test_model5](https://ilykei.com/api/fileProxy/documents%2FAdvanced%20Machine%20Learning%2FLecture%207%20AdvML%2Ftest_model5.png)"
   ]
  },
  {
   "cell_type": "markdown",
   "metadata": {},
   "source": [
    "# Compile model\n",
    "\n",
    "Once the model architecture is finalized, configure its learning process using `compile()`, for example:"
   ]
  },
  {
   "cell_type": "code",
   "execution_count": 19,
   "metadata": {},
   "outputs": [],
   "source": [
    "model.compile(loss='categorical_crossentropy', optimizer='sgd')"
   ]
  },
  {
   "cell_type": "markdown",
   "metadata": {},
   "source": [
    "Here `model` is the sequential model created above.  \n",
    "\n",
    "Compillation of the model requires declaration of the loss function (objective function) and the optimizer.\n",
    "\n",
    "Keras has a variety of [loss functions](https://keras.io/losses/) and [optimizers](https://keras.io/optimizers/) to choose from. \n",
    "\n",
    "An optional parameter `metrics` also can be set. Metric is a function (or list of functions) that is used to judge the performance of the model. \n",
    "\n",
    "Metric can be selected from the [list of available metrics](https://keras.io/metrics/) or passed as custom metric function name during the compilation step. <br>\n",
    "The function would need to take  `(y_true, y_pred)` as arguments and return a single tensor value.\n",
    "\n",
    "In the example below we use logarithmic loss as objective function, which for a binary classification problem is defined in Keras as `binary_crossentropy`. \n",
    "\n",
    "We can also use gradient descent algorithm `adam` and choose `accuracy` as metric for collectiing and reporting during training."
   ]
  },
  {
   "cell_type": "code",
   "execution_count": 20,
   "metadata": {},
   "outputs": [],
   "source": [
    "model.compile(loss='binary_crossentropy', optimizer='adam',\n",
    "              metrics=['accuracy'])"
   ]
  },
  {
   "cell_type": "markdown",
   "metadata": {},
   "source": [
    "# Data for example\n",
    "\n",
    "Example in this notebook use [**Breast cancer Wisconsin dataset**](https://archive.ics.uci.edu/ml/datasets/Breast+Cancer+Wisconsin+(Diagnostic)). \n",
    "\n",
    "The breast cancer dataset is a well known data for binary classification. It was created by Dr. William H. Wolberg, physician at the University Of Wisconsin Hospital at Madison, Wisconsin, USA.\n",
    "\n",
    "Features are created from a digitized images of a [fine needle aspirate (FNA)](https://en.wikipedia.org/wiki/Fine-needle_aspiration), a biopsy method, of a breast mass. They describe characteristics of the cell nuclei present in the image.\n",
    "\n",
    "To create the dataset Dr. Wolberg used ﬂuid samples, taken from patients with solid breast masses and graphical software [Xcyt](http://software.broadinstitute.org/mpg/xcyt/) capable of performing analysis of cytological features on a digital scan. \n",
    "\n",
    "Main research article on the subject of this analysis, including an image of malignant cells, is [Wisconsin Breast Cancer Dataset and Machine Learning for Breast Cancer Detection, by Lucas Rodrigues Borges](https://www.researchgate.net/publication/311950799_Analysis_of_the_Wisconsin_Breast_Cancer_Dataset_and_Machine_Learning_for_Breast_Cancer_Detection [accessed Nov 09 2017]).\n",
    "\n",
    "The data set has following characteristics:\n",
    "\n",
    "- Classes:\t2\n",
    "- Samples per class:\t212(malignant), 357(benign)\n",
    "- Samples total:\t569\n",
    "- Dimensionality:\t30\n",
    "- Features:\treal, positive\n",
    "\n",
    "Load the data using utility `load_breast_cancer` from `sklearn.datasets` module. <br>\n",
    "Print names of the features and dimensions of the data."
   ]
  },
  {
   "cell_type": "code",
   "execution_count": 21,
   "metadata": {
    "scrolled": true
   },
   "outputs": [
    {
     "name": "stdout",
     "output_type": "stream",
     "text": [
      "['mean radius' 'mean texture' 'mean perimeter' 'mean area'\n",
      " 'mean smoothness' 'mean compactness' 'mean concavity'\n",
      " 'mean concave points' 'mean symmetry' 'mean fractal dimension'\n",
      " 'radius error' 'texture error' 'perimeter error' 'area error'\n",
      " 'smoothness error' 'compactness error' 'concavity error'\n",
      " 'concave points error' 'symmetry error' 'fractal dimension error'\n",
      " 'worst radius' 'worst texture' 'worst perimeter' 'worst area'\n",
      " 'worst smoothness' 'worst compactness' 'worst concavity'\n",
      " 'worst concave points' 'worst symmetry' 'worst fractal dimension']\n",
      "data (569, 30) labels (569,)\n"
     ]
    }
   ],
   "source": [
    "%matplotlib inline\n",
    "from sklearn.datasets import load_breast_cancer\n",
    "data  = load_breast_cancer()\n",
    "print(data.feature_names)\n",
    "print('data',data.data.shape,'labels',data.target.shape)"
   ]
  },
  {
   "cell_type": "markdown",
   "metadata": {},
   "source": [
    "# Fit model on training data\n",
    "\n",
    "Training or fitting the model on loaded data is done by calling method `fit` on the model. \n",
    "\n",
    "Split the breast cancer dataset into train and test subsets and train simple sequential architecture defined above with one hidden layer with 3 units and `relu` activation function, followed by one output unit with sigmoid activation.\n",
    "\n",
    "![Model plot](https://ilykei.com/api/fileProxy/documents%2FAdvanced%20Machine%20Learning%2FLecture%207%20AdvML%2FR_nn_plot.png)\n"
   ]
  },
  {
   "cell_type": "code",
   "execution_count": 24,
   "metadata": {},
   "outputs": [],
   "source": [
    "from sklearn.model_selection import train_test_split\n",
    "\n",
    "X_train, X_test, y_train, y_test = train_test_split(data.data, data.target,\n",
    "                                                    test_size=0.2, random_state=1)\n",
    "def get_model_simple():\n",
    "    model = Sequential([Dense(3, input_dim=30),Activation('relu'),\n",
    "    Dense(1),Activation('sigmoid')])\n",
    "    model.compile(loss='binary_crossentropy', optimizer='adam',\n",
    "                  metrics=['accuracy'])\n",
    "    return model"
   ]
  },
  {
   "cell_type": "markdown",
   "metadata": {},
   "source": [
    "Creating and compiling model by a function instead of creating it directly allows experimenting and fitting with the model multiple times. <br>\n",
    "If model is fitted again it will use the previously fitted weights which makes fitting experiment incorrect. <br>\n",
    "In order to reinitialize weights call function generating the model.  \n",
    "\n",
    "Fit the model on train set using 10 epochs and iterating on the data in batches of 32 samples.\n",
    "\n",
    "- Parameter `epoch` is an arbitrary cutoff, typically means one pass over entire dataset, used to separate training process in distinct phases. <br>\n",
    "- Parameter `batch_size` is size of batch, a set of samples (observations) that is a subsample processed simultaneously. Processing of each batch results in one update of the network weights. <br>\n",
    "- Batch approximates distribution of weights better than single observation. The larger the batch the better the approximation. But larger batch processing requires more memory. \n",
    "- For evaluation or prediction it is recommended to use as large batch size as mempry allows since it makes the inference faster."
   ]
  },
  {
   "cell_type": "code",
   "execution_count": 25,
   "metadata": {},
   "outputs": [
    {
     "name": "stdout",
     "output_type": "stream",
     "text": [
      "Epoch 1/30\n",
      "455/455 [==============================] - 0s 869us/step - loss: 10.0960 - acc: 0.3736\n",
      "Epoch 2/30\n",
      "455/455 [==============================] - 0s 43us/step - loss: 10.0960 - acc: 0.3736\n",
      "Epoch 3/30\n",
      "455/455 [==============================] - 0s 44us/step - loss: 10.0959 - acc: 0.3736\n",
      "Epoch 4/30\n",
      "455/455 [==============================] - 0s 38us/step - loss: 10.0959 - acc: 0.3736\n",
      "Epoch 5/30\n",
      "455/455 [==============================] - 0s 36us/step - loss: 10.0959 - acc: 0.3736\n",
      "Epoch 6/30\n",
      "455/455 [==============================] - 0s 37us/step - loss: 10.0959 - acc: 0.3736\n",
      "Epoch 7/30\n",
      "455/455 [==============================] - 0s 41us/step - loss: 10.0959 - acc: 0.3736\n",
      "Epoch 8/30\n",
      "455/455 [==============================] - 0s 37us/step - loss: 10.0959 - acc: 0.3736\n",
      "Epoch 9/30\n",
      "455/455 [==============================] - 0s 46us/step - loss: 10.0959 - acc: 0.3736\n",
      "Epoch 10/30\n",
      "455/455 [==============================] - 0s 41us/step - loss: 10.0959 - acc: 0.3736\n",
      "Epoch 11/30\n",
      "455/455 [==============================] - 0s 39us/step - loss: 10.0960 - acc: 0.3736\n",
      "Epoch 12/30\n",
      "455/455 [==============================] - 0s 42us/step - loss: 10.0960 - acc: 0.3736\n",
      "Epoch 13/30\n",
      "455/455 [==============================] - 0s 36us/step - loss: 10.0959 - acc: 0.3736\n",
      "Epoch 14/30\n",
      "455/455 [==============================] - 0s 40us/step - loss: 10.0959 - acc: 0.3736\n",
      "Epoch 15/30\n",
      "455/455 [==============================] - 0s 40us/step - loss: 10.0959 - acc: 0.3736\n",
      "Epoch 16/30\n",
      "455/455 [==============================] - 0s 41us/step - loss: 10.0959 - acc: 0.3736\n",
      "Epoch 17/30\n",
      "455/455 [==============================] - 0s 42us/step - loss: 10.0959 - acc: 0.3736\n",
      "Epoch 18/30\n",
      "455/455 [==============================] - 0s 44us/step - loss: 10.0959 - acc: 0.3736\n",
      "Epoch 19/30\n",
      "455/455 [==============================] - 0s 40us/step - loss: 10.0959 - acc: 0.3736\n",
      "Epoch 20/30\n",
      "455/455 [==============================] - 0s 40us/step - loss: 10.0959 - acc: 0.3736\n",
      "Epoch 21/30\n",
      "455/455 [==============================] - 0s 37us/step - loss: 10.0959 - acc: 0.3736\n",
      "Epoch 22/30\n",
      "455/455 [==============================] - 0s 40us/step - loss: 10.0959 - acc: 0.3736\n",
      "Epoch 23/30\n",
      "455/455 [==============================] - 0s 46us/step - loss: 10.0959 - acc: 0.3736\n",
      "Epoch 24/30\n",
      "455/455 [==============================] - 0s 43us/step - loss: 10.0960 - acc: 0.3736\n",
      "Epoch 25/30\n",
      "455/455 [==============================] - 0s 43us/step - loss: 10.0959 - acc: 0.3736\n",
      "Epoch 26/30\n",
      "455/455 [==============================] - 0s 43us/step - loss: 10.0959 - acc: 0.3736\n",
      "Epoch 27/30\n",
      "455/455 [==============================] - 0s 45us/step - loss: 10.0959 - acc: 0.3736\n",
      "Epoch 28/30\n",
      "455/455 [==============================] - 0s 39us/step - loss: 10.0959 - acc: 0.3736\n",
      "Epoch 29/30\n",
      "455/455 [==============================] - 0s 33us/step - loss: 10.0959 - acc: 0.3736\n",
      "Epoch 30/30\n",
      "455/455 [==============================] - 0s 46us/step - loss: 10.0959 - acc: 0.3736\n"
     ]
    },
    {
     "data": {
      "text/plain": [
       "<keras.callbacks.History at 0xb21e31438>"
      ]
     },
     "execution_count": 25,
     "metadata": {},
     "output_type": "execute_result"
    }
   ],
   "source": [
    "model = get_model_simple()\n",
    "model.fit(X_train, y_train, epochs=30, batch_size=32)"
   ]
  },
  {
   "cell_type": "markdown",
   "metadata": {},
   "source": [
    "There is no progress in training process: loss stalled and accuracy does not go high enough (results may vary from run to run). <br>\n",
    "Scale the input data and fit the model again. <br>\n",
    "Note that first call of the scaler is `fit_transform`, but the second is just `transform`: test sample are scaled by the same amounts as train. "
   ]
  },
  {
   "cell_type": "code",
   "execution_count": 26,
   "metadata": {},
   "outputs": [
    {
     "name": "stdout",
     "output_type": "stream",
     "text": [
      "Epoch 1/30\n",
      "455/455 [==============================] - 0s 539us/step - loss: 0.7414 - acc: 0.7473\n",
      "Epoch 2/30\n",
      "455/455 [==============================] - 0s 48us/step - loss: 0.6399 - acc: 0.7978\n",
      "Epoch 3/30\n",
      "455/455 [==============================] - 0s 48us/step - loss: 0.5554 - acc: 0.7978\n",
      "Epoch 4/30\n",
      "455/455 [==============================] - 0s 50us/step - loss: 0.4798 - acc: 0.8462\n",
      "Epoch 5/30\n",
      "455/455 [==============================] - 0s 46us/step - loss: 0.4213 - acc: 0.8703\n",
      "Epoch 6/30\n",
      "455/455 [==============================] - 0s 50us/step - loss: 0.3726 - acc: 0.8791\n",
      "Epoch 7/30\n",
      "455/455 [==============================] - 0s 47us/step - loss: 0.3341 - acc: 0.9011\n",
      "Epoch 8/30\n",
      "455/455 [==============================] - 0s 47us/step - loss: 0.3033 - acc: 0.9143\n",
      "Epoch 9/30\n",
      "455/455 [==============================] - 0s 48us/step - loss: 0.2755 - acc: 0.9253\n",
      "Epoch 10/30\n",
      "455/455 [==============================] - 0s 47us/step - loss: 0.2529 - acc: 0.9319\n",
      "Epoch 11/30\n",
      "455/455 [==============================] - 0s 47us/step - loss: 0.2336 - acc: 0.9319\n",
      "Epoch 12/30\n",
      "455/455 [==============================] - 0s 47us/step - loss: 0.2164 - acc: 0.9385\n",
      "Epoch 13/30\n",
      "455/455 [==============================] - 0s 47us/step - loss: 0.2023 - acc: 0.9473\n",
      "Epoch 14/30\n",
      "455/455 [==============================] - 0s 49us/step - loss: 0.1900 - acc: 0.9495\n",
      "Epoch 15/30\n",
      "455/455 [==============================] - 0s 49us/step - loss: 0.1800 - acc: 0.9495\n",
      "Epoch 16/30\n",
      "455/455 [==============================] - 0s 49us/step - loss: 0.1708 - acc: 0.9516\n",
      "Epoch 17/30\n",
      "455/455 [==============================] - 0s 50us/step - loss: 0.1627 - acc: 0.9538\n",
      "Epoch 18/30\n",
      "455/455 [==============================] - 0s 47us/step - loss: 0.1554 - acc: 0.9560\n",
      "Epoch 19/30\n",
      "455/455 [==============================] - 0s 49us/step - loss: 0.1491 - acc: 0.9582\n",
      "Epoch 20/30\n",
      "455/455 [==============================] - 0s 48us/step - loss: 0.1432 - acc: 0.9626\n",
      "Epoch 21/30\n",
      "455/455 [==============================] - 0s 49us/step - loss: 0.1381 - acc: 0.9648\n",
      "Epoch 22/30\n",
      "455/455 [==============================] - 0s 52us/step - loss: 0.1333 - acc: 0.9648\n",
      "Epoch 23/30\n",
      "455/455 [==============================] - 0s 49us/step - loss: 0.1290 - acc: 0.9648\n",
      "Epoch 24/30\n",
      "455/455 [==============================] - 0s 46us/step - loss: 0.1251 - acc: 0.9648\n",
      "Epoch 25/30\n",
      "455/455 [==============================] - 0s 49us/step - loss: 0.1216 - acc: 0.9670\n",
      "Epoch 26/30\n",
      "455/455 [==============================] - 0s 48us/step - loss: 0.1181 - acc: 0.9670\n",
      "Epoch 27/30\n",
      "455/455 [==============================] - 0s 50us/step - loss: 0.1150 - acc: 0.9670\n",
      "Epoch 28/30\n",
      "455/455 [==============================] - 0s 46us/step - loss: 0.1120 - acc: 0.9670\n",
      "Epoch 29/30\n",
      "455/455 [==============================] - 0s 46us/step - loss: 0.1092 - acc: 0.9692\n",
      "Epoch 30/30\n",
      "455/455 [==============================] - 0s 50us/step - loss: 0.1068 - acc: 0.9692\n"
     ]
    }
   ],
   "source": [
    "from sklearn.preprocessing import StandardScaler\n",
    "scaler = StandardScaler()\n",
    "X_train = scaler.fit_transform(X_train)\n",
    "X_test = scaler.transform(X_test)\n",
    "model = get_model_simple()\n",
    "hist = model.fit(X_train, y_train, epochs=30, batch_size=32)"
   ]
  },
  {
   "cell_type": "markdown",
   "metadata": {},
   "source": [
    "After scaling both logloss and accuracy measures have improved very significantly."
   ]
  },
  {
   "cell_type": "markdown",
   "metadata": {},
   "source": [
    "Method `fit` returns a History object. <br>\n",
    "Its `.history` attribute is a record of training loss values and metrics values at successive epochs, as well as validation loss values and validation metrics values (if applicable)."
   ]
  },
  {
   "cell_type": "code",
   "execution_count": 27,
   "metadata": {},
   "outputs": [
    {
     "name": "stdout",
     "output_type": "stream",
     "text": [
      "dict_keys(['loss', 'acc'])\n",
      "best train loss 0.1067749913577195\n"
     ]
    }
   ],
   "source": [
    "print(hist.history.keys())\n",
    "print('best train loss', min(hist.history[\"loss\"]))"
   ]
  },
  {
   "cell_type": "markdown",
   "metadata": {},
   "source": [
    "Now predict test labels using method *'predict'* and evaluate prediction."
   ]
  },
  {
   "cell_type": "code",
   "execution_count": 28,
   "metadata": {},
   "outputs": [
    {
     "data": {
      "text/plain": [
       "(114, 1)"
      ]
     },
     "execution_count": 28,
     "metadata": {},
     "output_type": "execute_result"
    }
   ],
   "source": [
    "pred1 = model.predict(X_test)\n",
    "pred1.shape"
   ]
  },
  {
   "cell_type": "markdown",
   "metadata": {},
   "source": [
    "Method `evaluate` returns values of all metrics the model calculates. Their names are in the attribute `metrics_names`."
   ]
  },
  {
   "cell_type": "code",
   "execution_count": 29,
   "metadata": {},
   "outputs": [
    {
     "name": "stdout",
     "output_type": "stream",
     "text": [
      "['loss', 'acc']\n",
      "[0.13870127891239367, 0.9649122807017544]\n"
     ]
    }
   ],
   "source": [
    "print(model.metrics_names)\n",
    "print(model.evaluate(X_test, y_test,verbose=0))"
   ]
  },
  {
   "cell_type": "code",
   "execution_count": 30,
   "metadata": {},
   "outputs": [
    {
     "data": {
      "text/plain": [
       "Text(0.5, 1.0, 'Probability of class 1')"
      ]
     },
     "execution_count": 30,
     "metadata": {},
     "output_type": "execute_result"
    },
    {
     "data": {
      "image/png": "[encoded data removed]",
      "text/plain": [
       "<Figure size 432x288 with 1 Axes>"
      ]
     },
     "metadata": {
      "needs_background": "light"
     },
     "output_type": "display_data"
    }
   ],
   "source": [
    "# plot predictions and true labels\n",
    "# blue for class 0, orange for class 1\n",
    "import matplotlib.pyplot as plt\n",
    "color = ['blue' if y==0 else 'orange' for y in y_test]\n",
    "plt.scatter(range(len(pred1)), pred1, color=color)\n",
    "plt.title('Probability of class 1')"
   ]
  },
  {
   "cell_type": "markdown",
   "metadata": {},
   "source": [
    "<font color=blue>\n",
    "    \n",
    "**Assignment 3** <br>\n",
    "Define sequential model with two hidden layers of 5 and 10 units followed by `relu` activation and one output unit with `sigmoid` activation similar to the architecture in [MScA_31009_ML_DeepLearning_TF_Intro_3.html](https://ilykei.com/api/fileProxy/documents%2FAdvanced%20Data%20Mining%20and%20Predictive%20Analytics%2031009%2FLecture%20Deep%20Learning%2FMScA_31009_ML_DeepLearning_TF_Intro_3.html).\n",
    "Create a function `get_model_1()` that adds layers and compiles the model with loss as `binary_crossentropy`, optimizer `adam` and metrics `accuracy`."
   ]
  },
  {
   "cell_type": "markdown",
   "metadata": {},
   "source": [
    "\n",
    "![Model plot](https://ilykei.com/api/fileProxy/documents%2FAdvanced%20Machine%20Learning%2FLecture%207%20AdvML%2FWBCD_5_10_Architecture.png)"
   ]
  },
  {
   "cell_type": "markdown",
   "metadata": {},
   "source": [
    "<font color=blue>\n",
    "Fit the model using 30 epochs and batch size 32. <br>\n",
    "Print best train loss. <br>\n",
    "Evaluate the model on test data using both metrics. <br>\n",
    "Plot predictions and true labels. <br>\n",
    "Plot predictions and true labels.\n",
    "Enter code in the following cell."
   ]
  },
  {
   "cell_type": "code",
   "execution_count": 29,
   "metadata": {},
   "outputs": [],
   "source": [
    "# Skipped code\n",
    "# function get_model_1(), compilation and fitting\n",
    "# evaluate model on test data, print both metrics\n",
    "# dict_keys(['loss', 'acc'])\n",
    "# best train loss 0.0752962507881\n",
    "# ['loss', 'acc']\n",
    "# [0.11679617080249284, 0.97368421052631582]\n",
    "# Plot predictions and true labels\n",
    "\n"
   ]
  },
  {
   "cell_type": "markdown",
   "metadata": {},
   "source": [
    "## Batch normalization in Keras\n",
    "\n",
    "Keras has its own tool for data scaling: `BatchNormalization` layer. <br>\n",
    "It normalizes the activations of the previous layer at each batch, i.e. applies a transformation that maintains the mean activation (previous layer' output) close to 0 and the activation standard deviation close to 1. <br>\n",
    "Sergey Ioffe and Christian Szegedy show in [Batch Normalization: Accelerating Deep Network Training by Reducing Internal Covariate Shift](https://arxiv.org/abs/1502.03167) that Batch Normalization improves convergence speed  of deep neural networks.  \n",
    "\n",
    "In order to apply BatchNormalization to the `previous_layer` in Keras functional API you need two lines of code:\n",
    "\n",
    "`from keras.layers import BatchNormalization`  \n",
    "`scaled = BatchNormalization()(input1)`"
   ]
  },
  {
   "cell_type": "markdown",
   "metadata": {},
   "source": [
    "In the following cell: \n",
    "\n",
    "1. Modify function `get_model_1` into `get_model_2` in functional API and insert BatchNormalization layer after `input1`. <br>\n",
    "2. Currently `X_train`, `X_test` are scaled. In order to restore the original train and test split the data again. \n",
    "3. Run fitting 10 times and average the results. \n",
    "4. Set verbose=0 in the fit() call to remove unnecessary logging. \n",
    "5. Print loss function on every iteration.\n"
   ]
  },
  {
   "cell_type": "code",
   "execution_count": 31,
   "metadata": {},
   "outputs": [
    {
     "name": "stdout",
     "output_type": "stream",
     "text": [
      "0 0.26747138175990554\n",
      "1 0.2060315856566796\n",
      "2 0.3618733613700657\n",
      "3 0.3493150002353794\n",
      "4 0.2702070225726117\n",
      "5 0.427096258021973\n",
      "6 0.2020325386262202\n",
      "7 0.2728440326976252\n",
      "8 0.25345128234271164\n",
      "9 0.17443911077884527\n",
      "average loss =  0.2784761574062017\n"
     ]
    }
   ],
   "source": [
    "import numpy as np\n",
    "from keras.layers import BatchNormalization\n",
    "def get_model_2():\n",
    "    input1 = Input(shape=(30,), name='input_1')\n",
    "    scaled = BatchNormalization()(input1)\n",
    "    hidden1 = Dense(5, activation='relu',name='hidden1')(scaled)\n",
    "    hidden2 = Dense(10, activation='relu',name='hidden2')(hidden1)\n",
    "    output = Dense(1,activation='sigmoid')(hidden2)\n",
    "    model = Model(inputs=input1, outputs=output)\n",
    "    model.compile(loss='binary_crossentropy', optimizer='adam',\n",
    "                  metrics=['accuracy'])    \n",
    "    return model\n",
    "\n",
    "n = 10\n",
    "loss = np.zeros(n)\n",
    "X_train, X_test, y_train, y_test = train_test_split(data.data,data.target,\n",
    "                                                    test_size=0.2)\n",
    "for i in np.arange(n):\n",
    "    model = get_model_2()\n",
    "    hist = model.fit(X_train, y_train, epochs=10, batch_size=32,verbose=0)\n",
    "    loss[i] = min(hist.history[\"loss\"])\n",
    "    print(i,loss[i])\n",
    "print('average loss = ',np.mean(loss))\n",
    "\n"
   ]
  },
  {
   "cell_type": "markdown",
   "metadata": {},
   "source": [
    "# Callbacks\n",
    "\n",
    "Keras has a set of functions that can be used to get a view on internal states and statistics of the model during training. They are called callbacks and `History` mentioned above is one of them.\n",
    "\n",
    "A list of callbacks can be passed (as the keyword argument `callbacks`) to the  `fit()` method of the Sequential or Model classes. The relevant methods of the callbacks will then be called at each stage of the training.  \n",
    "\n",
    "Here are some usefull callbacks that will be used below.\n",
    "\n",
    "- `CSVLogger`  \n",
    "    `keras.callbacks.CSVLogger(filename, separator=',', append=False)`  \n",
    "    Callback that streams epoch results to a csv file.  \n",
    "\n",
    "\n",
    "- `ModelCheckpoint`  \n",
    "    `keras.callbacks.ModelCheckpoint(filepath, monitor='val_loss', verbose=0, save_best_only=False, save_weights_only=False, mode='auto', period=1)`  \n",
    "    By default save the model to the file `filepath` after every epoch. If `save_best_only=True` only the latest best model is saved according to the quantity monitored. So one can restart trainning from the last saved state in case of failure. This is important when training deep learning models, which can often be a time-consuming task.  \n",
    "\n",
    "Here is an example of how we can save the model and restore it later."
   ]
  },
  {
   "cell_type": "code",
   "execution_count": 32,
   "metadata": {},
   "outputs": [
    {
     "name": "stdout",
     "output_type": "stream",
     "text": [
      "\n",
      "Epoch 00001: saving model to weights.hdf5\n",
      "\n",
      "Epoch 00002: saving model to weights.hdf5\n",
      "\n",
      "Epoch 00003: saving model to weights.hdf5\n",
      "\n",
      "Epoch 00004: saving model to weights.hdf5\n",
      "\n",
      "Epoch 00005: saving model to weights.hdf5\n",
      "\n",
      "Epoch 00006: saving model to weights.hdf5\n",
      "\n",
      "Epoch 00007: saving model to weights.hdf5\n",
      "\n",
      "Epoch 00008: saving model to weights.hdf5\n",
      "\n",
      "Epoch 00009: saving model to weights.hdf5\n",
      "\n",
      "Epoch 00010: saving model to weights.hdf5\n",
      "evaluation results of trained model\n",
      "['loss', 'acc']\n",
      "[0.32337234626736555, 0.9210526326246429]\n",
      "evaluation results of reinitialized model\n",
      "[1.1060822449232404, 0.3684210528930028]\n",
      "evaluation results of model with weights loaded from file\n",
      "[0.32337234626736555, 0.9210526326246429]\n"
     ]
    }
   ],
   "source": [
    "from keras.callbacks import ModelCheckpoint\n",
    "\n",
    "#\n",
    "scaler = StandardScaler()\n",
    "X_train = scaler.fit_transform(X_train)\n",
    "X_test = scaler.transform(X_test)\n",
    "\n",
    "# initialize model\n",
    "model = get_model_simple()\n",
    "# saves the model weights after each epoch\n",
    "checkpointer = ModelCheckpoint('weights.hdf5', verbose=1)\n",
    "model.fit(X_train, y_train, epochs=10, verbose=0, callbacks=[checkpointer])\n",
    "print('evaluation results of trained model')\n",
    "print(model.metrics_names)\n",
    "print(model.evaluate(X_test, y_test,verbose=0))\n",
    "# reinitialize model\n",
    "model = get_model_simple()\n",
    "print('evaluation results of reinitialized model')\n",
    "print(model.evaluate(X_test, y_test,verbose=0))\n",
    "model.load_weights('weights.hdf5')\n",
    "print('evaluation results of model with weights loaded from file')\n",
    "print(model.evaluate(X_test, y_test,verbose=0))"
   ]
  },
  {
   "cell_type": "markdown",
   "metadata": {},
   "source": [
    "Note that by loading weights from file we restore saved model.\n",
    "\n",
    "- `EarlyStopping`  \n",
    "    `keras.callbacks.EarlyStopping(monitor='val_loss', min_delta=0, patience=0, verbose=0, mode='auto')`  \n",
    "    Stop training when a monitored quantity has stopped improving. Using it we can set large number of epochs but the process will be stopped if validation loss is not improved during `patience` epochs.  \n",
    "\n",
    "In the example below define `EarlyStopping` callback with `patience=5` and validation loss (`val_loss`) as monitored quantity. \n",
    "\n",
    "Validation loss can be calculated only if `validation_data` parameter in the `fit` method call is defined. <br>\n",
    "In this case `validation_data=(X_test, y_test)`. <br>\n",
    "Allow 200 epochs to train the model."
   ]
  },
  {
   "cell_type": "code",
   "execution_count": 33,
   "metadata": {},
   "outputs": [
    {
     "name": "stdout",
     "output_type": "stream",
     "text": [
      "Train on 455 samples, validate on 114 samples\n",
      "Epoch 1/200\n",
      "455/455 [==============================] - 1s 2ms/step - loss: 1.0605 - acc: 0.3912 - val_loss: 0.9778 - val_acc: 0.4123\n",
      "Epoch 2/200\n",
      "455/455 [==============================] - 0s 53us/step - loss: 0.9331 - acc: 0.4374 - val_loss: 0.8715 - val_acc: 0.4386\n",
      "Epoch 3/200\n",
      "455/455 [==============================] - 0s 68us/step - loss: 0.8285 - acc: 0.4901 - val_loss: 0.7860 - val_acc: 0.4912\n",
      "Epoch 4/200\n",
      "455/455 [==============================] - 0s 73us/step - loss: 0.7444 - acc: 0.5341 - val_loss: 0.7239 - val_acc: 0.5263\n",
      "Epoch 5/200\n",
      "455/455 [==============================] - 0s 78us/step - loss: 0.6829 - acc: 0.5868 - val_loss: 0.6763 - val_acc: 0.5877\n",
      "Epoch 6/200\n",
      "455/455 [==============================] - 0s 70us/step - loss: 0.6370 - acc: 0.6747 - val_loss: 0.6400 - val_acc: 0.6140\n",
      "Epoch 7/200\n",
      "455/455 [==============================] - 0s 69us/step - loss: 0.6043 - acc: 0.7253 - val_loss: 0.6128 - val_acc: 0.6667\n",
      "Epoch 8/200\n",
      "455/455 [==============================] - 0s 67us/step - loss: 0.5793 - acc: 0.7560 - val_loss: 0.5903 - val_acc: 0.7018\n",
      "Epoch 9/200\n",
      "455/455 [==============================] - 0s 72us/step - loss: 0.5582 - acc: 0.7714 - val_loss: 0.5714 - val_acc: 0.7456\n",
      "Epoch 10/200\n",
      "455/455 [==============================] - 0s 74us/step - loss: 0.5406 - acc: 0.7956 - val_loss: 0.5557 - val_acc: 0.7719\n",
      "Epoch 11/200\n",
      "455/455 [==============================] - 0s 69us/step - loss: 0.5255 - acc: 0.8264 - val_loss: 0.5414 - val_acc: 0.7895\n",
      "Epoch 12/200\n",
      "455/455 [==============================] - 0s 73us/step - loss: 0.5117 - acc: 0.8440 - val_loss: 0.5289 - val_acc: 0.8070\n",
      "Epoch 13/200\n",
      "455/455 [==============================] - 0s 69us/step - loss: 0.4995 - acc: 0.8725 - val_loss: 0.5171 - val_acc: 0.8421\n",
      "Epoch 14/200\n",
      "455/455 [==============================] - 0s 72us/step - loss: 0.4880 - acc: 0.8835 - val_loss: 0.5069 - val_acc: 0.8509\n",
      "Epoch 15/200\n",
      "455/455 [==============================] - 0s 71us/step - loss: 0.4780 - acc: 0.8923 - val_loss: 0.4973 - val_acc: 0.8772\n",
      "Epoch 16/200\n",
      "455/455 [==============================] - 0s 67us/step - loss: 0.4693 - acc: 0.8945 - val_loss: 0.4881 - val_acc: 0.8772\n",
      "Epoch 17/200\n",
      "455/455 [==============================] - 0s 69us/step - loss: 0.4607 - acc: 0.9011 - val_loss: 0.4799 - val_acc: 0.8772\n",
      "Epoch 18/200\n",
      "455/455 [==============================] - 0s 74us/step - loss: 0.4530 - acc: 0.9143 - val_loss: 0.4720 - val_acc: 0.9123\n",
      "Epoch 19/200\n",
      "455/455 [==============================] - 0s 70us/step - loss: 0.4456 - acc: 0.9231 - val_loss: 0.4650 - val_acc: 0.9211\n",
      "Epoch 20/200\n",
      "455/455 [==============================] - 0s 69us/step - loss: 0.4386 - acc: 0.9275 - val_loss: 0.4578 - val_acc: 0.9211\n",
      "Epoch 21/200\n",
      "455/455 [==============================] - 0s 69us/step - loss: 0.4317 - acc: 0.9341 - val_loss: 0.4508 - val_acc: 0.9211\n",
      "Epoch 22/200\n",
      "455/455 [==============================] - 0s 72us/step - loss: 0.4249 - acc: 0.9429 - val_loss: 0.4443 - val_acc: 0.9298\n",
      "Epoch 23/200\n",
      "455/455 [==============================] - 0s 71us/step - loss: 0.4190 - acc: 0.9451 - val_loss: 0.4376 - val_acc: 0.9298\n",
      "Epoch 24/200\n",
      "455/455 [==============================] - 0s 68us/step - loss: 0.4128 - acc: 0.9495 - val_loss: 0.4316 - val_acc: 0.9386\n",
      "Epoch 25/200\n",
      "455/455 [==============================] - 0s 69us/step - loss: 0.4069 - acc: 0.9538 - val_loss: 0.4262 - val_acc: 0.9386\n",
      "Epoch 26/200\n",
      "455/455 [==============================] - 0s 72us/step - loss: 0.4014 - acc: 0.9538 - val_loss: 0.4209 - val_acc: 0.9386\n",
      "Epoch 27/200\n",
      "455/455 [==============================] - 0s 68us/step - loss: 0.3960 - acc: 0.9538 - val_loss: 0.4156 - val_acc: 0.9386\n",
      "Epoch 28/200\n",
      "455/455 [==============================] - 0s 63us/step - loss: 0.3908 - acc: 0.9582 - val_loss: 0.4107 - val_acc: 0.9386\n",
      "Epoch 29/200\n",
      "455/455 [==============================] - 0s 72us/step - loss: 0.3860 - acc: 0.9604 - val_loss: 0.4059 - val_acc: 0.9386\n",
      "Epoch 30/200\n",
      "455/455 [==============================] - 0s 63us/step - loss: 0.3816 - acc: 0.9604 - val_loss: 0.4010 - val_acc: 0.9474\n",
      "Epoch 31/200\n",
      "455/455 [==============================] - 0s 74us/step - loss: 0.3768 - acc: 0.9604 - val_loss: 0.3964 - val_acc: 0.9474\n",
      "Epoch 32/200\n",
      "455/455 [==============================] - 0s 76us/step - loss: 0.3723 - acc: 0.9604 - val_loss: 0.3919 - val_acc: 0.9474\n",
      "Epoch 33/200\n",
      "455/455 [==============================] - 0s 77us/step - loss: 0.3681 - acc: 0.9604 - val_loss: 0.3877 - val_acc: 0.9474\n",
      "Epoch 34/200\n",
      "455/455 [==============================] - 0s 76us/step - loss: 0.3640 - acc: 0.9604 - val_loss: 0.3834 - val_acc: 0.9561\n",
      "Epoch 35/200\n",
      "455/455 [==============================] - 0s 67us/step - loss: 0.3598 - acc: 0.9604 - val_loss: 0.3793 - val_acc: 0.9561\n",
      "Epoch 36/200\n",
      "455/455 [==============================] - 0s 63us/step - loss: 0.3558 - acc: 0.9626 - val_loss: 0.3750 - val_acc: 0.9561\n",
      "Epoch 37/200\n",
      "455/455 [==============================] - 0s 70us/step - loss: 0.3518 - acc: 0.9626 - val_loss: 0.3709 - val_acc: 0.9561\n",
      "Epoch 38/200\n",
      "455/455 [==============================] - 0s 75us/step - loss: 0.3478 - acc: 0.9626 - val_loss: 0.3671 - val_acc: 0.9561\n",
      "Epoch 39/200\n",
      "455/455 [==============================] - 0s 81us/step - loss: 0.3439 - acc: 0.9648 - val_loss: 0.3630 - val_acc: 0.9561\n",
      "Epoch 40/200\n",
      "455/455 [==============================] - 0s 76us/step - loss: 0.3400 - acc: 0.9670 - val_loss: 0.3592 - val_acc: 0.9561\n",
      "Epoch 41/200\n",
      "455/455 [==============================] - 0s 71us/step - loss: 0.3364 - acc: 0.9714 - val_loss: 0.3553 - val_acc: 0.9561\n",
      "Epoch 42/200\n",
      "455/455 [==============================] - 0s 72us/step - loss: 0.3327 - acc: 0.9736 - val_loss: 0.3519 - val_acc: 0.9561\n",
      "Epoch 43/200\n",
      "455/455 [==============================] - 0s 76us/step - loss: 0.3291 - acc: 0.9736 - val_loss: 0.3482 - val_acc: 0.9561\n",
      "Epoch 44/200\n",
      "455/455 [==============================] - 0s 87us/step - loss: 0.3256 - acc: 0.9736 - val_loss: 0.3448 - val_acc: 0.9561\n",
      "Epoch 45/200\n",
      "455/455 [==============================] - 0s 82us/step - loss: 0.3221 - acc: 0.9736 - val_loss: 0.3412 - val_acc: 0.9561\n",
      "Epoch 46/200\n",
      "455/455 [==============================] - 0s 98us/step - loss: 0.3187 - acc: 0.9758 - val_loss: 0.3378 - val_acc: 0.9561\n",
      "Epoch 47/200\n",
      "455/455 [==============================] - 0s 84us/step - loss: 0.3154 - acc: 0.9758 - val_loss: 0.3344 - val_acc: 0.9561\n",
      "Epoch 48/200\n",
      "455/455 [==============================] - 0s 91us/step - loss: 0.3120 - acc: 0.9780 - val_loss: 0.3312 - val_acc: 0.9561\n",
      "Epoch 49/200\n",
      "455/455 [==============================] - 0s 90us/step - loss: 0.3088 - acc: 0.9780 - val_loss: 0.3282 - val_acc: 0.9561\n",
      "Epoch 50/200\n",
      "455/455 [==============================] - 0s 81us/step - loss: 0.3057 - acc: 0.9780 - val_loss: 0.3251 - val_acc: 0.9561\n",
      "Epoch 51/200\n",
      "455/455 [==============================] - 0s 81us/step - loss: 0.3025 - acc: 0.9780 - val_loss: 0.3221 - val_acc: 0.9561\n",
      "Epoch 52/200\n",
      "455/455 [==============================] - 0s 66us/step - loss: 0.2994 - acc: 0.9780 - val_loss: 0.3191 - val_acc: 0.9649\n",
      "Epoch 53/200\n",
      "455/455 [==============================] - 0s 75us/step - loss: 0.2964 - acc: 0.9780 - val_loss: 0.3162 - val_acc: 0.9649\n",
      "Epoch 54/200\n",
      "455/455 [==============================] - 0s 74us/step - loss: 0.2935 - acc: 0.9780 - val_loss: 0.3133 - val_acc: 0.9649\n",
      "Epoch 55/200\n",
      "455/455 [==============================] - 0s 73us/step - loss: 0.2905 - acc: 0.9780 - val_loss: 0.3105 - val_acc: 0.9649\n",
      "Epoch 56/200\n",
      "455/455 [==============================] - 0s 75us/step - loss: 0.2877 - acc: 0.9736 - val_loss: 0.3077 - val_acc: 0.9649\n",
      "Epoch 57/200\n",
      "455/455 [==============================] - 0s 73us/step - loss: 0.2849 - acc: 0.9736 - val_loss: 0.3048 - val_acc: 0.9649\n",
      "Epoch 58/200\n",
      "455/455 [==============================] - 0s 74us/step - loss: 0.2821 - acc: 0.9758 - val_loss: 0.3021 - val_acc: 0.9649\n",
      "Epoch 59/200\n",
      "455/455 [==============================] - 0s 77us/step - loss: 0.2794 - acc: 0.9758 - val_loss: 0.2996 - val_acc: 0.9649\n",
      "Epoch 60/200\n",
      "455/455 [==============================] - 0s 71us/step - loss: 0.2767 - acc: 0.9758 - val_loss: 0.2970 - val_acc: 0.9649\n",
      "Epoch 61/200\n"
     ]
    },
    {
     "name": "stdout",
     "output_type": "stream",
     "text": [
      "455/455 [==============================] - 0s 72us/step - loss: 0.2740 - acc: 0.9758 - val_loss: 0.2945 - val_acc: 0.9649\n",
      "Epoch 62/200\n",
      "455/455 [==============================] - 0s 77us/step - loss: 0.2714 - acc: 0.9758 - val_loss: 0.2921 - val_acc: 0.9649\n",
      "Epoch 63/200\n",
      "455/455 [==============================] - 0s 80us/step - loss: 0.2689 - acc: 0.9758 - val_loss: 0.2893 - val_acc: 0.9649\n",
      "Epoch 64/200\n",
      "455/455 [==============================] - 0s 77us/step - loss: 0.2664 - acc: 0.9758 - val_loss: 0.2870 - val_acc: 0.9649\n",
      "Epoch 65/200\n",
      "455/455 [==============================] - 0s 80us/step - loss: 0.2639 - acc: 0.9780 - val_loss: 0.2847 - val_acc: 0.9649\n",
      "Epoch 66/200\n",
      "455/455 [==============================] - 0s 75us/step - loss: 0.2614 - acc: 0.9780 - val_loss: 0.2823 - val_acc: 0.9649\n",
      "Epoch 67/200\n",
      "455/455 [==============================] - 0s 76us/step - loss: 0.2591 - acc: 0.9780 - val_loss: 0.2800 - val_acc: 0.9649\n",
      "Epoch 68/200\n",
      "455/455 [==============================] - 0s 86us/step - loss: 0.2567 - acc: 0.9780 - val_loss: 0.2778 - val_acc: 0.9649\n",
      "Epoch 69/200\n",
      "455/455 [==============================] - 0s 63us/step - loss: 0.2542 - acc: 0.9802 - val_loss: 0.2756 - val_acc: 0.9649\n",
      "Epoch 70/200\n",
      "455/455 [==============================] - 0s 59us/step - loss: 0.2519 - acc: 0.9802 - val_loss: 0.2735 - val_acc: 0.9649\n",
      "Epoch 71/200\n",
      "455/455 [==============================] - 0s 63us/step - loss: 0.2496 - acc: 0.9802 - val_loss: 0.2716 - val_acc: 0.9649\n",
      "Epoch 72/200\n",
      "455/455 [==============================] - 0s 62us/step - loss: 0.2473 - acc: 0.9802 - val_loss: 0.2694 - val_acc: 0.9649\n",
      "Epoch 73/200\n",
      "455/455 [==============================] - 0s 60us/step - loss: 0.2450 - acc: 0.9802 - val_loss: 0.2673 - val_acc: 0.9649\n",
      "Epoch 74/200\n",
      "455/455 [==============================] - 0s 58us/step - loss: 0.2428 - acc: 0.9802 - val_loss: 0.2652 - val_acc: 0.9649\n",
      "Epoch 75/200\n",
      "455/455 [==============================] - 0s 60us/step - loss: 0.2406 - acc: 0.9802 - val_loss: 0.2632 - val_acc: 0.9649\n",
      "Epoch 76/200\n",
      "455/455 [==============================] - 0s 61us/step - loss: 0.2384 - acc: 0.9802 - val_loss: 0.2611 - val_acc: 0.9649\n",
      "Epoch 77/200\n",
      "455/455 [==============================] - 0s 56us/step - loss: 0.2363 - acc: 0.9802 - val_loss: 0.2592 - val_acc: 0.9649\n",
      "Epoch 78/200\n",
      "455/455 [==============================] - 0s 61us/step - loss: 0.2341 - acc: 0.9802 - val_loss: 0.2573 - val_acc: 0.9649\n",
      "Epoch 79/200\n",
      "455/455 [==============================] - 0s 59us/step - loss: 0.2321 - acc: 0.9802 - val_loss: 0.2554 - val_acc: 0.9649\n",
      "Epoch 80/200\n",
      "455/455 [==============================] - 0s 59us/step - loss: 0.2302 - acc: 0.9802 - val_loss: 0.2536 - val_acc: 0.9649\n",
      "Epoch 81/200\n",
      "455/455 [==============================] - 0s 61us/step - loss: 0.2281 - acc: 0.9802 - val_loss: 0.2518 - val_acc: 0.9649\n",
      "Epoch 82/200\n",
      "455/455 [==============================] - 0s 59us/step - loss: 0.2260 - acc: 0.9802 - val_loss: 0.2500 - val_acc: 0.9649\n",
      "Epoch 83/200\n",
      "455/455 [==============================] - 0s 61us/step - loss: 0.2241 - acc: 0.9802 - val_loss: 0.2481 - val_acc: 0.9649\n",
      "Epoch 84/200\n",
      "455/455 [==============================] - 0s 75us/step - loss: 0.2222 - acc: 0.9802 - val_loss: 0.2464 - val_acc: 0.9649\n",
      "Epoch 85/200\n",
      "455/455 [==============================] - 0s 75us/step - loss: 0.2203 - acc: 0.9802 - val_loss: 0.2448 - val_acc: 0.9649\n",
      "Epoch 86/200\n",
      "455/455 [==============================] - 0s 82us/step - loss: 0.2183 - acc: 0.9802 - val_loss: 0.2428 - val_acc: 0.9649\n",
      "Epoch 87/200\n",
      "455/455 [==============================] - 0s 74us/step - loss: 0.2164 - acc: 0.9824 - val_loss: 0.2412 - val_acc: 0.9649\n",
      "Epoch 88/200\n",
      "455/455 [==============================] - 0s 80us/step - loss: 0.2146 - acc: 0.9824 - val_loss: 0.2396 - val_acc: 0.9649\n",
      "Epoch 89/200\n",
      "455/455 [==============================] - 0s 80us/step - loss: 0.2127 - acc: 0.9824 - val_loss: 0.2381 - val_acc: 0.9649\n",
      "Epoch 90/200\n",
      "455/455 [==============================] - 0s 64us/step - loss: 0.2109 - acc: 0.9824 - val_loss: 0.2364 - val_acc: 0.9649\n",
      "Epoch 91/200\n",
      "455/455 [==============================] - 0s 79us/step - loss: 0.2091 - acc: 0.9824 - val_loss: 0.2347 - val_acc: 0.9649\n",
      "Epoch 92/200\n",
      "455/455 [==============================] - 0s 86us/step - loss: 0.2074 - acc: 0.9824 - val_loss: 0.2329 - val_acc: 0.9649\n",
      "Epoch 93/200\n",
      "455/455 [==============================] - 0s 63us/step - loss: 0.2055 - acc: 0.9824 - val_loss: 0.2314 - val_acc: 0.9649\n",
      "Epoch 94/200\n",
      "455/455 [==============================] - 0s 56us/step - loss: 0.2038 - acc: 0.9824 - val_loss: 0.2298 - val_acc: 0.9649\n",
      "Epoch 95/200\n",
      "455/455 [==============================] - 0s 59us/step - loss: 0.2020 - acc: 0.9824 - val_loss: 0.2283 - val_acc: 0.9649\n",
      "Epoch 96/200\n",
      "455/455 [==============================] - 0s 62us/step - loss: 0.2004 - acc: 0.9824 - val_loss: 0.2269 - val_acc: 0.9649\n",
      "Epoch 97/200\n",
      "455/455 [==============================] - 0s 61us/step - loss: 0.1987 - acc: 0.9824 - val_loss: 0.2254 - val_acc: 0.9649\n",
      "Epoch 98/200\n",
      "455/455 [==============================] - 0s 58us/step - loss: 0.1970 - acc: 0.9824 - val_loss: 0.2239 - val_acc: 0.9649\n",
      "Epoch 99/200\n",
      "455/455 [==============================] - 0s 59us/step - loss: 0.1954 - acc: 0.9824 - val_loss: 0.2224 - val_acc: 0.9649\n",
      "Epoch 100/200\n",
      "455/455 [==============================] - 0s 56us/step - loss: 0.1938 - acc: 0.9824 - val_loss: 0.2209 - val_acc: 0.9649\n",
      "Epoch 101/200\n",
      "455/455 [==============================] - 0s 60us/step - loss: 0.1922 - acc: 0.9824 - val_loss: 0.2196 - val_acc: 0.9649\n",
      "Epoch 102/200\n",
      "455/455 [==============================] - 0s 60us/step - loss: 0.1906 - acc: 0.9824 - val_loss: 0.2185 - val_acc: 0.9649\n",
      "Epoch 103/200\n",
      "455/455 [==============================] - 0s 58us/step - loss: 0.1890 - acc: 0.9824 - val_loss: 0.2172 - val_acc: 0.9649\n",
      "Epoch 104/200\n",
      "455/455 [==============================] - 0s 63us/step - loss: 0.1874 - acc: 0.9824 - val_loss: 0.2157 - val_acc: 0.9649\n",
      "Epoch 105/200\n",
      "455/455 [==============================] - 0s 61us/step - loss: 0.1859 - acc: 0.9824 - val_loss: 0.2145 - val_acc: 0.9649\n",
      "Epoch 106/200\n",
      "455/455 [==============================] - 0s 61us/step - loss: 0.1844 - acc: 0.9824 - val_loss: 0.2132 - val_acc: 0.9649\n",
      "Epoch 107/200\n",
      "455/455 [==============================] - 0s 67us/step - loss: 0.1829 - acc: 0.9824 - val_loss: 0.2121 - val_acc: 0.9649\n",
      "Epoch 108/200\n",
      "455/455 [==============================] - 0s 69us/step - loss: 0.1813 - acc: 0.9846 - val_loss: 0.2109 - val_acc: 0.9649\n",
      "Epoch 109/200\n",
      "455/455 [==============================] - 0s 62us/step - loss: 0.1798 - acc: 0.9846 - val_loss: 0.2096 - val_acc: 0.9649\n",
      "Epoch 110/200\n",
      "455/455 [==============================] - 0s 64us/step - loss: 0.1783 - acc: 0.9846 - val_loss: 0.2084 - val_acc: 0.9649\n",
      "Epoch 111/200\n",
      "455/455 [==============================] - 0s 66us/step - loss: 0.1769 - acc: 0.9846 - val_loss: 0.2071 - val_acc: 0.9649\n",
      "Epoch 112/200\n",
      "455/455 [==============================] - 0s 65us/step - loss: 0.1754 - acc: 0.9868 - val_loss: 0.2058 - val_acc: 0.9649\n",
      "Epoch 113/200\n",
      "455/455 [==============================] - 0s 67us/step - loss: 0.1741 - acc: 0.9846 - val_loss: 0.2047 - val_acc: 0.9649\n",
      "Epoch 114/200\n",
      "455/455 [==============================] - 0s 66us/step - loss: 0.1727 - acc: 0.9846 - val_loss: 0.2038 - val_acc: 0.9649\n",
      "Epoch 115/200\n",
      "455/455 [==============================] - 0s 64us/step - loss: 0.1714 - acc: 0.9868 - val_loss: 0.2021 - val_acc: 0.9649\n",
      "Epoch 116/200\n",
      "455/455 [==============================] - 0s 62us/step - loss: 0.1700 - acc: 0.9868 - val_loss: 0.2013 - val_acc: 0.9649\n",
      "Epoch 117/200\n",
      "455/455 [==============================] - 0s 60us/step - loss: 0.1687 - acc: 0.9868 - val_loss: 0.2003 - val_acc: 0.9649\n",
      "Epoch 118/200\n",
      "455/455 [==============================] - 0s 61us/step - loss: 0.1673 - acc: 0.9868 - val_loss: 0.1994 - val_acc: 0.9649\n",
      "Epoch 119/200\n",
      "455/455 [==============================] - 0s 62us/step - loss: 0.1660 - acc: 0.9868 - val_loss: 0.1993 - val_acc: 0.9649\n",
      "Epoch 120/200\n",
      "455/455 [==============================] - 0s 63us/step - loss: 0.1648 - acc: 0.9846 - val_loss: 0.1986 - val_acc: 0.9649\n",
      "Epoch 121/200\n"
     ]
    },
    {
     "name": "stdout",
     "output_type": "stream",
     "text": [
      "455/455 [==============================] - 0s 60us/step - loss: 0.1635 - acc: 0.9846 - val_loss: 0.1971 - val_acc: 0.9649\n",
      "Epoch 122/200\n",
      "455/455 [==============================] - 0s 65us/step - loss: 0.1622 - acc: 0.9868 - val_loss: 0.1961 - val_acc: 0.9649\n",
      "Epoch 123/200\n",
      "455/455 [==============================] - 0s 62us/step - loss: 0.1609 - acc: 0.9868 - val_loss: 0.1951 - val_acc: 0.9649\n",
      "Epoch 124/200\n",
      "455/455 [==============================] - 0s 63us/step - loss: 0.1597 - acc: 0.9868 - val_loss: 0.1944 - val_acc: 0.9649\n",
      "Epoch 125/200\n",
      "455/455 [==============================] - 0s 60us/step - loss: 0.1584 - acc: 0.9868 - val_loss: 0.1936 - val_acc: 0.9649\n",
      "Epoch 126/200\n",
      "455/455 [==============================] - 0s 59us/step - loss: 0.1572 - acc: 0.9868 - val_loss: 0.1925 - val_acc: 0.9649\n",
      "Epoch 127/200\n",
      "455/455 [==============================] - 0s 58us/step - loss: 0.1560 - acc: 0.9868 - val_loss: 0.1913 - val_acc: 0.9649\n",
      "Epoch 128/200\n",
      "455/455 [==============================] - 0s 59us/step - loss: 0.1548 - acc: 0.9890 - val_loss: 0.1905 - val_acc: 0.9649\n",
      "Epoch 129/200\n",
      "455/455 [==============================] - 0s 58us/step - loss: 0.1536 - acc: 0.9890 - val_loss: 0.1894 - val_acc: 0.9649\n",
      "Epoch 130/200\n",
      "455/455 [==============================] - 0s 61us/step - loss: 0.1524 - acc: 0.9890 - val_loss: 0.1879 - val_acc: 0.9649\n",
      "Epoch 131/200\n",
      "455/455 [==============================] - 0s 63us/step - loss: 0.1513 - acc: 0.9890 - val_loss: 0.1870 - val_acc: 0.9649\n",
      "Epoch 132/200\n",
      "455/455 [==============================] - 0s 80us/step - loss: 0.1501 - acc: 0.9890 - val_loss: 0.1859 - val_acc: 0.9649\n",
      "Epoch 133/200\n",
      "455/455 [==============================] - 0s 89us/step - loss: 0.1490 - acc: 0.9890 - val_loss: 0.1851 - val_acc: 0.9649\n",
      "Epoch 134/200\n",
      "455/455 [==============================] - 0s 102us/step - loss: 0.1479 - acc: 0.9890 - val_loss: 0.1845 - val_acc: 0.9649\n",
      "Epoch 135/200\n",
      "455/455 [==============================] - 0s 83us/step - loss: 0.1468 - acc: 0.9890 - val_loss: 0.1838 - val_acc: 0.9649\n",
      "Epoch 136/200\n",
      "455/455 [==============================] - 0s 82us/step - loss: 0.1457 - acc: 0.9890 - val_loss: 0.1831 - val_acc: 0.9649\n",
      "Epoch 137/200\n",
      "455/455 [==============================] - 0s 78us/step - loss: 0.1446 - acc: 0.9890 - val_loss: 0.1828 - val_acc: 0.9649\n",
      "Epoch 138/200\n",
      "455/455 [==============================] - 0s 82us/step - loss: 0.1436 - acc: 0.9890 - val_loss: 0.1818 - val_acc: 0.9649\n",
      "Epoch 139/200\n",
      "455/455 [==============================] - 0s 91us/step - loss: 0.1425 - acc: 0.9890 - val_loss: 0.1809 - val_acc: 0.9649\n",
      "Epoch 140/200\n",
      "455/455 [==============================] - 0s 85us/step - loss: 0.1415 - acc: 0.9890 - val_loss: 0.1800 - val_acc: 0.9649\n",
      "Epoch 141/200\n",
      "455/455 [==============================] - 0s 71us/step - loss: 0.1404 - acc: 0.9890 - val_loss: 0.1793 - val_acc: 0.9649\n",
      "Epoch 142/200\n",
      "455/455 [==============================] - 0s 94us/step - loss: 0.1395 - acc: 0.9890 - val_loss: 0.1784 - val_acc: 0.9649\n",
      "Epoch 143/200\n",
      "455/455 [==============================] - 0s 92us/step - loss: 0.1384 - acc: 0.9890 - val_loss: 0.1778 - val_acc: 0.9649\n",
      "Epoch 144/200\n",
      "455/455 [==============================] - 0s 75us/step - loss: 0.1374 - acc: 0.9890 - val_loss: 0.1771 - val_acc: 0.9649\n",
      "Epoch 145/200\n",
      "455/455 [==============================] - 0s 84us/step - loss: 0.1364 - acc: 0.9890 - val_loss: 0.1763 - val_acc: 0.9649\n",
      "Epoch 146/200\n",
      "455/455 [==============================] - 0s 80us/step - loss: 0.1354 - acc: 0.9890 - val_loss: 0.1755 - val_acc: 0.9649\n",
      "Epoch 147/200\n",
      "455/455 [==============================] - 0s 66us/step - loss: 0.1343 - acc: 0.9890 - val_loss: 0.1749 - val_acc: 0.9649\n",
      "Epoch 148/200\n",
      "455/455 [==============================] - 0s 58us/step - loss: 0.1334 - acc: 0.9890 - val_loss: 0.1744 - val_acc: 0.9649\n",
      "Epoch 149/200\n",
      "455/455 [==============================] - 0s 57us/step - loss: 0.1326 - acc: 0.9890 - val_loss: 0.1746 - val_acc: 0.9649\n",
      "Epoch 150/200\n",
      "455/455 [==============================] - 0s 80us/step - loss: 0.1316 - acc: 0.9890 - val_loss: 0.1733 - val_acc: 0.9649\n",
      "Epoch 151/200\n",
      "455/455 [==============================] - 0s 64us/step - loss: 0.1306 - acc: 0.9890 - val_loss: 0.1722 - val_acc: 0.9649\n",
      "Epoch 152/200\n",
      "455/455 [==============================] - 0s 55us/step - loss: 0.1297 - acc: 0.9890 - val_loss: 0.1718 - val_acc: 0.9649\n",
      "Epoch 153/200\n",
      "455/455 [==============================] - 0s 59us/step - loss: 0.1288 - acc: 0.9890 - val_loss: 0.1715 - val_acc: 0.9649\n",
      "Epoch 154/200\n",
      "455/455 [==============================] - 0s 72us/step - loss: 0.1278 - acc: 0.9890 - val_loss: 0.1706 - val_acc: 0.9649\n",
      "Epoch 155/200\n",
      "455/455 [==============================] - 0s 81us/step - loss: 0.1270 - acc: 0.9890 - val_loss: 0.1698 - val_acc: 0.9649\n",
      "Epoch 156/200\n",
      "455/455 [==============================] - 0s 80us/step - loss: 0.1261 - acc: 0.9890 - val_loss: 0.1692 - val_acc: 0.9649\n",
      "Epoch 157/200\n",
      "455/455 [==============================] - 0s 84us/step - loss: 0.1252 - acc: 0.9890 - val_loss: 0.1686 - val_acc: 0.9649\n",
      "Epoch 158/200\n",
      "455/455 [==============================] - 0s 81us/step - loss: 0.1244 - acc: 0.9890 - val_loss: 0.1682 - val_acc: 0.9649\n",
      "Epoch 159/200\n",
      "455/455 [==============================] - 0s 78us/step - loss: 0.1235 - acc: 0.9890 - val_loss: 0.1679 - val_acc: 0.9649\n",
      "Epoch 160/200\n",
      "455/455 [==============================] - 0s 80us/step - loss: 0.1227 - acc: 0.9890 - val_loss: 0.1671 - val_acc: 0.9649\n",
      "Epoch 161/200\n",
      "455/455 [==============================] - 0s 83us/step - loss: 0.1219 - acc: 0.9890 - val_loss: 0.1672 - val_acc: 0.9649\n",
      "Epoch 162/200\n",
      "455/455 [==============================] - 0s 81us/step - loss: 0.1210 - acc: 0.9890 - val_loss: 0.1663 - val_acc: 0.9649\n",
      "Epoch 163/200\n",
      "455/455 [==============================] - 0s 84us/step - loss: 0.1202 - acc: 0.9890 - val_loss: 0.1657 - val_acc: 0.9649\n",
      "Epoch 164/200\n",
      "455/455 [==============================] - 0s 81us/step - loss: 0.1194 - acc: 0.9890 - val_loss: 0.1653 - val_acc: 0.9649\n",
      "Epoch 165/200\n",
      "455/455 [==============================] - 0s 80us/step - loss: 0.1186 - acc: 0.9890 - val_loss: 0.1649 - val_acc: 0.9649\n",
      "Epoch 166/200\n",
      "455/455 [==============================] - 0s 80us/step - loss: 0.1178 - acc: 0.9890 - val_loss: 0.1643 - val_acc: 0.9649\n",
      "Epoch 167/200\n",
      "455/455 [==============================] - 0s 85us/step - loss: 0.1170 - acc: 0.9890 - val_loss: 0.1641 - val_acc: 0.9649\n",
      "Epoch 168/200\n",
      "455/455 [==============================] - 0s 84us/step - loss: 0.1162 - acc: 0.9890 - val_loss: 0.1637 - val_acc: 0.9649\n",
      "Epoch 169/200\n",
      "455/455 [==============================] - 0s 79us/step - loss: 0.1154 - acc: 0.9890 - val_loss: 0.1629 - val_acc: 0.9649\n",
      "Epoch 170/200\n",
      "455/455 [==============================] - 0s 80us/step - loss: 0.1147 - acc: 0.9890 - val_loss: 0.1625 - val_acc: 0.9649\n",
      "Epoch 171/200\n",
      "455/455 [==============================] - 0s 75us/step - loss: 0.1139 - acc: 0.9890 - val_loss: 0.1623 - val_acc: 0.9649\n",
      "Epoch 172/200\n",
      "455/455 [==============================] - 0s 102us/step - loss: 0.1132 - acc: 0.9890 - val_loss: 0.1615 - val_acc: 0.9649\n",
      "Epoch 173/200\n",
      "455/455 [==============================] - 0s 89us/step - loss: 0.1124 - acc: 0.9890 - val_loss: 0.1609 - val_acc: 0.9649\n",
      "Epoch 174/200\n",
      "455/455 [==============================] - 0s 75us/step - loss: 0.1117 - acc: 0.9890 - val_loss: 0.1612 - val_acc: 0.9649\n",
      "Epoch 175/200\n",
      "455/455 [==============================] - 0s 83us/step - loss: 0.1110 - acc: 0.9890 - val_loss: 0.1612 - val_acc: 0.9649\n",
      "Epoch 176/200\n",
      "455/455 [==============================] - 0s 79us/step - loss: 0.1101 - acc: 0.9890 - val_loss: 0.1605 - val_acc: 0.9649\n",
      "Epoch 177/200\n",
      "455/455 [==============================] - 0s 70us/step - loss: 0.1095 - acc: 0.9890 - val_loss: 0.1598 - val_acc: 0.9649\n",
      "Epoch 178/200\n",
      "455/455 [==============================] - 0s 56us/step - loss: 0.1088 - acc: 0.9890 - val_loss: 0.1596 - val_acc: 0.9649\n",
      "Epoch 179/200\n",
      "455/455 [==============================] - 0s 57us/step - loss: 0.1081 - acc: 0.9890 - val_loss: 0.1593 - val_acc: 0.9649\n",
      "Epoch 180/200\n",
      "455/455 [==============================] - 0s 62us/step - loss: 0.1073 - acc: 0.9890 - val_loss: 0.1593 - val_acc: 0.9649\n",
      "Epoch 181/200\n"
     ]
    },
    {
     "name": "stdout",
     "output_type": "stream",
     "text": [
      "455/455 [==============================] - 0s 61us/step - loss: 0.1067 - acc: 0.9890 - val_loss: 0.1589 - val_acc: 0.9649\n",
      "Epoch 182/200\n",
      "455/455 [==============================] - 0s 59us/step - loss: 0.1060 - acc: 0.9890 - val_loss: 0.1586 - val_acc: 0.9649\n",
      "Epoch 183/200\n",
      "455/455 [==============================] - 0s 80us/step - loss: 0.1053 - acc: 0.9890 - val_loss: 0.1585 - val_acc: 0.9649\n",
      "Epoch 184/200\n",
      "455/455 [==============================] - 0s 89us/step - loss: 0.1047 - acc: 0.9890 - val_loss: 0.1580 - val_acc: 0.9649\n",
      "Epoch 185/200\n",
      "455/455 [==============================] - 0s 82us/step - loss: 0.1040 - acc: 0.9890 - val_loss: 0.1572 - val_acc: 0.9649\n",
      "Epoch 186/200\n",
      "455/455 [==============================] - 0s 86us/step - loss: 0.1033 - acc: 0.9890 - val_loss: 0.1575 - val_acc: 0.9649\n",
      "Epoch 187/200\n",
      "455/455 [==============================] - 0s 87us/step - loss: 0.1027 - acc: 0.9890 - val_loss: 0.1571 - val_acc: 0.9649\n",
      "Epoch 188/200\n",
      "455/455 [==============================] - 0s 82us/step - loss: 0.1020 - acc: 0.9912 - val_loss: 0.1557 - val_acc: 0.9649\n",
      "Epoch 189/200\n",
      "455/455 [==============================] - 0s 88us/step - loss: 0.1014 - acc: 0.9912 - val_loss: 0.1547 - val_acc: 0.9649\n",
      "Epoch 190/200\n",
      "455/455 [==============================] - 0s 73us/step - loss: 0.1007 - acc: 0.9912 - val_loss: 0.1543 - val_acc: 0.9649\n",
      "Epoch 191/200\n",
      "455/455 [==============================] - 0s 78us/step - loss: 0.1000 - acc: 0.9912 - val_loss: 0.1548 - val_acc: 0.9649\n",
      "Epoch 192/200\n",
      "455/455 [==============================] - 0s 85us/step - loss: 0.0995 - acc: 0.9912 - val_loss: 0.1548 - val_acc: 0.9649\n",
      "Epoch 193/200\n",
      "455/455 [==============================] - 0s 79us/step - loss: 0.0988 - acc: 0.9912 - val_loss: 0.1543 - val_acc: 0.9649\n",
      "Epoch 194/200\n",
      "455/455 [==============================] - 0s 81us/step - loss: 0.0982 - acc: 0.9912 - val_loss: 0.1534 - val_acc: 0.9649\n",
      "Epoch 195/200\n",
      "455/455 [==============================] - 0s 63us/step - loss: 0.0976 - acc: 0.9912 - val_loss: 0.1533 - val_acc: 0.9649\n",
      "Epoch 196/200\n",
      "455/455 [==============================] - 0s 60us/step - loss: 0.0970 - acc: 0.9934 - val_loss: 0.1541 - val_acc: 0.9649\n",
      "Epoch 197/200\n",
      "455/455 [==============================] - 0s 63us/step - loss: 0.0965 - acc: 0.9912 - val_loss: 0.1534 - val_acc: 0.9649\n",
      "Epoch 198/200\n",
      "455/455 [==============================] - 0s 59us/step - loss: 0.0958 - acc: 0.9912 - val_loss: 0.1536 - val_acc: 0.9649\n",
      "Epoch 199/200\n",
      "455/455 [==============================] - 0s 62us/step - loss: 0.0952 - acc: 0.9912 - val_loss: 0.1526 - val_acc: 0.9649\n",
      "Epoch 200/200\n",
      "455/455 [==============================] - 0s 61us/step - loss: 0.0946 - acc: 0.9912 - val_loss: 0.1525 - val_acc: 0.9649\n"
     ]
    },
    {
     "data": {
      "text/plain": [
       "<keras.callbacks.History at 0x1a29d3fa90>"
      ]
     },
     "execution_count": 33,
     "metadata": {},
     "output_type": "execute_result"
    }
   ],
   "source": [
    "from keras.callbacks import EarlyStopping\n",
    "X_train, X_test, y_train, y_test = train_test_split(scaler.transform(data.data), data.target,\n",
    "                                                    test_size=0.2, random_state=1)\n",
    "# initialize model\n",
    "model = get_model_simple()\n",
    "early_stopping = EarlyStopping(monitor=\"val_loss\", patience=5)\n",
    "model.fit(X_train, y_train, validation_data=(X_test, y_test), epochs=200,\n",
    "          callbacks=[early_stopping], verbose=1)\n"
   ]
  },
  {
   "cell_type": "markdown",
   "metadata": {},
   "source": [
    "EarlyStopping callback terminated process earlier, but the model now is not the best one (according to `val_loss` criterion). The best model was achieved (`patience`+1) epochs before the end.  "
   ]
  },
  {
   "cell_type": "markdown",
   "metadata": {},
   "source": [
    "# Regularization\n",
    "\n",
    "One of the major issues with artificial neural networks is that the models are quite complicated. For example, let us consider a neural network that is pulling data from an image from the MNIST database (28 by 28 pixels), feeds into two hidden layers with 30 neurons, and finally reaches a soft-max layer of 10 neurons. The total number of parameters in the network is nearly 25,000. Aparently the model with so many parameters is prone to overfititng.\n",
    "\n",
    "Keras has a number of layers that can help prevent overfitting.  \n",
    "\n",
    "### Dropout\n",
    "\n",
    "Dropout is a regularization technique for neural network models proposed by Srivastava, et al. in their 2014 paper [Dropout: A Simple Way to Prevent Neural Networks from Overfitting](http://jmlr.org/papers/volume15/srivastava14a/srivastava14a.pdf).\n",
    "\n",
    "Dropout is a technique where randomly selected neurons are ignored during training. <br>\n",
    "They are “dropped-out” randomly. This means that their contribution to the activation of downstream neurons is temporally removed on the forward pass and any weight updates are not applied to the neuron on the backward pass.\n",
    "\n",
    "Dropout layer can be created as follows"
   ]
  },
  {
   "cell_type": "code",
   "execution_count": 34,
   "metadata": {
    "scrolled": true
   },
   "outputs": [],
   "source": [
    "from keras.layers import Dropout\n",
    "dropout_layer = Dropout(rate=0.1)"
   ]
  },
  {
   "cell_type": "markdown",
   "metadata": {},
   "source": [
    "where `rate` is float number between 0 and 1 meaning fraction of the input units to drop.\n",
    "\n",
    "Keras provides a number of Noise layers that are also useful to mitigate overfitting.  \n",
    "\n",
    "### GaussianNoise\n",
    "\n",
    "Layer `GaussianNoise(stddev)` applies additive zero-centered Gaussian noise with standard deviation `stdev`. <br>\n",
    "It could be treated as a form of random data augmentation. Since it is a regularization layer, it is only active at training time.\n",
    "\n",
    "### GaussianDropout\n",
    "\n",
    "Layer `GaussianDropout(rate)` applies multiplicative 1-centered Gaussian noise with standard deviation \n",
    "$$\\sqrt{\\frac{rate} { (1 - rate)}}.$$ \n",
    "It is only active at training time.\n",
    "\n",
    "The way of choosing appropriate dropout rate and some other parameters will be shown in TuningNetworks notebook."
   ]
  }
 ],
 "metadata": {
  "anaconda-cloud": {},
  "kernelspec": {
   "display_name": "Python 3",
   "language": "python",
   "name": "python3"
  },
  "language_info": {
   "codemirror_mode": {
    "name": "ipython",
    "version": 3
   },
   "file_extension": ".py",
   "mimetype": "text/x-python",
   "name": "python",
   "nbconvert_exporter": "python",
   "pygments_lexer": "ipython3",
   "version": "3.6.7"
  },
  "latex_envs": {
   "LaTeX_envs_menu_present": true,
   "autoclose": false,
   "autocomplete": true,
   "bibliofile": "biblio.bib",
   "cite_by": "apalike",
   "current_citInitial": 1,
   "eqLabelWithNumbers": true,
   "eqNumInitial": 1,
   "hotkeys": {
    "equation": "Ctrl-E",
    "itemize": "Ctrl-I"
   },
   "labels_anchors": false,
   "latex_user_defs": false,
   "report_style_numbering": false,
   "user_envs_cfg": false
  },
  "varInspector": {
   "cols": {
    "lenName": 16,
    "lenType": 16,
    "lenVar": 40
   },
   "kernels_config": {
    "python": {
     "delete_cmd_postfix": "",
     "delete_cmd_prefix": "del ",
     "library": "var_list.py",
     "varRefreshCmd": "print(var_dic_list())"
    },
    "r": {
     "delete_cmd_postfix": ") ",
     "delete_cmd_prefix": "rm(",
     "library": "var_list.r",
     "varRefreshCmd": "cat(var_dic_list()) "
    }
   },
   "position": {
    "height": "144px",
    "left": "1310px",
    "right": "19px",
    "top": "120px",
    "width": "350px"
   },
   "types_to_exclude": [
    "module",
    "function",
    "builtin_function_or_method",
    "instance",
    "_Feature"
   ],
   "window_display": false
  }
 },
 "nbformat": 4,
 "nbformat_minor": 1
}
