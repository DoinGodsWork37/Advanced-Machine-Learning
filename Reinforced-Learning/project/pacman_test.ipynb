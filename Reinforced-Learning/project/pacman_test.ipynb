{
 "cells": [
  {
   "cell_type": "code",
   "execution_count": 1,
   "metadata": {
    "scrolled": true
   },
   "outputs": [
    {
     "name": "stderr",
     "output_type": "stream",
     "text": [
      "Using TensorFlow backend.\n"
     ]
    }
   ],
   "source": [
    "from keras.models import load_model\n",
    "from keras.models import Sequential, clone_model\n",
    "from keras.layers import Dense, InputLayer\n",
    "from keras.optimizers import Adam\n",
    "from keras.callbacks import CSVLogger, TensorBoard\n",
    "import keras.backend as K\n",
    "import random\n",
    "import gc\n",
    "import time\n",
    "import numpy as np\n",
    "import os.path"
   ]
  },
  {
   "cell_type": "code",
   "execution_count": 3,
   "metadata": {},
   "outputs": [],
   "source": [
    "import json\n",
    "from mini_pacman import PacmanGame\n",
    "\n",
    "with open('test_params.json', 'r') as file:\n",
    "    read_params = json.load(file)\n",
    "    game_params = read_params['params']\n",
    "    env = PacmanGame(**game_params)"
   ]
  },
  {
   "cell_type": "code",
   "execution_count": null,
   "metadata": {},
   "outputs": [],
   "source": [
    "def get_state(obs):\n",
    "    v = []\n",
    "    x,y = obs[\"player\"]\n",
    "    v.append(x)\n",
    "    v.append(y)\n",
    "    for x, y in obs[\"monsters\"]:\n",
    "        v.append(x)\n",
    "        v.append(y)\n",
    "    for x, y in obs[\"diamonds\"]:\n",
    "        v.append(x)\n",
    "        v.append(y)\n",
    "    for x, y in obs[\"walls\"]:\n",
    "        v.append(x)\n",
    "        v.append(y)\n",
    "    return v"
   ]
  },
  {
   "cell_type": "code",
   "execution_count": 6,
   "metadata": {},
   "outputs": [],
   "source": [
    "obs = env.reset()\n",
    "array_obs = np.array(get_state(obs))\n",
    "\n",
    "input_shape = array_obs.shape\n",
    "nb_actions = 9"
   ]
  },
  {
   "cell_type": "code",
   "execution_count": 7,
   "metadata": {},
   "outputs": [],
   "source": [
    "model = Sequential()\n",
    "model.add(Dense(units=32, input_shape=input_shape, activation=\"relu\"))\n",
    "model.add(Dense(units=64, activation=\"relu\"))\n",
    "model.add(Dense(units=64, activation=\"relu\"))\n",
    "model.add(Dense(units=512, activation=\"relu\"))\n",
    "model.add(Dense(nb_actions, activation=\"linear\"))\n",
    "model.compile(optimizer=Adam(), loss=\"mse\")"
   ]
  },
  {
   "cell_type": "code",
   "execution_count": 8,
   "metadata": {},
   "outputs": [],
   "source": [
    "model.load_weights('pacman1.h5')"
   ]
  },
  {
   "cell_type": "code",
   "execution_count": 9,
   "metadata": {},
   "outputs": [],
   "source": [
    "def test_dqn(env, n_games, model, nb_actions, eps=0.05, render=False, sleep_time=0.01):\n",
    "    scores = []\n",
    "    for i in range(n_games):\n",
    "        obs = env.reset()\n",
    "        score = 0\n",
    "        done = False\n",
    "        while not done:\n",
    "            obs_state = np.array([get_state(obs)])\n",
    "            q_values = model.predict(obs_state)[0]  \n",
    "            nb_actions = obs['possible_actions']\n",
    "            action = epsilon_greedy(q_values, eps, nb_actions)\n",
    "            next_obs = env.make_action(action)\n",
    "            done = next_obs['end_game']\n",
    "            reward = next_obs['reward']\n",
    "            obs = next_obs\n",
    "            score += reward\n",
    "            if render:\n",
    "                env.render()\n",
    "                time.sleep(sleep_time)\n",
    "        scores.append(score)\n",
    "    return scores"
   ]
  },
  {
   "cell_type": "code",
   "execution_count": 10,
   "metadata": {},
   "outputs": [],
   "source": [
    "def epsilon_greedy(q_values, epsilon, poss_actions):\n",
    "    if random.random() < epsilon:\n",
    "        # make sure n_outputs is a list of possible actions\n",
    "        return random.choice(poss_actions)  # random action # return random pic from list of possbile actions \n",
    "    else:\n",
    "        actions_array = np.array(poss_actions)\n",
    "        actions_array_index = actions_array-1\n",
    "        maxid= np.argmax(q_values[actions_array_index])\n",
    "        maxaction = actions_array[maxid]\n",
    "        return (maxaction)  # q-optimal action"
   ]
  },
  {
   "cell_type": "code",
   "execution_count": 11,
   "metadata": {},
   "outputs": [],
   "source": [
    "scores = test_dqn(env, 10, model, nb_actions, eps=0.01, render=True)"
   ]
  },
  {
   "cell_type": "code",
   "execution_count": 12,
   "metadata": {},
   "outputs": [],
   "source": [
    "env.close()"
   ]
  },
  {
   "cell_type": "code",
   "execution_count": 13,
   "metadata": {},
   "outputs": [
    {
     "data": {
      "text/plain": [
       "[827, 2200, 625, 730, 933, 742, 2, 4, 1695, 104]"
      ]
     },
     "execution_count": 13,
     "metadata": {},
     "output_type": "execute_result"
    }
   ],
   "source": [
    "scores"
   ]
  },
  {
   "cell_type": "code",
   "execution_count": 14,
   "metadata": {},
   "outputs": [],
   "source": [
    "def DQN_strategy(obs):\n",
    "    eps=0.01\n",
    "    state=get_state(obs)\n",
    "    q_values = model.predict(np.array([state]))[0]\n",
    "    pos_actions = obs[\"possible_actions\"]\n",
    "    action = epsilon_greedy(q_values, eps, pos_actions)\n",
    "    return action\n",
    "\n"
   ]
  },
  {
   "cell_type": "code",
   "execution_count": 15,
   "metadata": {},
   "outputs": [
    {
     "name": "stdout",
     "output_type": "stream",
     "text": [
      "Your average score is 747.756, median is 541.5, saved log to 'test_pacman_log.json'. Do not forget to upload it for submission!\n"
     ]
    },
    {
     "data": {
      "text/plain": [
       "541.5"
      ]
     },
     "execution_count": 15,
     "metadata": {},
     "output_type": "execute_result"
    }
   ],
   "source": [
    "from mini_pacman import test\n",
    "test(DQN_strategy)"
   ]
  },
  {
   "cell_type": "code",
   "execution_count": 16,
   "metadata": {},
   "outputs": [
    {
     "data": {
      "text/plain": [
       "'/Users/joshuagoldberg/PycharmProjects/Advanced-Machine-Learning/Reinforced-Learning/project'"
      ]
     },
     "execution_count": 16,
     "metadata": {},
     "output_type": "execute_result"
    }
   ],
   "source": [
    "import os\n",
    "os.getcwd()"
   ]
  }
 ],
 "metadata": {
  "kernelspec": {
   "display_name": "Python 3",
   "language": "python",
   "name": "python3"
  },
  "language_info": {
   "codemirror_mode": {
    "name": "ipython",
    "version": 3
   },
   "file_extension": ".py",
   "mimetype": "text/x-python",
   "name": "python",
   "nbconvert_exporter": "python",
   "pygments_lexer": "ipython3",
   "version": "3.6.7"
  },
  "latex_envs": {
   "LaTeX_envs_menu_present": true,
   "autoclose": false,
   "autocomplete": true,
   "bibliofile": "biblio.bib",
   "cite_by": "apalike",
   "current_citInitial": 1,
   "eqLabelWithNumbers": true,
   "eqNumInitial": 1,
   "hotkeys": {
    "equation": "Ctrl-E",
    "itemize": "Ctrl-I"
   },
   "labels_anchors": false,
   "latex_user_defs": false,
   "report_style_numbering": false,
   "user_envs_cfg": false
  },
  "varInspector": {
   "cols": {
    "lenName": 16,
    "lenType": 16,
    "lenVar": 40
   },
   "kernels_config": {
    "python": {
     "delete_cmd_postfix": "",
     "delete_cmd_prefix": "del ",
     "library": "var_list.py",
     "varRefreshCmd": "print(var_dic_list())"
    },
    "r": {
     "delete_cmd_postfix": ") ",
     "delete_cmd_prefix": "rm(",
     "library": "var_list.r",
     "varRefreshCmd": "cat(var_dic_list()) "
    }
   },
   "types_to_exclude": [
    "module",
    "function",
    "builtin_function_or_method",
    "instance",
    "_Feature"
   ],
   "window_display": true
  }
 },
 "nbformat": 4,
 "nbformat_minor": 2
}
