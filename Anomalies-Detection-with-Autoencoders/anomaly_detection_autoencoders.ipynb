{
 "cells": [
  {
   "cell_type": "markdown",
   "metadata": {},
   "source": [
    "Importing the modules we will need for this exercise"
   ]
  },
  {
   "cell_type": "code",
   "execution_count": 1,
   "metadata": {},
   "outputs": [
    {
     "name": "stderr",
     "output_type": "stream",
     "text": [
      "Using TensorFlow backend.\n"
     ]
    }
   ],
   "source": [
    "import numpy as np\n",
    "from pandas.plotting import scatter_matrix\n",
    "import pandas as pd\n",
    "import pickle\n",
    "import matplotlib.pyplot as plt\n",
    "from scipy import stats\n",
    "import tensorflow as tf\n",
    "import seaborn as sns\n",
    "from pylab import rcParams\n",
    "from sklearn.model_selection import train_test_split\n",
    "from sklearn.linear_model import LogisticRegression\n",
    "from sklearn.metrics import mean_squared_error\n",
    "import h5py\n",
    "from keras.models import Model, load_model\n",
    "from keras.layers import Input, Dense, Dropout, BatchNormalization\n",
    "from keras.callbacks import ModelCheckpoint, EarlyStopping\n",
    "from keras import regularizers\n",
    "%matplotlib inline\n",
    "sns.set(style='whitegrid', palette='muted', font_scale=1.5)\n",
    "RANDOM_SEED = 42\n",
    "LABELS = [\"Normal\", \"Fraud\"]\n",
    "from sklearn import preprocessing\n",
    "import IPython\n",
    "from sklearn.preprocessing import StandardScaler\n",
    "from sklearn.metrics import (confusion_matrix, auc, roc_curve, cohen_kappa_score, accuracy_score)"
   ]
  },
  {
   "cell_type": "markdown",
   "metadata": {},
   "source": [
    "# Project data and step-by-step instructions\n",
    "\n",
    "The goal of this project is to to detect illegitimate connections in a computer network using an **autoencoder** \n",
    "\n",
    "## Data set description\n",
    "\n",
    "Data set for this project is from [The Third International Knowledge Discovery and Data Mining Tools Competition](http://kdd.ics.uci.edu/databases/kddcup99/kddcup99.html) at KDD-99, The Fifth International Conference on Knowledge Discovery and Data Mining. File `kddCupTrain.csv` with the data necessary for this project contains only one of multiple types of attacks (see below).  \n",
    "\n",
    "The competition [task](http://kdd.ics.uci.edu/databases/kddcup99/task.html) was building a network intrusion detector capable of distinguishing \"bad\" connections, called intrusions or attacks, from \"good\" normal connections. This database contains a variety of intrusions simulated in a military network environment.\n",
    "\n",
    "The original KDD training dataset consists of approximately 4,900,000 single connection vectors each of which contains 41 features and is labeled as either normal or an attack, with exactly one specific attack type. The simulated attacks fall in one of the following four categories:\n",
    "1. Denial of Service Attack (DoS): is an attack in which the attacker makes some computing or memory resource too busy or too full to handle legitimate requests, or denies legitimate users access to a machine.\n",
    "2. User to Root Attack (U2R): is a class in which the attacker starts out with access to a normal user account on the system (perhaps gained by sniffing passwords, a dictionary attack, or social engineering) and is able to exploit some vulnerability to gain root access to the system.\n",
    "3. Remote to Local Attack (R2L): occurs when an attacker who has the ability to send packets to a machine over a network but who does not have an account on that machine exploits some vulnerability to gain local access as a user of that machine.\n",
    "4. Probing Attack: is an attempt to gather information about a network of computers for the apparent purpose of circumventing its security controls.\n",
    "\n",
    "\n",
    "Attacks contained in the dataset: \n",
    "\n",
    "Attack Category | Attack Type\n",
    "--- | ---\n",
    "DoS | back, land, neptune, <br>pod, smurf, teardrop\n",
    "U2R | buffer_overflow, loadmodule, <br>perl, rootkit\n",
    "R2L | ftp_write, guess_passwd, <br>imap, multihop, rhf, <br>spy, warezclient, warezmaster\n",
    "Probe | portsweep, ipsweep, <br>satan, nmap\n",
    "\n",
    "\n"
   ]
  },
  {
   "cell_type": "markdown",
   "metadata": {},
   "source": [
    "KDD-99 features can be classified into three groups:  \n",
    "1) **Basic features**: this category encapsulates all the attributes that can be extracted from a TCP/IP connection. Most of these features leading to an implicit delay in detection.  \n",
    "2) **Traffic features**: this category includes features that are computed with respect to a window interval and is divided into two groups:\n",
    "* **\"same host\" features**: examine only the connections in the past 2 seconds that have the same destination host as the current connection, and calculate statistics related to protocol behavior, service, etc.\n",
    "* **\"same service\" features**: examine only the connections in the past 2 seconds that have the same service as the current connection.  \n",
    "\n",
    "These two types of \"traffic\" features are called time-based as opposed to the following connection-based type. \n",
    "\n",
    "* **\"connection-based\" features**: there are several types of slow probing attacks that scan the hosts (or ports) using a much larger time interval than 2 seconds, for example, one in every minute. As a result, these attacks do not produce intrusion patterns with a time window of 2 seconds. To detect such attacks the “same host” and “same service” features are  recalculated but based on the connection window of 100 connections rather than a time window of 2 seconds. These features are called **connection-based traffic features**.  \n",
    "\n",
    "3) **Content features**: unlike most of the DoS and Probing attacks, the R2L and U2R attacks don’t have any frequent sequential intrusion patterns. This is because the DoS and Probing attacks involve many connections to some host(s) in a very short period of time. Unlike them, the R2L and U2R attacks are embedded in the data portions of the packets, and normally involve only a single connection. To detect these kinds of attacks, one needs some features in order to look for suspicious behavior in the data portion, e.g., number of failed login attempts. These features are called **content features**."
   ]
  },
  {
   "cell_type": "markdown",
   "metadata": {},
   "source": [
    "#### Table 1: Basic features of individual TCP connections.\n",
    "nn | feature name |\tdescription |\ttype\n",
    "--:|------------|-----------|-----------\n",
    "0 | duration | length (number of seconds) of the connection |\tcontinuous\n",
    "1 | protocol_type |\ttype of the protocol, e.g. tcp, udp, etc. |\tsymbolic\n",
    "2 | service |\tnetwork service on the destination, e.g., http, telnet, etc. |\tsymbolic\n",
    "3 | flag |\tnormal or error status of the connection |\tsymbolic \n",
    "4 | src_bytes |\tnumber of data bytes from source to destination |\tcontinuous\n",
    "5 | dst_bytes |\tnumber of data bytes from destination to source |\tcontinuous\n",
    "6 | land |\t1 if connection is from/to the same host/port; 0 otherwise |\tbinary\n",
    "7 | wrong_fragment |\tnumber of \"wrong\" fragments |\tcontinuous\n",
    "8 | urgent |\tnumber of urgent packets |\tcontinuous"
   ]
  },
  {
   "cell_type": "markdown",
   "metadata": {},
   "source": [
    "#### Table 2: Content features within a connection suggested by domain knowledge.\n",
    "nn | feature name |\tdescription |\ttype\n",
    "---:|------------ | ------------ | --------\n",
    "9 | hot |\tnumber of \"hot\" indicators |\tcontinuous\n",
    "10 | num_failed_logins |\tnumber of failed login attempts |\tcontinuous\n",
    "11 | logged_in |\t1 if successfully logged in; 0 otherwise |\tbinary\n",
    "12 | num_compromised |\tnumber of \"compromised\" conditions |\tcontinuous\n",
    "13 | root_shell |\t1 if root shell is obtained; 0 otherwise |\tbinary\n",
    "14 | su_attempted |\t1 if \"su root\" command attempted; 0 otherwise |\tbinary\n",
    "15 | num_root |\tnumber of \"root\" accesses |\tcontinuous\n",
    "16 | num_file_creations |\tnumber of file creation operations |\tcontinuous\n",
    "17 | num_shells |\tnumber of shell prompts |\tcontinuous\n",
    "18 | num_access_files |\tnumber of operations on access control files |\tcontinuous\n",
    "19 | num_outbound_cmds |\tnumber of outbound commands in an ftp session |\tcontinuous\n",
    "20 | is_hot_login |\t1 if the login belongs to the \"hot\" list; 0 otherwise |\tbinary\n",
    "21 | is_guest_login |\t1 if the login is a \"guest\" login; 0 otherwise |\tbinary"
   ]
  },
  {
   "cell_type": "markdown",
   "metadata": {},
   "source": [
    "#### Table 3: Traffic features computed using a two-second time window.\n",
    "nn  | feature name |\tdescription |\ttype\n",
    "---:|------------ | ------------ | --------\n",
    "22 | count |\tnumber of connections to the same host as the current connection in the past two seconds |\tcontinuous\n",
    " | | Note: The following  features refer to these same-host connections.\t|\n",
    "23 | serror_rate |\t% of connections that have \"SYN\" errors |\tcontinuous\n",
    "24 | rerror_rate |\t% of connections that have \"REJ\" errors |\tcontinuous\n",
    "25 | same_srv_rate |\t% of connections to the same service |\tcontinuous\n",
    "26 | diff_srv_rate |\t% of connections to different services |\tcontinuous\n",
    "27 | srv_count |\tnumber of connections to the same service as the current connection in the past two seconds |\tcontinuous\n",
    " |  | Note: The following features refer to these same-service connections.\t|\n",
    "28 | srv_serror_rate |\t% of connections that have \"SYN\" errors |\tcontinuous\n",
    "29 | srv_rerror_rate |\t% of connections that have \"REJ\" errors |\tcontinuous\n",
    "30 | srv_diff_host_rate |\t% of connections to different hosts |\tcontinuous\n",
    "31 | dst_host_count |\tnumber of connections from the same address to the same host as the current connection in the past two seconds |\tcontinuous\n",
    "32 | dst_host_srv_count | number of connections from the same host to the same service as the current connection in the past two seconds | continuous\n",
    " |  | Note: The following features refer to these same-host and same-service connections.\t|\n",
    "33 | dst_host_same_srv_rate | |\tcontinuous\n",
    "34 | dst_host_diff_srv_rate | |\tcontinuous\n",
    "35 | dst_host_same_src_port_rate | |\tcontinuous\n",
    "36 | dst_host_srv_diff_host_rate | |\tcontinuous\n",
    "37 | dst_host_serror_rate | |\tcontinuous\n",
    "38 | dst_host_srv_serror_rate | |\tcontinuous\n",
    "39 | dst_host_rerror_rate | |\tcontinuous\n",
    "40 | dst_host_srv_rerror_rate | |\tcontinuous"
   ]
  },
  {
   "cell_type": "markdown",
   "metadata": {},
   "source": [
    "The attribute labeled **41** in the data set is the **\"Class\"** attribute which indicates whether a given instance is a normal connection instance or an attack."
   ]
  },
  {
   "cell_type": "markdown",
   "metadata": {},
   "source": [
    "## Preparing the data set\n",
    "\n",
    "### Reading the data set\n",
    "\n",
    "And checking if the data set has any missing values"
   ]
  },
  {
   "cell_type": "code",
   "execution_count": 2,
   "metadata": {},
   "outputs": [
    {
     "name": "stdout",
     "output_type": "stream",
     "text": [
      "Shape of kddCupTrain:  (985262, 42)\n",
      "There are any missing values:  False\n",
      "   0    1     2   3    4      5   6   7   8   9    ...     32   33   34   35  \\\n",
      "0   0  tcp  http  SF  215  45076   0   0   0   0   ...      0  0.0  0.0  0.0   \n",
      "1   0  tcp  http  SF  162   4528   0   0   0   0   ...      1  1.0  0.0  1.0   \n",
      "2   0  tcp  http  SF  236   1228   0   0   0   0   ...      2  1.0  0.0  0.5   \n",
      "\n",
      "    36   37   38   39   40       41  \n",
      "0  0.0  0.0  0.0  0.0  0.0  normal.  \n",
      "1  0.0  0.0  0.0  0.0  0.0  normal.  \n",
      "2  0.0  0.0  0.0  0.0  0.0  normal.  \n",
      "\n",
      "[3 rows x 42 columns]\n"
     ]
    }
   ],
   "source": [
    "kddCupTrain = pd.read_csv('kddCupData/kddCupTrain.csv',header=None)\n",
    "print(\"Shape of kddCupTrain: \",kddCupTrain.shape)\n",
    "print(\"There are any missing values: \", kddCupTrain.isnull().values.any())\n",
    "print(kddCupTrain.head(3))"
   ]
  },
  {
   "cell_type": "markdown",
   "metadata": {},
   "source": [
    "The train dataset contains instances of only two class types from the [original](http://kdd.ics.uci.edu/databases/kddcup99/kddcup99.html) data: \n",
    "- \"normal.\" - no attack\n",
    "- \"ipsweep.\" - a subtype of \"probe\" or Probing Attack type.  "
   ]
  },
  {
   "cell_type": "code",
   "execution_count": 3,
   "metadata": {},
   "outputs": [
    {
     "data": {
      "text/plain": [
       "array(['normal.', 'ipsweep.'], dtype=object)"
      ]
     },
     "execution_count": 3,
     "metadata": {},
     "output_type": "execute_result"
    }
   ],
   "source": [
    "kddCupTrain.iloc[:,-1].unique()"
   ]
  },
  {
   "cell_type": "markdown",
   "metadata": {},
   "source": [
    "Thus, we can see that we have to just formulate a binary classification model here, we will try to do this through auto-encoders"
   ]
  },
  {
   "cell_type": "markdown",
   "metadata": {},
   "source": [
    "Rename column '41' to 'Class' and transform its values from symbolic type fo binary:  \n",
    "- \"normal.\" to 0  \n",
    "- \"ipsweep.\" to 1"
   ]
  },
  {
   "cell_type": "code",
   "execution_count": 3,
   "metadata": {},
   "outputs": [],
   "source": [
    "kddCupTrain.rename(columns={41:'Class'}, inplace=True)\n",
    "kddCupTrain['Class'] = np.where(kddCupTrain['Class'] == 'normal.', 0, 1)"
   ]
  },
  {
   "cell_type": "markdown",
   "metadata": {},
   "source": [
    "Check counts of classes."
   ]
  },
  {
   "cell_type": "code",
   "execution_count": 4,
   "metadata": {},
   "outputs": [
    {
     "name": "stdout",
     "output_type": "stream",
     "text": [
      "0    972781\n",
      "1     12481\n",
      "Name: Class, dtype: int64\n"
     ]
    }
   ],
   "source": [
    "count_classes = pd.value_counts(kddCupTrain['Class'], sort = True)\n",
    "print(count_classes)"
   ]
  },
  {
   "cell_type": "markdown",
   "metadata": {},
   "source": [
    "The dataset is highly imbalanced. Normal connections overwhelmingly outnumber fraudulent ones. \n",
    "This suggests using an autoencoder to detect attacks as rare deviations from normal.\n",
    "\n",
    "Checking the distribution of the classes"
   ]
  },
  {
   "cell_type": "markdown",
   "metadata": {},
   "source": [
    "#### Remove the uninformative columns\n",
    "\n",
    "Look at summaries of numeric features."
   ]
  },
  {
   "cell_type": "code",
   "execution_count": 5,
   "metadata": {},
   "outputs": [
    {
     "name": "stderr",
     "output_type": "stream",
     "text": [
      "UsageError: Line magic function `%matlplotlib` not found.\n"
     ]
    }
   ],
   "source": [
    "%matlplotlib inline\n",
    "print(kddCupTrain.describe(percentiles=[]))"
   ]
  },
  {
   "cell_type": "markdown",
   "metadata": {},
   "source": [
    "Note that some features are constant (min = max and std = 0.0). Such features are not necessary and need to be removed using"
   ]
  },
  {
   "cell_type": "code",
   "execution_count": 6,
   "metadata": {},
   "outputs": [
    {
     "name": "stdout",
     "output_type": "stream",
     "text": [
      "[7, 19]\n"
     ]
    }
   ],
   "source": [
    "columnsList=[7, 19]\n",
    "print(columnsList)"
   ]
  },
  {
   "cell_type": "markdown",
   "metadata": {},
   "source": [
    "### Removing uninformative columns below"
   ]
  },
  {
   "cell_type": "code",
   "execution_count": 7,
   "metadata": {},
   "outputs": [],
   "source": [
    "kddCupTrain.drop(columnsList, axis=1, inplace=True)"
   ]
  },
  {
   "cell_type": "markdown",
   "metadata": {},
   "source": [
    "#### 1.3. Transform symbolic features to \"One Hot\" columns\n",
    "\n",
    "Transform character features \"1\", \"2\" and \"3\" into \"One Hot\" columns using `pandas.get_dummies()` .\n",
    "\n",
    "As a result, the first two rows of `kddCupTrain` should look like this:  \n",
    "\n",
    "|  0  |  4  |    5 | 6 | 8 | 9 | 10 | 11 | 12 | 13 | 14 | 15 | 16 | 17 | 18 | 20 | 21 | 22 | 23   \n",
    "--|--\n",
    "0 | 0 | 215 | 45076 | 0 | 0 | 0 |  0 |  1 |  0 |  0 |  0 |  0 |  0 |  0 |  0 |  0 |  0 |  1 | 1   \n",
    "1 | 0 | 162 | 4528 | 0 | 0 | 0 | 0 | 1 | 0 | 0 | 0 | 0 | 0 | 0 | 0 | 0 | 0 | 2 | 2   \n",
    "\n",
    "| 24 | 25 | 26 | 27 |  28 |  29  | 30 | 31 | 32 | 33 | 34 | 35 | 36 | 37 | 38\n",
    "--|--\n",
    "0|0.0 | 0.0 | 0.0 | 0.0 | 1.0 | 0.0 | 0.0 |  0 |  0 | 0.0 | 0.0 | 0.0 | 0.0 | 0.0 | 0.0   \n",
    "1|0.0 | 0.0 | 0.0 | 0.0 | 1.0 | 0.0 | 0.0 |  1 |  1 | 1.0 | 0.0 | 1.0 | 0.0 | 0.0 | 0.0   \n",
    "\n",
    "  | 39 | 40 | Class | 1_icmp | 1_tcp | 1_udp | 2_IRC | 2_X11 | 2_auth | 2_ctf\n",
    "--|--\n",
    "0 | 0.0 | 0.0 | 0 | 0 | 1 | 0 |  0  |    0  |     0  |    0   \n",
    "1 | 0.0 | 0.0 | 0 | 0 | 1 | 0 |  0  |    0  |     0  |    0   \n",
    "\n",
    " | 2_domain | 2_domain_u | 2_eco_i | 2_ecr_i | 2_finger | 2_ftp | 2_ftp_data\n",
    " --|--\n",
    "0  |   0  |    0  |   0  |  0  |   0  |    0   |   0   \n",
    "1  |   0  |    0  |   0  |  0  |   0  |    0   |   0   \n",
    "\n",
    "| 2_gopher | 2_http | 2_imap4 | 2_link | 2_mtp | 2_name | 2_ntp_u | 2_other \n",
    "--|--\n",
    "0 |   0  |     1   |     0  |     0  |    0  |     0  |      0   |     0   \n",
    "1 |   0  |     1   |     0  |     0  |    0  |     0  |      0   |     0   \n",
    "\n",
    "| 2_pop_3 | 2_private | 2_red_i | 2_remote_job | 2_rje | 2_shell | 2_smtp | 2_ssh \n",
    "--|--\n",
    "0 |       0 |         0 |       0 |            0 |     0 |       0 |      0 |     0   \n",
    "1 |       0 |         0 |       0 |            0 |     0 |       0 |      0 |     0   \n",
    "\n",
    "| 2_telnet | 2_tftp_u | 2_tim_i | 2_time | 2_urh_i | 2_urp_i | 2_whois | 3_OTH  \n",
    "--|--\n",
    "0 |        0 |     0 |       0 |      0 |       0 |       0 |       0 |     0   \n",
    "1 |        0 |     0 |       0 |      0 |       0 |       0 |       0 |     0   \n",
    "\n",
    "| 3_REJ | 3_RSTO | 3_RSTR | 3_S0 | 3_S1 | 3_S2 | 3_S3 | 3_SF | 3_SH  \n",
    "--|--\n",
    "0 |     0 |      0 |      0 |    0 |    0 |    0 |    0 |    1 |    0  \n",
    "1 |     0 |      0 |      0 |    0 |    0 |    0 |    0 |    1 |    0  "
   ]
  },
  {
   "cell_type": "code",
   "execution_count": 8,
   "metadata": {},
   "outputs": [],
   "source": [
    "kddCupTrain = pd.get_dummies(kddCupTrain, columns = [1,2,3])"
   ]
  },
  {
   "cell_type": "code",
   "execution_count": 9,
   "metadata": {},
   "outputs": [
    {
     "data": {
      "text/plain": [
       "84"
      ]
     },
     "execution_count": 9,
     "metadata": {},
     "output_type": "execute_result"
    }
   ],
   "source": [
    "len(list(kddCupTrain.columns.values))"
   ]
  },
  {
   "cell_type": "code",
   "execution_count": 10,
   "metadata": {},
   "outputs": [
    {
     "data": {
      "text/plain": [
       "[0,\n",
       " 4,\n",
       " 5,\n",
       " 6,\n",
       " 8,\n",
       " 9,\n",
       " 10,\n",
       " 11,\n",
       " 12,\n",
       " 13,\n",
       " 14,\n",
       " 15,\n",
       " 16,\n",
       " 17,\n",
       " 18,\n",
       " 20,\n",
       " 21,\n",
       " 22,\n",
       " 23,\n",
       " 24,\n",
       " 25,\n",
       " 26,\n",
       " 27,\n",
       " 28,\n",
       " 29,\n",
       " 30,\n",
       " 31,\n",
       " 32,\n",
       " 33,\n",
       " 34,\n",
       " 35,\n",
       " 36,\n",
       " 37,\n",
       " 38,\n",
       " 39,\n",
       " 40,\n",
       " 'Class',\n",
       " '1_icmp',\n",
       " '1_tcp',\n",
       " '1_udp',\n",
       " '2_IRC',\n",
       " '2_X11',\n",
       " '2_auth',\n",
       " '2_ctf',\n",
       " '2_domain',\n",
       " '2_domain_u',\n",
       " '2_eco_i',\n",
       " '2_ecr_i',\n",
       " '2_finger',\n",
       " '2_ftp',\n",
       " '2_ftp_data',\n",
       " '2_gopher',\n",
       " '2_http',\n",
       " '2_imap4',\n",
       " '2_link',\n",
       " '2_mtp',\n",
       " '2_name',\n",
       " '2_ntp_u',\n",
       " '2_other',\n",
       " '2_pop_3',\n",
       " '2_private',\n",
       " '2_red_i',\n",
       " '2_remote_job',\n",
       " '2_rje',\n",
       " '2_shell',\n",
       " '2_smtp',\n",
       " '2_ssh',\n",
       " '2_telnet',\n",
       " '2_tftp_u',\n",
       " '2_tim_i',\n",
       " '2_time',\n",
       " '2_urh_i',\n",
       " '2_urp_i',\n",
       " '2_whois',\n",
       " '3_OTH',\n",
       " '3_REJ',\n",
       " '3_RSTO',\n",
       " '3_RSTR',\n",
       " '3_S0',\n",
       " '3_S1',\n",
       " '3_S2',\n",
       " '3_S3',\n",
       " '3_SF',\n",
       " '3_SH']"
      ]
     },
     "execution_count": 10,
     "metadata": {},
     "output_type": "execute_result"
    }
   ],
   "source": [
    "list(kddCupTrain.columns.values)"
   ]
  },
  {
   "cell_type": "code",
   "execution_count": 11,
   "metadata": {},
   "outputs": [
    {
     "data": {
      "text/plain": [
       "(985262, 84)"
      ]
     },
     "execution_count": 11,
     "metadata": {},
     "output_type": "execute_result"
    }
   ],
   "source": [
    "kddCupTrain.shape"
   ]
  },
  {
   "cell_type": "markdown",
   "metadata": {},
   "source": [
    "### Now, we need to standardize the data set, classify it into training and testing data set.\n",
    "### Use the scaling function to scale it"
   ]
  },
  {
   "cell_type": "code",
   "execution_count": 12,
   "metadata": {
    "scrolled": true
   },
   "outputs": [
    {
     "name": "stdout",
     "output_type": "stream",
     "text": [
      "<tensorflow.python.client.session.Session object at 0x1a281bcdd8>\n"
     ]
    }
   ],
   "source": [
    "sess = tf.Session(config=tf.ConfigProto(log_device_placement=True))\n",
    "print(sess)"
   ]
  },
  {
   "cell_type": "code",
   "execution_count": 13,
   "metadata": {},
   "outputs": [],
   "source": [
    "scalingcolumn = kddCupTrain.iloc[:,0:36].columns"
   ]
  },
  {
   "cell_type": "code",
   "execution_count": 14,
   "metadata": {
    "scrolled": true
   },
   "outputs": [
    {
     "name": "stdout",
     "output_type": "stream",
     "text": [
      "featuresList:  [0, 4, 5, 6, 8, 9, 10, 11, 12, 13, 14, 15, 16, 17, 18, 20, 21, 22, 23, 24, 25, 26, 27, 28, 29, 30, 31, 32, 33, 34, 35, 36, 37, 38, 39, 40, '1_icmp', '1_tcp', '1_udp', '2_IRC', '2_X11', '2_auth', '2_ctf', '2_domain', '2_domain_u', '2_eco_i', '2_ecr_i', '2_finger', '2_ftp', '2_ftp_data', '2_gopher', '2_http', '2_imap4', '2_link', '2_mtp', '2_name', '2_ntp_u', '2_other', '2_pop_3', '2_private', '2_red_i', '2_remote_job', '2_rje', '2_shell', '2_smtp', '2_ssh', '2_telnet', '2_tftp_u', '2_tim_i', '2_time', '2_urh_i', '2_urp_i', '2_whois', '3_OTH', '3_REJ', '3_RSTO', '3_RSTR', '3_S0', '3_S1', '3_S2', '3_S3', '3_SF', '3_SH']\n"
     ]
    }
   ],
   "source": [
    "featuresList = [col for col in kddCupTrain if col != 'Class']\n",
    "print('featuresList: ',featuresList)"
   ]
  },
  {
   "cell_type": "markdown",
   "metadata": {},
   "source": [
    "Removing some additional columns which are not there in the test data set."
   ]
  },
  {
   "cell_type": "code",
   "execution_count": 15,
   "metadata": {},
   "outputs": [],
   "source": [
    "featuresList = [x for x in featuresList if x!='2_tftp_u']\n",
    "featuresList = [x for x in featuresList if x!='3_SH']"
   ]
  },
  {
   "cell_type": "code",
   "execution_count": 16,
   "metadata": {},
   "outputs": [
    {
     "name": "stderr",
     "output_type": "stream",
     "text": [
      "/Users/joshuagoldberg/anaconda3/lib/python3.6/site-packages/sklearn/preprocessing/data.py:625: DataConversionWarning: Data with input dtype int64, float64 were all converted to float64 by StandardScaler.\n",
      "  return self.partial_fit(X, y)\n",
      "/Users/joshuagoldberg/anaconda3/lib/python3.6/site-packages/ipykernel_launcher.py:4: DataConversionWarning: Data with input dtype int64, float64 were all converted to float64 by StandardScaler.\n",
      "  after removing the cwd from sys.path.\n"
     ]
    },
    {
     "data": {
      "text/html": [
       "<div>\n",
       "<style scoped>\n",
       "    .dataframe tbody tr th:only-of-type {\n",
       "        vertical-align: middle;\n",
       "    }\n",
       "\n",
       "    .dataframe tbody tr th {\n",
       "        vertical-align: top;\n",
       "    }\n",
       "\n",
       "    .dataframe thead th {\n",
       "        text-align: right;\n",
       "    }\n",
       "</style>\n",
       "<table border=\"1\" class=\"dataframe\">\n",
       "  <thead>\n",
       "    <tr style=\"text-align: right;\">\n",
       "      <th></th>\n",
       "      <th>0</th>\n",
       "      <th>4</th>\n",
       "      <th>5</th>\n",
       "      <th>6</th>\n",
       "      <th>8</th>\n",
       "      <th>9</th>\n",
       "      <th>10</th>\n",
       "      <th>11</th>\n",
       "      <th>12</th>\n",
       "      <th>13</th>\n",
       "      <th>...</th>\n",
       "      <th>3_OTH</th>\n",
       "      <th>3_REJ</th>\n",
       "      <th>3_RSTO</th>\n",
       "      <th>3_RSTR</th>\n",
       "      <th>3_S0</th>\n",
       "      <th>3_S1</th>\n",
       "      <th>3_S2</th>\n",
       "      <th>3_S3</th>\n",
       "      <th>3_SF</th>\n",
       "      <th>3_SH</th>\n",
       "    </tr>\n",
       "  </thead>\n",
       "  <tbody>\n",
       "    <tr>\n",
       "      <th>0</th>\n",
       "      <td>-0.160072</td>\n",
       "      <td>-0.011332</td>\n",
       "      <td>1.231248</td>\n",
       "      <td>-0.002665</td>\n",
       "      <td>-0.002235</td>\n",
       "      <td>-0.052816</td>\n",
       "      <td>-0.007462</td>\n",
       "      <td>0.638815</td>\n",
       "      <td>-0.004408</td>\n",
       "      <td>-0.01751</td>\n",
       "      <td>...</td>\n",
       "      <td>0</td>\n",
       "      <td>0</td>\n",
       "      <td>0</td>\n",
       "      <td>0</td>\n",
       "      <td>0</td>\n",
       "      <td>0</td>\n",
       "      <td>0</td>\n",
       "      <td>0</td>\n",
       "      <td>1</td>\n",
       "      <td>0</td>\n",
       "    </tr>\n",
       "    <tr>\n",
       "      <th>1</th>\n",
       "      <td>-0.160072</td>\n",
       "      <td>-0.011815</td>\n",
       "      <td>0.039225</td>\n",
       "      <td>-0.002665</td>\n",
       "      <td>-0.002235</td>\n",
       "      <td>-0.052816</td>\n",
       "      <td>-0.007462</td>\n",
       "      <td>0.638815</td>\n",
       "      <td>-0.004408</td>\n",
       "      <td>-0.01751</td>\n",
       "      <td>...</td>\n",
       "      <td>0</td>\n",
       "      <td>0</td>\n",
       "      <td>0</td>\n",
       "      <td>0</td>\n",
       "      <td>0</td>\n",
       "      <td>0</td>\n",
       "      <td>0</td>\n",
       "      <td>0</td>\n",
       "      <td>1</td>\n",
       "      <td>0</td>\n",
       "    </tr>\n",
       "    <tr>\n",
       "      <th>2</th>\n",
       "      <td>-0.160072</td>\n",
       "      <td>-0.011141</td>\n",
       "      <td>-0.057788</td>\n",
       "      <td>-0.002665</td>\n",
       "      <td>-0.002235</td>\n",
       "      <td>-0.052816</td>\n",
       "      <td>-0.007462</td>\n",
       "      <td>0.638815</td>\n",
       "      <td>-0.004408</td>\n",
       "      <td>-0.01751</td>\n",
       "      <td>...</td>\n",
       "      <td>0</td>\n",
       "      <td>0</td>\n",
       "      <td>0</td>\n",
       "      <td>0</td>\n",
       "      <td>0</td>\n",
       "      <td>0</td>\n",
       "      <td>0</td>\n",
       "      <td>0</td>\n",
       "      <td>1</td>\n",
       "      <td>0</td>\n",
       "    </tr>\n",
       "    <tr>\n",
       "      <th>3</th>\n",
       "      <td>-0.160072</td>\n",
       "      <td>-0.011168</td>\n",
       "      <td>-0.034152</td>\n",
       "      <td>-0.002665</td>\n",
       "      <td>-0.002235</td>\n",
       "      <td>-0.052816</td>\n",
       "      <td>-0.007462</td>\n",
       "      <td>0.638815</td>\n",
       "      <td>-0.004408</td>\n",
       "      <td>-0.01751</td>\n",
       "      <td>...</td>\n",
       "      <td>0</td>\n",
       "      <td>0</td>\n",
       "      <td>0</td>\n",
       "      <td>0</td>\n",
       "      <td>0</td>\n",
       "      <td>0</td>\n",
       "      <td>0</td>\n",
       "      <td>0</td>\n",
       "      <td>1</td>\n",
       "      <td>0</td>\n",
       "    </tr>\n",
       "    <tr>\n",
       "      <th>4</th>\n",
       "      <td>-0.160072</td>\n",
       "      <td>-0.011114</td>\n",
       "      <td>-0.079601</td>\n",
       "      <td>-0.002665</td>\n",
       "      <td>-0.002235</td>\n",
       "      <td>-0.052816</td>\n",
       "      <td>-0.007462</td>\n",
       "      <td>0.638815</td>\n",
       "      <td>-0.004408</td>\n",
       "      <td>-0.01751</td>\n",
       "      <td>...</td>\n",
       "      <td>0</td>\n",
       "      <td>0</td>\n",
       "      <td>0</td>\n",
       "      <td>0</td>\n",
       "      <td>0</td>\n",
       "      <td>0</td>\n",
       "      <td>0</td>\n",
       "      <td>0</td>\n",
       "      <td>1</td>\n",
       "      <td>0</td>\n",
       "    </tr>\n",
       "  </tbody>\n",
       "</table>\n",
       "<p>5 rows × 84 columns</p>\n",
       "</div>"
      ],
      "text/plain": [
       "          0         4         5         6         8         9        10  \\\n",
       "0 -0.160072 -0.011332  1.231248 -0.002665 -0.002235 -0.052816 -0.007462   \n",
       "1 -0.160072 -0.011815  0.039225 -0.002665 -0.002235 -0.052816 -0.007462   \n",
       "2 -0.160072 -0.011141 -0.057788 -0.002665 -0.002235 -0.052816 -0.007462   \n",
       "3 -0.160072 -0.011168 -0.034152 -0.002665 -0.002235 -0.052816 -0.007462   \n",
       "4 -0.160072 -0.011114 -0.079601 -0.002665 -0.002235 -0.052816 -0.007462   \n",
       "\n",
       "         11        12       13  ...   3_OTH  3_REJ  3_RSTO  3_RSTR  3_S0  \\\n",
       "0  0.638815 -0.004408 -0.01751  ...       0      0       0       0     0   \n",
       "1  0.638815 -0.004408 -0.01751  ...       0      0       0       0     0   \n",
       "2  0.638815 -0.004408 -0.01751  ...       0      0       0       0     0   \n",
       "3  0.638815 -0.004408 -0.01751  ...       0      0       0       0     0   \n",
       "4  0.638815 -0.004408 -0.01751  ...       0      0       0       0     0   \n",
       "\n",
       "   3_S1  3_S2  3_S3  3_SF  3_SH  \n",
       "0     0     0     0     1     0  \n",
       "1     0     0     0     1     0  \n",
       "2     0     0     0     1     0  \n",
       "3     0     0     0     1     0  \n",
       "4     0     0     0     1     0  \n",
       "\n",
       "[5 rows x 84 columns]"
      ]
     },
     "execution_count": 16,
     "metadata": {},
     "output_type": "execute_result"
    }
   ],
   "source": [
    "scaler = preprocessing.StandardScaler()\n",
    "scaler.fit(kddCupTrain[scalingcolumn]);\n",
    "\n",
    "kddCupTrain[scalingcolumn] = scaler.transform(kddCupTrain[scalingcolumn])\n",
    "kddCupTrain.head()"
   ]
  },
  {
   "cell_type": "code",
   "execution_count": 17,
   "metadata": {},
   "outputs": [
    {
     "data": {
      "text/plain": [
       "[0,\n",
       " 4,\n",
       " 5,\n",
       " 6,\n",
       " 8,\n",
       " 9,\n",
       " 10,\n",
       " 11,\n",
       " 12,\n",
       " 13,\n",
       " 14,\n",
       " 15,\n",
       " 16,\n",
       " 17,\n",
       " 18,\n",
       " 20,\n",
       " 21,\n",
       " 22,\n",
       " 23,\n",
       " 24,\n",
       " 25,\n",
       " 26,\n",
       " 27,\n",
       " 28,\n",
       " 29,\n",
       " 30,\n",
       " 31,\n",
       " 32,\n",
       " 33,\n",
       " 34,\n",
       " 35,\n",
       " 36,\n",
       " 37,\n",
       " 38,\n",
       " 39,\n",
       " 40,\n",
       " 'Class',\n",
       " '1_icmp',\n",
       " '1_tcp',\n",
       " '1_udp',\n",
       " '2_IRC',\n",
       " '2_X11',\n",
       " '2_auth',\n",
       " '2_ctf',\n",
       " '2_domain',\n",
       " '2_domain_u',\n",
       " '2_eco_i',\n",
       " '2_ecr_i',\n",
       " '2_finger',\n",
       " '2_ftp',\n",
       " '2_ftp_data',\n",
       " '2_gopher',\n",
       " '2_http',\n",
       " '2_imap4',\n",
       " '2_link',\n",
       " '2_mtp',\n",
       " '2_name',\n",
       " '2_ntp_u',\n",
       " '2_other',\n",
       " '2_pop_3',\n",
       " '2_private',\n",
       " '2_red_i',\n",
       " '2_remote_job',\n",
       " '2_rje',\n",
       " '2_shell',\n",
       " '2_smtp',\n",
       " '2_ssh',\n",
       " '2_telnet',\n",
       " '2_tftp_u',\n",
       " '2_tim_i',\n",
       " '2_time',\n",
       " '2_urh_i',\n",
       " '2_urp_i',\n",
       " '2_whois',\n",
       " '3_OTH',\n",
       " '3_REJ',\n",
       " '3_RSTO',\n",
       " '3_RSTR',\n",
       " '3_S0',\n",
       " '3_S1',\n",
       " '3_S2',\n",
       " '3_S3',\n",
       " '3_SF',\n",
       " '3_SH']"
      ]
     },
     "execution_count": 17,
     "metadata": {},
     "output_type": "execute_result"
    }
   ],
   "source": [
    "list(kddCupTrain.columns.values)"
   ]
  },
  {
   "cell_type": "code",
   "execution_count": 18,
   "metadata": {},
   "outputs": [
    {
     "data": {
      "text/plain": [
       "(985262, 82)"
      ]
     },
     "execution_count": 18,
     "metadata": {},
     "output_type": "execute_result"
    }
   ],
   "source": [
    "kddCupTrain=kddCupTrain.drop(['2_tftp_u', '3_SH'],axis=1)\n",
    "kddCupTrain.shape"
   ]
  },
  {
   "cell_type": "markdown",
   "metadata": {},
   "source": [
    "### Creating the training and testing split"
   ]
  },
  {
   "cell_type": "code",
   "execution_count": 19,
   "metadata": {},
   "outputs": [],
   "source": [
    "X_train_split, X_test_split = train_test_split(kddCupTrain, test_size=0.2,\n",
    "                                   stratify=kddCupTrain['Class'], \n",
    "                                   random_state=RANDOM_SEED)"
   ]
  },
  {
   "cell_type": "code",
   "execution_count": 20,
   "metadata": {},
   "outputs": [
    {
     "name": "stdout",
     "output_type": "stream",
     "text": [
      "(788209, 82) (197053, 82)\n"
     ]
    }
   ],
   "source": [
    "print(X_train_split.shape, X_test_split.shape)"
   ]
  },
  {
   "cell_type": "markdown",
   "metadata": {},
   "source": [
    "### Detach the labels from the train and the test datasets\n",
    "Extract the labels from train and test data."
   ]
  },
  {
   "cell_type": "code",
   "execution_count": 21,
   "metadata": {},
   "outputs": [
    {
     "name": "stdout",
     "output_type": "stream",
     "text": [
      "Train: shape X (788209, 81) , shape Y (788209,)\n",
      "Test: shape X (197053, 81) , shape Y (197053,)\n"
     ]
    }
   ],
   "source": [
    "y_train = X_train_split['Class']\n",
    "X_train = X_train_split.drop(['Class'], axis=1)\n",
    "\n",
    "y_test = X_test_split['Class']\n",
    "X_test = X_test_split.drop(['Class'], axis=1)\n",
    "print('Train: shape X',X_train.shape,', shape Y',y_train.shape)\n",
    "print('Test: shape X',X_test.shape,', shape Y',y_test.shape)"
   ]
  },
  {
   "cell_type": "markdown",
   "metadata": {
    "collapsed": true
   },
   "source": [
    "### Select the \"normal\" transactions from the training data to train autoencoder on them."
   ]
  },
  {
   "cell_type": "code",
   "execution_count": 22,
   "metadata": {},
   "outputs": [],
   "source": [
    "X_trainNorm = X_train[y_train == 0]\n",
    "X_trainNorm_val = X_trainNorm.values # Only values, axes labels removed. This is input for the Autoencoder\n",
    "X_testNorm_val = X_test[y_test == 0].values # The validation data"
   ]
  },
  {
   "cell_type": "code",
   "execution_count": 23,
   "metadata": {},
   "outputs": [
    {
     "name": "stdout",
     "output_type": "stream",
     "text": [
      "(788209,)\n",
      "(788209, 81)\n"
     ]
    }
   ],
   "source": [
    "print(y_train.shape)\n",
    "print(X_train.shape)"
   ]
  },
  {
   "cell_type": "code",
   "execution_count": 24,
   "metadata": {},
   "outputs": [
    {
     "data": {
      "text/plain": [
       "(778224, 81)"
      ]
     },
     "execution_count": 24,
     "metadata": {},
     "output_type": "execute_result"
    }
   ],
   "source": [
    "X_trainNorm_val.shape"
   ]
  },
  {
   "cell_type": "markdown",
   "metadata": {},
   "source": [
    "### Building the model"
   ]
  },
  {
   "cell_type": "code",
   "execution_count": 25,
   "metadata": {},
   "outputs": [],
   "source": [
    "input_dim = X_trainNorm_val.shape[1]\n",
    "layer1_dim = 100\n",
    "encoder_dim = 10"
   ]
  },
  {
   "cell_type": "code",
   "execution_count": 26,
   "metadata": {},
   "outputs": [
    {
     "name": "stdout",
     "output_type": "stream",
     "text": [
      "input_layer:  Tensor(\"input_1:0\", shape=(?, 81), dtype=float32)\n",
      "encoder1 Tensor(\"dense_1/Tanh:0\", shape=(?, 100), dtype=float32)\n",
      "encoder2 Tensor(\"dense_2/Relu:0\", shape=(?, 10), dtype=float32)\n",
      "decoder1 Tensor(\"dense_3/Tanh:0\", shape=(?, 100), dtype=float32)\n",
      "decoder2 Tensor(\"dense_4/BiasAdd:0\", shape=(?, 81), dtype=float32)\n"
     ]
    }
   ],
   "source": [
    "input_layer = Input(shape=(input_dim, ))\n",
    "\n",
    "encoder1 = Dense(layer1_dim, activation=\"tanh\", \n",
    "                activity_regularizer=regularizers.l1(10e-5))(input_layer)\n",
    "norm_1 = BatchNormalization()(encoder1)\n",
    "dropout_rate = 0.2  \n",
    "dropout_layer1 = Dropout(rate=dropout_rate)(norm_1)  \n",
    "\n",
    "encoder2 = Dense(encoder_dim, activation=\"relu\")(dropout_layer1)\n",
    "\n",
    "\n",
    "\n",
    "decoder1 = Dense(layer1_dim, activation='tanh')(encoder2)\n",
    "\n",
    "decoder2 = Dense(input_dim, activation='linear')(decoder1)\n",
    "print('input_layer: ',input_layer)\n",
    "print('encoder1',encoder1)\n",
    "print('encoder2',encoder2)\n",
    "print('decoder1',decoder1)\n",
    "print('decoder2',decoder2)"
   ]
  },
  {
   "cell_type": "code",
   "execution_count": 27,
   "metadata": {},
   "outputs": [
    {
     "name": "stdout",
     "output_type": "stream",
     "text": [
      "_________________________________________________________________\n",
      "Layer (type)                 Output Shape              Param #   \n",
      "=================================================================\n",
      "input_1 (InputLayer)         (None, 81)                0         \n",
      "_________________________________________________________________\n",
      "dense_1 (Dense)              (None, 100)               8200      \n",
      "_________________________________________________________________\n",
      "batch_normalization_1 (Batch (None, 100)               400       \n",
      "_________________________________________________________________\n",
      "dropout_1 (Dropout)          (None, 100)               0         \n",
      "_________________________________________________________________\n",
      "dense_2 (Dense)              (None, 10)                1010      \n",
      "_________________________________________________________________\n",
      "dense_3 (Dense)              (None, 100)               1100      \n",
      "_________________________________________________________________\n",
      "dense_4 (Dense)              (None, 81)                8181      \n",
      "=================================================================\n",
      "Total params: 18,891\n",
      "Trainable params: 18,691\n",
      "Non-trainable params: 200\n",
      "_________________________________________________________________\n"
     ]
    }
   ],
   "source": [
    "autoencoder2 = Model(inputs=input_layer, outputs=decoder2)\n",
    "autoencoder2.summary()"
   ]
  },
  {
   "cell_type": "code",
   "execution_count": 28,
   "metadata": {},
   "outputs": [
    {
     "name": "stdout",
     "output_type": "stream",
     "text": [
      "Train on 778224 samples, validate on 194557 samples\n",
      "Epoch 1/100\n",
      "778224/778224 [==============================] - 14s 18us/step - loss: 0.3268 - val_loss: 0.2158\n",
      "Epoch 2/100\n",
      "778224/778224 [==============================] - 13s 16us/step - loss: 0.2000 - val_loss: 0.2059\n",
      "Epoch 3/100\n",
      "778224/778224 [==============================] - 13s 16us/step - loss: 0.1843 - val_loss: 0.1829\n",
      "Epoch 4/100\n",
      "778224/778224 [==============================] - 12s 16us/step - loss: 0.1726 - val_loss: 0.1789\n",
      "Epoch 5/100\n",
      "778224/778224 [==============================] - 12s 16us/step - loss: 0.1691 - val_loss: 0.1774\n",
      "Epoch 6/100\n",
      "778224/778224 [==============================] - 13s 16us/step - loss: 0.1619 - val_loss: 0.1637\n",
      "Epoch 7/100\n",
      "778224/778224 [==============================] - 12s 15us/step - loss: 0.1577 - val_loss: 0.1610\n",
      "Epoch 8/100\n",
      "778224/778224 [==============================] - 16s 20us/step - loss: 0.1548 - val_loss: 0.1532\n",
      "Epoch 9/100\n",
      "778224/778224 [==============================] - 13s 17us/step - loss: 0.1510 - val_loss: 0.1634\n"
     ]
    }
   ],
   "source": [
    "nb_epoch = 100\n",
    "batch_size = 500\n",
    "\n",
    "autoencoder2.compile(optimizer='adam', \n",
    "                    loss='mean_squared_error')\n",
    "\n",
    "checkpointer = ModelCheckpoint(filepath=\"model2.h5\",\n",
    "                               verbose=0,\n",
    "                               save_best_only=True)\n",
    "earlystopping = EarlyStopping(monitor='val_loss', patience=1, verbose=0) # 'patience' number of not improving epochs\n",
    "history = autoencoder2.fit(X_trainNorm_val, X_trainNorm_val,\n",
    "                    epochs=nb_epoch,\n",
    "                    batch_size=batch_size,\n",
    "                    shuffle=True,\n",
    "                    validation_data=(X_testNorm_val, X_testNorm_val),\n",
    "                    verbose=1,\n",
    "                    callbacks=[checkpointer, #tensorboard, \n",
    "                               earlystopping\n",
    "                              ]).history"
   ]
  },
  {
   "cell_type": "code",
   "execution_count": 30,
   "metadata": {},
   "outputs": [
    {
     "data": {
      "text/plain": [
       "0.1531591084468652"
      ]
     },
     "execution_count": 30,
     "metadata": {},
     "output_type": "execute_result"
    }
   ],
   "source": [
    "### finding the minimum vaidation loss from the above algorithm and then use that optimal number of epochs\n",
    "min(history['val_loss'])"
   ]
  },
  {
   "cell_type": "markdown",
   "metadata": {},
   "source": [
    "### Loading the autoencoder model "
   ]
  },
  {
   "cell_type": "code",
   "execution_count": 31,
   "metadata": {},
   "outputs": [],
   "source": [
    "autoencoder = load_model('model2.h5')"
   ]
  },
  {
   "cell_type": "markdown",
   "metadata": {},
   "source": [
    "# Evaluation\n",
    "\n",
    "Visualize the learning process.\n",
    "\n",
    "For model 2"
   ]
  },
  {
   "cell_type": "code",
   "execution_count": 32,
   "metadata": {},
   "outputs": [
    {
     "data": {
      "image/png": "[encoded data removed]",
      "text/plain": [
       "<Figure size 432x288 with 1 Axes>"
      ]
     },
     "metadata": {
      "needs_background": "light"
     },
     "output_type": "display_data"
    }
   ],
   "source": [
    "plt.plot(history['loss'])\n",
    "plt.plot(history['val_loss'])\n",
    "plt.title('model loss')\n",
    "plt.ylabel('loss')\n",
    "plt.xlabel('epoch')\n",
    "plt.legend(['train', 'test'], loc='upper right');"
   ]
  },
  {
   "cell_type": "markdown",
   "metadata": {},
   "source": [
    "The reconstruction errors on both train and test data converge nicely. \n",
    "\n",
    "Calculate predictions by the autoencoder:"
   ]
  },
  {
   "cell_type": "code",
   "execution_count": 33,
   "metadata": {},
   "outputs": [
    {
     "data": {
      "text/plain": [
       "((197053, 81), (197053, 81))"
      ]
     },
     "execution_count": 33,
     "metadata": {},
     "output_type": "execute_result"
    }
   ],
   "source": [
    "testPredictions = autoencoder.predict(X_test)\n",
    "X_test.shape,testPredictions.shape"
   ]
  },
  {
   "cell_type": "markdown",
   "metadata": {},
   "source": [
    "Calculate **mean squared error**."
   ]
  },
  {
   "cell_type": "code",
   "execution_count": 34,
   "metadata": {},
   "outputs": [
    {
     "data": {
      "text/html": [
       "<div>\n",
       "<style scoped>\n",
       "    .dataframe tbody tr th:only-of-type {\n",
       "        vertical-align: middle;\n",
       "    }\n",
       "\n",
       "    .dataframe tbody tr th {\n",
       "        vertical-align: top;\n",
       "    }\n",
       "\n",
       "    .dataframe thead th {\n",
       "        text-align: right;\n",
       "    }\n",
       "</style>\n",
       "<table border=\"1\" class=\"dataframe\">\n",
       "  <thead>\n",
       "    <tr style=\"text-align: right;\">\n",
       "      <th></th>\n",
       "      <th>reconstruction_error</th>\n",
       "      <th>true_class</th>\n",
       "    </tr>\n",
       "  </thead>\n",
       "  <tbody>\n",
       "    <tr>\n",
       "      <th>940543</th>\n",
       "      <td>0.094102</td>\n",
       "      <td>1</td>\n",
       "    </tr>\n",
       "    <tr>\n",
       "      <th>356110</th>\n",
       "      <td>0.036887</td>\n",
       "      <td>0</td>\n",
       "    </tr>\n",
       "    <tr>\n",
       "      <th>540178</th>\n",
       "      <td>0.001869</td>\n",
       "      <td>0</td>\n",
       "    </tr>\n",
       "    <tr>\n",
       "      <th>672514</th>\n",
       "      <td>0.004891</td>\n",
       "      <td>0</td>\n",
       "    </tr>\n",
       "    <tr>\n",
       "      <th>244980</th>\n",
       "      <td>0.002400</td>\n",
       "      <td>0</td>\n",
       "    </tr>\n",
       "  </tbody>\n",
       "</table>\n",
       "</div>"
      ],
      "text/plain": [
       "        reconstruction_error  true_class\n",
       "940543              0.094102           1\n",
       "356110              0.036887           0\n",
       "540178              0.001869           0\n",
       "672514              0.004891           0\n",
       "244980              0.002400           0"
      ]
     },
     "execution_count": 34,
     "metadata": {},
     "output_type": "execute_result"
    }
   ],
   "source": [
    "testMSE = mean_squared_error(X_test.transpose(), testPredictions.transpose(),\n",
    "                              multioutput='raw_values')\n",
    "error_df = pd.DataFrame({'reconstruction_error': testMSE,'true_class': y_test})\n",
    "error_df.head()"
   ]
  },
  {
   "cell_type": "code",
   "execution_count": 35,
   "metadata": {},
   "outputs": [
    {
     "data": {
      "text/plain": [
       "(197053, 2)"
      ]
     },
     "execution_count": 35,
     "metadata": {},
     "output_type": "execute_result"
    }
   ],
   "source": [
    "error_df.shape"
   ]
  },
  {
   "cell_type": "code",
   "execution_count": 36,
   "metadata": {},
   "outputs": [
    {
     "data": {
      "text/plain": [
       "count    197053.000000\n",
       "mean          0.131271\n",
       "std          23.299513\n",
       "min           0.000347\n",
       "25%           0.002141\n",
       "50%           0.005012\n",
       "75%           0.017009\n",
       "max        8290.554393\n",
       "Name: reconstruction_error, dtype: float64"
      ]
     },
     "execution_count": 36,
     "metadata": {},
     "output_type": "execute_result"
    }
   ],
   "source": [
    "error_df.reconstruction_error.describe()"
   ]
  },
  {
   "cell_type": "markdown",
   "metadata": {},
   "source": [
    "## Reconstruction errors for normal transactions\n",
    "\n",
    "Plot histogram of errors of reconstruction for normal data."
   ]
  },
  {
   "cell_type": "code",
   "execution_count": 37,
   "metadata": {},
   "outputs": [
    {
     "data": {
      "image/png": "[encoded data removed]",
      "text/plain": [
       "<Figure size 432x288 with 1 Axes>"
      ]
     },
     "metadata": {
      "needs_background": "light"
     },
     "output_type": "display_data"
    }
   ],
   "source": [
    "fig = plt.figure()\n",
    "ax = fig.add_subplot(111)\n",
    "normal_error_df = error_df[(error_df['true_class']== 0) & (error_df['reconstruction_error'] < 10)]\n",
    "ax.hist(normal_error_df.reconstruction_error.values, bins=10);"
   ]
  },
  {
   "cell_type": "markdown",
   "metadata": {},
   "source": [
    "## Reconstruction errors for fraudulent transactions\n",
    "\n",
    "Compare distribution of reconstruction error for normal data and for fraudulent data."
   ]
  },
  {
   "cell_type": "code",
   "execution_count": 38,
   "metadata": {},
   "outputs": [
    {
     "data": {
      "image/png": "[encoded data removed]",
      "text/plain": [
       "<Figure size 432x288 with 1 Axes>"
      ]
     },
     "metadata": {
      "needs_background": "light"
     },
     "output_type": "display_data"
    }
   ],
   "source": [
    "fig = plt.figure()\n",
    "ax = fig.add_subplot(111)\n",
    "fraud_error_df = error_df[error_df['true_class'] == 1]\n",
    "ax.hist(fraud_error_df.reconstruction_error.values, bins=10);"
   ]
  },
  {
   "cell_type": "markdown",
   "metadata": {},
   "source": [
    "### Calculating the AUC and ROC curve"
   ]
  },
  {
   "cell_type": "code",
   "execution_count": 39,
   "metadata": {},
   "outputs": [
    {
     "data": {
      "image/png": "[encoded data removed]",
      "text/plain": [
       "<Figure size 432x288 with 1 Axes>"
      ]
     },
     "metadata": {
      "needs_background": "light"
     },
     "output_type": "display_data"
    }
   ],
   "source": [
    "fpr, tpr, thresholds = roc_curve(error_df.true_class, error_df.reconstruction_error)\n",
    "roc_auc = auc(fpr, tpr)\n",
    "\n",
    "plt.title('Receiver Operating Characteristic')\n",
    "plt.plot(fpr, tpr, label='AUC = %0.4f'% roc_auc)\n",
    "plt.legend(loc='lower right')\n",
    "plt.plot([0,1],[0,1],'r--')\n",
    "plt.xlim([-0.001, 1])\n",
    "plt.ylim([0, 1.001])\n",
    "plt.ylabel('True Positive Rate')\n",
    "plt.xlabel('False Positive Rate')\n",
    "plt.show();"
   ]
  },
  {
   "cell_type": "markdown",
   "metadata": {},
   "source": [
    "The AUC from the above graph seems to be pretty high. \n",
    "\n",
    "# Prediction\n",
    "\n",
    "To detect fraud based on prediction MSE select a high level quantile of the MSE sample that guarantees probability of type 1 error. Select 0.99 quantile of the reconstruction error for \"normal\" class."
   ]
  },
  {
   "cell_type": "code",
   "execution_count": 40,
   "metadata": {},
   "outputs": [
    {
     "data": {
      "text/plain": [
       "0.4416375684686072"
      ]
     },
     "execution_count": 40,
     "metadata": {},
     "output_type": "execute_result"
    }
   ],
   "source": [
    "threshold = normal_error_df.reconstruction_error.quantile(q=0.995)\n",
    "threshold"
   ]
  },
  {
   "cell_type": "markdown",
   "metadata": {},
   "source": [
    "Plot all errors, normal and fraud cases marked, and the threshold:"
   ]
  },
  {
   "cell_type": "code",
   "execution_count": 41,
   "metadata": {},
   "outputs": [
    {
     "data": {
      "image/png": "[encoded data removed]",
      "text/plain": [
       "<Figure size 432x288 with 1 Axes>"
      ]
     },
     "metadata": {
      "needs_background": "light"
     },
     "output_type": "display_data"
    }
   ],
   "source": [
    "groups = error_df.groupby('true_class')\n",
    "fig, ax = plt.subplots()\n",
    "for name, group in groups:\n",
    "    if name == 1:\n",
    "        MarkerSize = 7\n",
    "        Color = 'orangered'\n",
    "        Label = 'Fraud'\n",
    "        Marker = 'd'\n",
    "    else:\n",
    "        MarkerSize = 3.5\n",
    "        Color = 'b'\n",
    "        Label = 'Normal'\n",
    "        Marker = 'o'\n",
    "    ax.plot(group.index, group.reconstruction_error, \n",
    "            linestyle='',\n",
    "            color=Color,\n",
    "            label=Label,\n",
    "            ms=MarkerSize,\n",
    "            marker=Marker)\n",
    "ax.hlines(threshold, ax.get_xlim()[0], ax.get_xlim()[1], colors=\"r\", zorder=100, label='Threshold')\n",
    "ax.legend(loc='upper left', bbox_to_anchor=(0.95, 1))\n",
    "plt.title(\"Probabilities of fraud for different classes\")\n",
    "plt.ylabel(\"Reconstruction error\")\n",
    "plt.xlabel(\"Data point index\")\n",
    "plt.show();"
   ]
  },
  {
   "cell_type": "markdown",
   "metadata": {},
   "source": [
    "To draw more precise conclusions calculate confusion matrix:"
   ]
  },
  {
   "cell_type": "code",
   "execution_count": 42,
   "metadata": {},
   "outputs": [
    {
     "data": {
      "image/png": "[encoded data removed]",
      "text/plain": [
       "<Figure size 864x864 with 2 Axes>"
      ]
     },
     "metadata": {
      "needs_background": "light"
     },
     "output_type": "display_data"
    }
   ],
   "source": [
    "y_pred = [1 if e > threshold else 0 for e in error_df.reconstruction_error.values]\n",
    "conf_matrix = confusion_matrix(error_df.true_class, y_pred)\n",
    "\n",
    "plt.figure(figsize=(12, 12))\n",
    "sns.heatmap(conf_matrix, xticklabels=LABELS, yticklabels=LABELS, annot=True, fmt=\"d\");\n",
    "plt.title(\"Confusion matrix\")\n",
    "plt.ylabel('True class')\n",
    "plt.xlabel('Predicted class')\n",
    "plt.show()"
   ]
  },
  {
   "cell_type": "code",
   "execution_count": 43,
   "metadata": {},
   "outputs": [
    {
     "data": {
      "text/plain": [
       "(0.5005637064119952, 0.9880489005495984)"
      ]
     },
     "execution_count": 43,
     "metadata": {},
     "output_type": "execute_result"
    }
   ],
   "source": [
    "cohen_kappa_score(error_df.true_class, y_pred),accuracy_score(error_df.true_class, y_pred)"
   ]
  },
  {
   "cell_type": "markdown",
   "metadata": {},
   "source": [
    "The model manages to detect many fraudulent cases with accuracy over 99%. However, because of extreme prevalence Cohen's kappa gives a much more conservative evaluation. "
   ]
  },
  {
   "cell_type": "markdown",
   "metadata": {},
   "source": [
    "### Model Evaluation\n",
    "\n",
    "Testing the model on the testing data set and then checking if the results are acceptable"
   ]
  },
  {
   "cell_type": "code",
   "execution_count": 45,
   "metadata": {},
   "outputs": [
    {
     "name": "stdout",
     "output_type": "stream",
     "text": [
      "   0    1        2   3     4      5   6   7   8   9  ...    31   32    33  \\\n",
      "0   0  tcp     http  SF   230  10066   0   0   0   0 ...   255  255  1.00   \n",
      "1   0  udp  private  SF   105    145   0   0   0   0 ...   255  227  0.89   \n",
      "2   1  tcp     smtp  SF  1888    374   0   0   0   0 ...   255  174  0.68   \n",
      "\n",
      "     34   35   36   37   38   39   40  \n",
      "0  0.00  0.0  0.0  0.0  0.0  0.0  0.0  \n",
      "1  0.01  0.0  0.0  0.0  0.0  0.0  0.0  \n",
      "2  0.03  0.0  0.0  0.0  0.0  0.0  0.0  \n",
      "\n",
      "[3 rows x 41 columns]\n"
     ]
    }
   ],
   "source": [
    "kddCupTest = pd.read_csv(\"kddCupData/kddCupTest.csv\", header=None)\n",
    "print(kddCupTest.head(3))"
   ]
  },
  {
   "cell_type": "code",
   "execution_count": 46,
   "metadata": {},
   "outputs": [
    {
     "data": {
      "text/plain": [
       "Int64Index([ 0,  1,  2,  3,  4,  5,  6,  7,  8,  9, 10, 11, 12, 13, 14, 15, 16,\n",
       "            17, 18, 19, 20, 21, 22, 23, 24, 25, 26, 27, 28, 29, 30, 31, 32, 33,\n",
       "            34, 35, 36, 37, 38, 39, 40],\n",
       "           dtype='int64')"
      ]
     },
     "execution_count": 46,
     "metadata": {},
     "output_type": "execute_result"
    }
   ],
   "source": [
    "kddCupTest.columns"
   ]
  },
  {
   "cell_type": "code",
   "execution_count": 47,
   "metadata": {},
   "outputs": [
    {
     "data": {
      "text/plain": [
       "(196557, 41)"
      ]
     },
     "execution_count": 47,
     "metadata": {},
     "output_type": "execute_result"
    }
   ],
   "source": [
    "kddCupTest.shape"
   ]
  },
  {
   "cell_type": "code",
   "execution_count": 48,
   "metadata": {},
   "outputs": [
    {
     "data": {
      "text/plain": [
       "(196557, 39)"
      ]
     },
     "execution_count": 48,
     "metadata": {},
     "output_type": "execute_result"
    }
   ],
   "source": [
    "##removing the uninformative columns as we did before for the training data set\n",
    "kddCupTest.drop(columnsList, axis=1, inplace=True)\n",
    "kddCupTest.shape"
   ]
  },
  {
   "cell_type": "code",
   "execution_count": 49,
   "metadata": {},
   "outputs": [
    {
     "data": {
      "text/plain": [
       "(196557, 106)"
      ]
     },
     "execution_count": 49,
     "metadata": {},
     "output_type": "execute_result"
    }
   ],
   "source": [
    "kddCupTest = pd.get_dummies(kddCupTest, columns = [1,2,3])\n",
    "kddCupTest.head(2)\n",
    "kddCupTest.shape"
   ]
  },
  {
   "cell_type": "code",
   "execution_count": 50,
   "metadata": {},
   "outputs": [
    {
     "data": {
      "text/plain": [
       "81"
      ]
     },
     "execution_count": 50,
     "metadata": {},
     "output_type": "execute_result"
    }
   ],
   "source": [
    "len(featuresList)"
   ]
  },
  {
   "cell_type": "code",
   "execution_count": 51,
   "metadata": {},
   "outputs": [],
   "source": [
    "kddCupTest = kddCupTest[featuresList]"
   ]
  },
  {
   "cell_type": "code",
   "execution_count": 52,
   "metadata": {},
   "outputs": [],
   "source": [
    "#we dont need to create the feature list column again.\n",
    "#featuresList = [col for col in kddCupTrain if col != 'Class']\n",
    "#print('featuresList: ',featuresList)"
   ]
  },
  {
   "cell_type": "code",
   "execution_count": 53,
   "metadata": {},
   "outputs": [
    {
     "name": "stderr",
     "output_type": "stream",
     "text": [
      "/Users/joshuagoldberg/anaconda3/lib/python3.6/site-packages/ipykernel_launcher.py:1: DataConversionWarning: Data with input dtype int64, float64 were all converted to float64 by StandardScaler.\n",
      "  \"\"\"Entry point for launching an IPython kernel.\n"
     ]
    },
    {
     "data": {
      "text/html": [
       "<div>\n",
       "<style scoped>\n",
       "    .dataframe tbody tr th:only-of-type {\n",
       "        vertical-align: middle;\n",
       "    }\n",
       "\n",
       "    .dataframe tbody tr th {\n",
       "        vertical-align: top;\n",
       "    }\n",
       "\n",
       "    .dataframe thead th {\n",
       "        text-align: right;\n",
       "    }\n",
       "</style>\n",
       "<table border=\"1\" class=\"dataframe\">\n",
       "  <thead>\n",
       "    <tr style=\"text-align: right;\">\n",
       "      <th></th>\n",
       "      <th>0</th>\n",
       "      <th>4</th>\n",
       "      <th>5</th>\n",
       "      <th>6</th>\n",
       "      <th>8</th>\n",
       "      <th>9</th>\n",
       "      <th>10</th>\n",
       "      <th>11</th>\n",
       "      <th>12</th>\n",
       "      <th>13</th>\n",
       "      <th>...</th>\n",
       "      <th>2_whois</th>\n",
       "      <th>3_OTH</th>\n",
       "      <th>3_REJ</th>\n",
       "      <th>3_RSTO</th>\n",
       "      <th>3_RSTR</th>\n",
       "      <th>3_S0</th>\n",
       "      <th>3_S1</th>\n",
       "      <th>3_S2</th>\n",
       "      <th>3_S3</th>\n",
       "      <th>3_SF</th>\n",
       "    </tr>\n",
       "  </thead>\n",
       "  <tbody>\n",
       "    <tr>\n",
       "      <th>0</th>\n",
       "      <td>-0.160072</td>\n",
       "      <td>-0.011196</td>\n",
       "      <td>0.202030</td>\n",
       "      <td>-0.002665</td>\n",
       "      <td>-0.002235</td>\n",
       "      <td>-0.052816</td>\n",
       "      <td>-0.007462</td>\n",
       "      <td>0.638815</td>\n",
       "      <td>-0.004408</td>\n",
       "      <td>-0.01751</td>\n",
       "      <td>...</td>\n",
       "      <td>0</td>\n",
       "      <td>0</td>\n",
       "      <td>0</td>\n",
       "      <td>0</td>\n",
       "      <td>0</td>\n",
       "      <td>0</td>\n",
       "      <td>0</td>\n",
       "      <td>0</td>\n",
       "      <td>0</td>\n",
       "      <td>1</td>\n",
       "    </tr>\n",
       "    <tr>\n",
       "      <th>1</th>\n",
       "      <td>-0.160072</td>\n",
       "      <td>-0.012334</td>\n",
       "      <td>-0.089626</td>\n",
       "      <td>-0.002665</td>\n",
       "      <td>-0.002235</td>\n",
       "      <td>-0.052816</td>\n",
       "      <td>-0.007462</td>\n",
       "      <td>-1.565399</td>\n",
       "      <td>-0.004408</td>\n",
       "      <td>-0.01751</td>\n",
       "      <td>...</td>\n",
       "      <td>0</td>\n",
       "      <td>0</td>\n",
       "      <td>0</td>\n",
       "      <td>0</td>\n",
       "      <td>0</td>\n",
       "      <td>0</td>\n",
       "      <td>0</td>\n",
       "      <td>0</td>\n",
       "      <td>0</td>\n",
       "      <td>1</td>\n",
       "    </tr>\n",
       "    <tr>\n",
       "      <th>2</th>\n",
       "      <td>-0.159328</td>\n",
       "      <td>0.003905</td>\n",
       "      <td>-0.082894</td>\n",
       "      <td>-0.002665</td>\n",
       "      <td>-0.002235</td>\n",
       "      <td>-0.052816</td>\n",
       "      <td>-0.007462</td>\n",
       "      <td>0.638815</td>\n",
       "      <td>-0.004408</td>\n",
       "      <td>-0.01751</td>\n",
       "      <td>...</td>\n",
       "      <td>0</td>\n",
       "      <td>0</td>\n",
       "      <td>0</td>\n",
       "      <td>0</td>\n",
       "      <td>0</td>\n",
       "      <td>0</td>\n",
       "      <td>0</td>\n",
       "      <td>0</td>\n",
       "      <td>0</td>\n",
       "      <td>1</td>\n",
       "    </tr>\n",
       "    <tr>\n",
       "      <th>3</th>\n",
       "      <td>-0.160072</td>\n",
       "      <td>-0.010285</td>\n",
       "      <td>-0.050468</td>\n",
       "      <td>-0.002665</td>\n",
       "      <td>-0.002235</td>\n",
       "      <td>-0.052816</td>\n",
       "      <td>-0.007462</td>\n",
       "      <td>0.638815</td>\n",
       "      <td>-0.004408</td>\n",
       "      <td>-0.01751</td>\n",
       "      <td>...</td>\n",
       "      <td>0</td>\n",
       "      <td>0</td>\n",
       "      <td>0</td>\n",
       "      <td>0</td>\n",
       "      <td>0</td>\n",
       "      <td>0</td>\n",
       "      <td>0</td>\n",
       "      <td>0</td>\n",
       "      <td>0</td>\n",
       "      <td>1</td>\n",
       "    </tr>\n",
       "    <tr>\n",
       "      <th>4</th>\n",
       "      <td>1.793586</td>\n",
       "      <td>-0.011961</td>\n",
       "      <td>-0.090802</td>\n",
       "      <td>-0.002665</td>\n",
       "      <td>-0.002235</td>\n",
       "      <td>-0.052816</td>\n",
       "      <td>-0.007462</td>\n",
       "      <td>-1.565399</td>\n",
       "      <td>-0.004408</td>\n",
       "      <td>-0.01751</td>\n",
       "      <td>...</td>\n",
       "      <td>0</td>\n",
       "      <td>0</td>\n",
       "      <td>0</td>\n",
       "      <td>0</td>\n",
       "      <td>0</td>\n",
       "      <td>0</td>\n",
       "      <td>0</td>\n",
       "      <td>0</td>\n",
       "      <td>0</td>\n",
       "      <td>1</td>\n",
       "    </tr>\n",
       "  </tbody>\n",
       "</table>\n",
       "<p>5 rows × 81 columns</p>\n",
       "</div>"
      ],
      "text/plain": [
       "          0         4         5         6         8         9        10  \\\n",
       "0 -0.160072 -0.011196  0.202030 -0.002665 -0.002235 -0.052816 -0.007462   \n",
       "1 -0.160072 -0.012334 -0.089626 -0.002665 -0.002235 -0.052816 -0.007462   \n",
       "2 -0.159328  0.003905 -0.082894 -0.002665 -0.002235 -0.052816 -0.007462   \n",
       "3 -0.160072 -0.010285 -0.050468 -0.002665 -0.002235 -0.052816 -0.007462   \n",
       "4  1.793586 -0.011961 -0.090802 -0.002665 -0.002235 -0.052816 -0.007462   \n",
       "\n",
       "         11        12       13  ...   2_whois  3_OTH  3_REJ  3_RSTO  3_RSTR  \\\n",
       "0  0.638815 -0.004408 -0.01751  ...         0      0      0       0       0   \n",
       "1 -1.565399 -0.004408 -0.01751  ...         0      0      0       0       0   \n",
       "2  0.638815 -0.004408 -0.01751  ...         0      0      0       0       0   \n",
       "3  0.638815 -0.004408 -0.01751  ...         0      0      0       0       0   \n",
       "4 -1.565399 -0.004408 -0.01751  ...         0      0      0       0       0   \n",
       "\n",
       "   3_S0  3_S1  3_S2  3_S3  3_SF  \n",
       "0     0     0     0     0     1  \n",
       "1     0     0     0     0     1  \n",
       "2     0     0     0     0     1  \n",
       "3     0     0     0     0     1  \n",
       "4     0     0     0     0     1  \n",
       "\n",
       "[5 rows x 81 columns]"
      ]
     },
     "execution_count": 53,
     "metadata": {},
     "output_type": "execute_result"
    }
   ],
   "source": [
    "kddCupTest[scalingcolumn] = scaler.transform(kddCupTest[scalingcolumn])\n",
    "kddCupTest.head()"
   ]
  },
  {
   "cell_type": "code",
   "execution_count": 54,
   "metadata": {},
   "outputs": [
    {
     "data": {
      "text/plain": [
       "(196557, 81)"
      ]
     },
     "execution_count": 54,
     "metadata": {},
     "output_type": "execute_result"
    }
   ],
   "source": [
    "kddCupTest.shape"
   ]
  },
  {
   "cell_type": "code",
   "execution_count": 55,
   "metadata": {},
   "outputs": [
    {
     "data": {
      "text/html": [
       "<div>\n",
       "<style scoped>\n",
       "    .dataframe tbody tr th:only-of-type {\n",
       "        vertical-align: middle;\n",
       "    }\n",
       "\n",
       "    .dataframe tbody tr th {\n",
       "        vertical-align: top;\n",
       "    }\n",
       "\n",
       "    .dataframe thead th {\n",
       "        text-align: right;\n",
       "    }\n",
       "</style>\n",
       "<table border=\"1\" class=\"dataframe\">\n",
       "  <thead>\n",
       "    <tr style=\"text-align: right;\">\n",
       "      <th></th>\n",
       "      <th>0</th>\n",
       "      <th>4</th>\n",
       "      <th>5</th>\n",
       "      <th>6</th>\n",
       "      <th>8</th>\n",
       "      <th>9</th>\n",
       "      <th>10</th>\n",
       "      <th>11</th>\n",
       "      <th>12</th>\n",
       "      <th>13</th>\n",
       "      <th>...</th>\n",
       "      <th>2_whois</th>\n",
       "      <th>3_OTH</th>\n",
       "      <th>3_REJ</th>\n",
       "      <th>3_RSTO</th>\n",
       "      <th>3_RSTR</th>\n",
       "      <th>3_S0</th>\n",
       "      <th>3_S1</th>\n",
       "      <th>3_S2</th>\n",
       "      <th>3_S3</th>\n",
       "      <th>3_SF</th>\n",
       "    </tr>\n",
       "  </thead>\n",
       "  <tbody>\n",
       "    <tr>\n",
       "      <th>0</th>\n",
       "      <td>-0.160072</td>\n",
       "      <td>-0.011196</td>\n",
       "      <td>0.202030</td>\n",
       "      <td>-0.002665</td>\n",
       "      <td>-0.002235</td>\n",
       "      <td>-0.052816</td>\n",
       "      <td>-0.007462</td>\n",
       "      <td>0.638815</td>\n",
       "      <td>-0.004408</td>\n",
       "      <td>-0.01751</td>\n",
       "      <td>...</td>\n",
       "      <td>0</td>\n",
       "      <td>0</td>\n",
       "      <td>0</td>\n",
       "      <td>0</td>\n",
       "      <td>0</td>\n",
       "      <td>0</td>\n",
       "      <td>0</td>\n",
       "      <td>0</td>\n",
       "      <td>0</td>\n",
       "      <td>1</td>\n",
       "    </tr>\n",
       "    <tr>\n",
       "      <th>1</th>\n",
       "      <td>-0.160072</td>\n",
       "      <td>-0.012334</td>\n",
       "      <td>-0.089626</td>\n",
       "      <td>-0.002665</td>\n",
       "      <td>-0.002235</td>\n",
       "      <td>-0.052816</td>\n",
       "      <td>-0.007462</td>\n",
       "      <td>-1.565399</td>\n",
       "      <td>-0.004408</td>\n",
       "      <td>-0.01751</td>\n",
       "      <td>...</td>\n",
       "      <td>0</td>\n",
       "      <td>0</td>\n",
       "      <td>0</td>\n",
       "      <td>0</td>\n",
       "      <td>0</td>\n",
       "      <td>0</td>\n",
       "      <td>0</td>\n",
       "      <td>0</td>\n",
       "      <td>0</td>\n",
       "      <td>1</td>\n",
       "    </tr>\n",
       "    <tr>\n",
       "      <th>2</th>\n",
       "      <td>-0.159328</td>\n",
       "      <td>0.003905</td>\n",
       "      <td>-0.082894</td>\n",
       "      <td>-0.002665</td>\n",
       "      <td>-0.002235</td>\n",
       "      <td>-0.052816</td>\n",
       "      <td>-0.007462</td>\n",
       "      <td>0.638815</td>\n",
       "      <td>-0.004408</td>\n",
       "      <td>-0.01751</td>\n",
       "      <td>...</td>\n",
       "      <td>0</td>\n",
       "      <td>0</td>\n",
       "      <td>0</td>\n",
       "      <td>0</td>\n",
       "      <td>0</td>\n",
       "      <td>0</td>\n",
       "      <td>0</td>\n",
       "      <td>0</td>\n",
       "      <td>0</td>\n",
       "      <td>1</td>\n",
       "    </tr>\n",
       "    <tr>\n",
       "      <th>3</th>\n",
       "      <td>-0.160072</td>\n",
       "      <td>-0.010285</td>\n",
       "      <td>-0.050468</td>\n",
       "      <td>-0.002665</td>\n",
       "      <td>-0.002235</td>\n",
       "      <td>-0.052816</td>\n",
       "      <td>-0.007462</td>\n",
       "      <td>0.638815</td>\n",
       "      <td>-0.004408</td>\n",
       "      <td>-0.01751</td>\n",
       "      <td>...</td>\n",
       "      <td>0</td>\n",
       "      <td>0</td>\n",
       "      <td>0</td>\n",
       "      <td>0</td>\n",
       "      <td>0</td>\n",
       "      <td>0</td>\n",
       "      <td>0</td>\n",
       "      <td>0</td>\n",
       "      <td>0</td>\n",
       "      <td>1</td>\n",
       "    </tr>\n",
       "    <tr>\n",
       "      <th>4</th>\n",
       "      <td>1.793586</td>\n",
       "      <td>-0.011961</td>\n",
       "      <td>-0.090802</td>\n",
       "      <td>-0.002665</td>\n",
       "      <td>-0.002235</td>\n",
       "      <td>-0.052816</td>\n",
       "      <td>-0.007462</td>\n",
       "      <td>-1.565399</td>\n",
       "      <td>-0.004408</td>\n",
       "      <td>-0.01751</td>\n",
       "      <td>...</td>\n",
       "      <td>0</td>\n",
       "      <td>0</td>\n",
       "      <td>0</td>\n",
       "      <td>0</td>\n",
       "      <td>0</td>\n",
       "      <td>0</td>\n",
       "      <td>0</td>\n",
       "      <td>0</td>\n",
       "      <td>0</td>\n",
       "      <td>1</td>\n",
       "    </tr>\n",
       "  </tbody>\n",
       "</table>\n",
       "<p>5 rows × 81 columns</p>\n",
       "</div>"
      ],
      "text/plain": [
       "          0         4         5         6         8         9        10  \\\n",
       "0 -0.160072 -0.011196  0.202030 -0.002665 -0.002235 -0.052816 -0.007462   \n",
       "1 -0.160072 -0.012334 -0.089626 -0.002665 -0.002235 -0.052816 -0.007462   \n",
       "2 -0.159328  0.003905 -0.082894 -0.002665 -0.002235 -0.052816 -0.007462   \n",
       "3 -0.160072 -0.010285 -0.050468 -0.002665 -0.002235 -0.052816 -0.007462   \n",
       "4  1.793586 -0.011961 -0.090802 -0.002665 -0.002235 -0.052816 -0.007462   \n",
       "\n",
       "         11        12       13  ...   2_whois  3_OTH  3_REJ  3_RSTO  3_RSTR  \\\n",
       "0  0.638815 -0.004408 -0.01751  ...         0      0      0       0       0   \n",
       "1 -1.565399 -0.004408 -0.01751  ...         0      0      0       0       0   \n",
       "2  0.638815 -0.004408 -0.01751  ...         0      0      0       0       0   \n",
       "3  0.638815 -0.004408 -0.01751  ...         0      0      0       0       0   \n",
       "4 -1.565399 -0.004408 -0.01751  ...         0      0      0       0       0   \n",
       "\n",
       "   3_S0  3_S1  3_S2  3_S3  3_SF  \n",
       "0     0     0     0     0     1  \n",
       "1     0     0     0     0     1  \n",
       "2     0     0     0     0     1  \n",
       "3     0     0     0     0     1  \n",
       "4     0     0     0     0     1  \n",
       "\n",
       "[5 rows x 81 columns]"
      ]
     },
     "execution_count": 55,
     "metadata": {},
     "output_type": "execute_result"
    }
   ],
   "source": [
    "kddCupTest.head()"
   ]
  },
  {
   "cell_type": "code",
   "execution_count": 56,
   "metadata": {},
   "outputs": [
    {
     "data": {
      "text/plain": [
       "array([0.09410205, 0.03688695, 0.00186922, ..., 0.00851469, 0.00096053,\n",
       "       0.352077  ])"
      ]
     },
     "execution_count": 56,
     "metadata": {},
     "output_type": "execute_result"
    }
   ],
   "source": [
    "testMSE"
   ]
  },
  {
   "cell_type": "code",
   "execution_count": 57,
   "metadata": {},
   "outputs": [],
   "source": [
    "testPredictions = autoencoder2.predict(kddCupTest)\n",
    "\n",
    "testMSE = mean_squared_error(kddCupTest.transpose(), testPredictions.transpose(),\n",
    "                              multioutput='raw_values')"
   ]
  },
  {
   "cell_type": "code",
   "execution_count": 58,
   "metadata": {},
   "outputs": [],
   "source": [
    "result_df = pd.DataFrame({'reconstruction_error': testMSE})\n",
    "result_df.to_csv('result.csv')"
   ]
  },
  {
   "cell_type": "code",
   "execution_count": 59,
   "metadata": {},
   "outputs": [
    {
     "data": {
      "text/html": [
       "<div>\n",
       "<style scoped>\n",
       "    .dataframe tbody tr th:only-of-type {\n",
       "        vertical-align: middle;\n",
       "    }\n",
       "\n",
       "    .dataframe tbody tr th {\n",
       "        vertical-align: top;\n",
       "    }\n",
       "\n",
       "    .dataframe thead th {\n",
       "        text-align: right;\n",
       "    }\n",
       "</style>\n",
       "<table border=\"1\" class=\"dataframe\">\n",
       "  <thead>\n",
       "    <tr style=\"text-align: right;\">\n",
       "      <th></th>\n",
       "      <th>reconstruction_error</th>\n",
       "    </tr>\n",
       "  </thead>\n",
       "  <tbody>\n",
       "    <tr>\n",
       "      <th>0</th>\n",
       "      <td>0.007331</td>\n",
       "    </tr>\n",
       "    <tr>\n",
       "      <th>1</th>\n",
       "      <td>0.002180</td>\n",
       "    </tr>\n",
       "    <tr>\n",
       "      <th>2</th>\n",
       "      <td>0.014003</td>\n",
       "    </tr>\n",
       "    <tr>\n",
       "      <th>3</th>\n",
       "      <td>0.006568</td>\n",
       "    </tr>\n",
       "    <tr>\n",
       "      <th>4</th>\n",
       "      <td>0.031794</td>\n",
       "    </tr>\n",
       "    <tr>\n",
       "      <th>5</th>\n",
       "      <td>0.002296</td>\n",
       "    </tr>\n",
       "    <tr>\n",
       "      <th>6</th>\n",
       "      <td>0.002334</td>\n",
       "    </tr>\n",
       "    <tr>\n",
       "      <th>7</th>\n",
       "      <td>0.004393</td>\n",
       "    </tr>\n",
       "    <tr>\n",
       "      <th>8</th>\n",
       "      <td>0.007892</td>\n",
       "    </tr>\n",
       "    <tr>\n",
       "      <th>9</th>\n",
       "      <td>0.002180</td>\n",
       "    </tr>\n",
       "    <tr>\n",
       "      <th>10</th>\n",
       "      <td>0.028506</td>\n",
       "    </tr>\n",
       "    <tr>\n",
       "      <th>11</th>\n",
       "      <td>0.001879</td>\n",
       "    </tr>\n",
       "    <tr>\n",
       "      <th>12</th>\n",
       "      <td>0.018944</td>\n",
       "    </tr>\n",
       "    <tr>\n",
       "      <th>13</th>\n",
       "      <td>0.075654</td>\n",
       "    </tr>\n",
       "    <tr>\n",
       "      <th>14</th>\n",
       "      <td>0.002755</td>\n",
       "    </tr>\n",
       "    <tr>\n",
       "      <th>15</th>\n",
       "      <td>0.090467</td>\n",
       "    </tr>\n",
       "    <tr>\n",
       "      <th>16</th>\n",
       "      <td>0.030966</td>\n",
       "    </tr>\n",
       "    <tr>\n",
       "      <th>17</th>\n",
       "      <td>0.190274</td>\n",
       "    </tr>\n",
       "    <tr>\n",
       "      <th>18</th>\n",
       "      <td>0.175381</td>\n",
       "    </tr>\n",
       "    <tr>\n",
       "      <th>19</th>\n",
       "      <td>0.003506</td>\n",
       "    </tr>\n",
       "    <tr>\n",
       "      <th>20</th>\n",
       "      <td>0.012417</td>\n",
       "    </tr>\n",
       "    <tr>\n",
       "      <th>21</th>\n",
       "      <td>0.000929</td>\n",
       "    </tr>\n",
       "    <tr>\n",
       "      <th>22</th>\n",
       "      <td>0.001414</td>\n",
       "    </tr>\n",
       "    <tr>\n",
       "      <th>23</th>\n",
       "      <td>0.017956</td>\n",
       "    </tr>\n",
       "    <tr>\n",
       "      <th>24</th>\n",
       "      <td>0.001404</td>\n",
       "    </tr>\n",
       "    <tr>\n",
       "      <th>25</th>\n",
       "      <td>0.212619</td>\n",
       "    </tr>\n",
       "    <tr>\n",
       "      <th>26</th>\n",
       "      <td>0.015760</td>\n",
       "    </tr>\n",
       "    <tr>\n",
       "      <th>27</th>\n",
       "      <td>0.016116</td>\n",
       "    </tr>\n",
       "    <tr>\n",
       "      <th>28</th>\n",
       "      <td>0.008998</td>\n",
       "    </tr>\n",
       "    <tr>\n",
       "      <th>29</th>\n",
       "      <td>0.008353</td>\n",
       "    </tr>\n",
       "  </tbody>\n",
       "</table>\n",
       "</div>"
      ],
      "text/plain": [
       "    reconstruction_error\n",
       "0               0.007331\n",
       "1               0.002180\n",
       "2               0.014003\n",
       "3               0.006568\n",
       "4               0.031794\n",
       "5               0.002296\n",
       "6               0.002334\n",
       "7               0.004393\n",
       "8               0.007892\n",
       "9               0.002180\n",
       "10              0.028506\n",
       "11              0.001879\n",
       "12              0.018944\n",
       "13              0.075654\n",
       "14              0.002755\n",
       "15              0.090467\n",
       "16              0.030966\n",
       "17              0.190274\n",
       "18              0.175381\n",
       "19              0.003506\n",
       "20              0.012417\n",
       "21              0.000929\n",
       "22              0.001414\n",
       "23              0.017956\n",
       "24              0.001404\n",
       "25              0.212619\n",
       "26              0.015760\n",
       "27              0.016116\n",
       "28              0.008998\n",
       "29              0.008353"
      ]
     },
     "execution_count": 59,
     "metadata": {},
     "output_type": "execute_result"
    }
   ],
   "source": [
    "result_df.head(30)\n"
   ]
  },
  {
   "cell_type": "markdown",
   "metadata": {
    "collapsed": true
   },
   "source": [
    "The second model worked perfectly for my evaluation purpose."
   ]
  }
 ],
 "metadata": {
  "kernelspec": {
   "display_name": "Python 3",
   "language": "python",
   "name": "python3"
  },
  "language_info": {
   "codemirror_mode": {
    "name": "ipython",
    "version": 3
   },
   "file_extension": ".py",
   "mimetype": "text/x-python",
   "name": "python",
   "nbconvert_exporter": "python",
   "pygments_lexer": "ipython3",
   "version": "3.6.7"
  },
  "latex_envs": {
   "LaTeX_envs_menu_present": true,
   "autoclose": false,
   "autocomplete": true,
   "bibliofile": "biblio.bib",
   "cite_by": "apalike",
   "current_citInitial": 1,
   "eqLabelWithNumbers": true,
   "eqNumInitial": 1,
   "hotkeys": {
    "equation": "Ctrl-E",
    "itemize": "Ctrl-I"
   },
   "labels_anchors": false,
   "latex_user_defs": false,
   "report_style_numbering": false,
   "user_envs_cfg": false
  },
  "varInspector": {
   "cols": {
    "lenName": 16,
    "lenType": 16,
    "lenVar": 40
   },
   "kernels_config": {
    "python": {
     "delete_cmd_postfix": "",
     "delete_cmd_prefix": "del ",
     "library": "var_list.py",
     "varRefreshCmd": "print(var_dic_list())"
    },
    "r": {
     "delete_cmd_postfix": ") ",
     "delete_cmd_prefix": "rm(",
     "library": "var_list.r",
     "varRefreshCmd": "cat(var_dic_list()) "
    }
   },
   "types_to_exclude": [
    "module",
    "function",
    "builtin_function_or_method",
    "instance",
    "_Feature"
   ],
   "window_display": true
  }
 },
 "nbformat": 4,
 "nbformat_minor": 2
}
