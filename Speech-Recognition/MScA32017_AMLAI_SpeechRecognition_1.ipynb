{
 "cells": [
  {
   "cell_type": "markdown",
   "metadata": {},
   "source": [
    "# Advanced Machine Learning and Artificial Intelligence (MScA 32017)\n",
    "\n",
    "# Speech Recognition\n",
    "\n",
    "## Notebook 1: Speech Recognition Tools\n",
    "\n",
    "## Yuri Balasanov, Alexander Doynikov, &copy; iLykei 2018\n",
    "\n",
    "##### Main texts: \n",
    "\n",
    "##### Artificial Intelligence with Python. A Comprehensive Guide to Building Intelligent Apps for Python Beginners and Developers, Prateek Joshi, &copy; Packt Publishing  2017\n",
    "\n",
    "##### [A Tutorial on Hidden Markov Models and Selected Applications in Speech Recognition, Lawrence R. Rabiner, Proceedings of the IEEE, Vol. 77, No. 2, Feb. 1989](https://ieeexplore.ieee.org/document/18626/)\n",
    "\n",
    "This notebook explains basics of waveform analysis; it contains modification of the code from the book [Artificial Intelligence with Python, Ch. 12](https://github.com/PacktPublishing/Artificial-Intelligence-with-Python) \n",
    "\n",
    "# Exploring and visualizing audio signals"
   ]
  },
  {
   "cell_type": "code",
   "execution_count": null,
   "metadata": {},
   "outputs": [],
   "source": []
  },
  {
   "cell_type": "code",
   "execution_count": 2,
   "metadata": {},
   "outputs": [],
   "source": [
    "import numpy as np\n",
    "import matplotlib.pyplot as plt\n",
    "import scipy.io.wavfile as wavfile"
   ]
  },
  {
   "cell_type": "markdown",
   "metadata": {},
   "source": [
    "Read a file with uncompressed waveform as a memory-mapped file.\n",
    "\n",
    "Memory-mapped files behave also like strings. They are mutable. So, a single character in them can be changed. Memory mapped files allow accessing a small segment on the disk. They have limited size (for example, 2GB on 32-bit system)."
   ]
  },
  {
   "cell_type": "code",
   "execution_count": 3,
   "metadata": {},
   "outputs": [
    {
     "ename": "FileNotFoundError",
     "evalue": "[Errno 2] No such file or directory: 'random_sound.wav'",
     "output_type": "error",
     "traceback": [
      "\u001b[0;31m---------------------------------------------------------------------------\u001b[0m",
      "\u001b[0;31mFileNotFoundError\u001b[0m                         Traceback (most recent call last)",
      "\u001b[0;32m<ipython-input-3-18a5e2602ded>\u001b[0m in \u001b[0;36m<module>\u001b[0;34m\u001b[0m\n\u001b[0;32m----> 1\u001b[0;31m \u001b[0mwavfile\u001b[0m\u001b[0;34m.\u001b[0m\u001b[0mread\u001b[0m\u001b[0;34m(\u001b[0m\u001b[0;34m'random_sound.wav'\u001b[0m\u001b[0;34m,\u001b[0m\u001b[0mmmap\u001b[0m\u001b[0;34m=\u001b[0m\u001b[0;32mTrue\u001b[0m\u001b[0;34m)\u001b[0m\u001b[0;34m\u001b[0m\u001b[0;34m\u001b[0m\u001b[0m\n\u001b[0m",
      "\u001b[0;32m~/anaconda3/lib/python3.6/site-packages/scipy/io/wavfile.py\u001b[0m in \u001b[0;36mread\u001b[0;34m(filename, mmap)\u001b[0m\n\u001b[1;32m    231\u001b[0m         \u001b[0mmmap\u001b[0m \u001b[0;34m=\u001b[0m \u001b[0;32mFalse\u001b[0m\u001b[0;34m\u001b[0m\u001b[0;34m\u001b[0m\u001b[0m\n\u001b[1;32m    232\u001b[0m     \u001b[0;32melse\u001b[0m\u001b[0;34m:\u001b[0m\u001b[0;34m\u001b[0m\u001b[0;34m\u001b[0m\u001b[0m\n\u001b[0;32m--> 233\u001b[0;31m         \u001b[0mfid\u001b[0m \u001b[0;34m=\u001b[0m \u001b[0mopen\u001b[0m\u001b[0;34m(\u001b[0m\u001b[0mfilename\u001b[0m\u001b[0;34m,\u001b[0m \u001b[0;34m'rb'\u001b[0m\u001b[0;34m)\u001b[0m\u001b[0;34m\u001b[0m\u001b[0;34m\u001b[0m\u001b[0m\n\u001b[0m\u001b[1;32m    234\u001b[0m \u001b[0;34m\u001b[0m\u001b[0m\n\u001b[1;32m    235\u001b[0m     \u001b[0;32mtry\u001b[0m\u001b[0;34m:\u001b[0m\u001b[0;34m\u001b[0m\u001b[0;34m\u001b[0m\u001b[0m\n",
      "\u001b[0;31mFileNotFoundError\u001b[0m: [Errno 2] No such file or directory: 'random_sound.wav'"
     ]
    }
   ],
   "source": [
    "wavfile.read('random_sound.wav',mmap=True)"
   ]
  },
  {
   "cell_type": "markdown",
   "metadata": {},
   "source": [
    "Find general information about the loaded wav file."
   ]
  },
  {
   "cell_type": "code",
   "execution_count": 4,
   "metadata": {},
   "outputs": [],
   "source": [
    "sampling_freq,signal=wavfile.read('random_sound.wav')"
   ]
  },
  {
   "cell_type": "code",
   "execution_count": 5,
   "metadata": {},
   "outputs": [
    {
     "name": "stdout",
     "output_type": "stream",
     "text": [
      "Sampling frequency:  44100\n",
      "\n",
      "Signal shape:  (132300,)\n",
      "\n",
      "Data type:  int16\n",
      "\n",
      "Signal duration:  3.0 seconds\n"
     ]
    }
   ],
   "source": [
    "print('Sampling frequency: ',sampling_freq)\n",
    "print('\\nSignal shape: ',signal.shape)\n",
    "print('\\nData type: ',signal.dtype)\n",
    "print('\\nSignal duration: ',round(signal.shape[0] / float(sampling_freq),2), 'seconds')"
   ]
  },
  {
   "cell_type": "markdown",
   "metadata": {},
   "source": [
    "Sampling frequency 44100 of samples per second (44100 hertz) is a CD sound quality. In 3 seconds the number of samples is 132300."
   ]
  },
  {
   "cell_type": "markdown",
   "metadata": {},
   "source": [
    "Normalize the signal"
   ]
  },
  {
   "cell_type": "code",
   "execution_count": 6,
   "metadata": {},
   "outputs": [
    {
     "name": "stdout",
     "output_type": "stream",
     "text": [
      "Range before normalization:  -23399 32767\n"
     ]
    }
   ],
   "source": [
    "s_lo,s_hi = np.min(signal), np.max(signal)\n",
    "print('Range before normalization: ',s_lo,s_hi)"
   ]
  },
  {
   "cell_type": "code",
   "execution_count": 7,
   "metadata": {},
   "outputs": [
    {
     "name": "stdout",
     "output_type": "stream",
     "text": [
      "Range after normalization:  -0.714080810546875 0.999969482421875\n"
     ]
    }
   ],
   "source": [
    "signal=signal/np.power(2,15)\n",
    "s_lo,s_hi = np.min(signal), np.max(signal)\n",
    "print('Range after normalization: ',s_lo,s_hi)"
   ]
  },
  {
   "cell_type": "markdown",
   "metadata": {},
   "source": [
    "Select a small segment of data and plot it as signal in time."
   ]
  },
  {
   "cell_type": "code",
   "execution_count": 8,
   "metadata": {},
   "outputs": [],
   "source": [
    "signal=signal[:50]"
   ]
  },
  {
   "cell_type": "code",
   "execution_count": 9,
   "metadata": {},
   "outputs": [],
   "source": [
    "time_axis=1000*np.arange(0,len(signal),1)/float(sampling_freq)"
   ]
  },
  {
   "cell_type": "code",
   "execution_count": 10,
   "metadata": {},
   "outputs": [
    {
     "data": {
      "image/png": "[encoded data removed]",
      "text/plain": [
       "<Figure size 432x288 with 1 Axes>"
      ]
     },
     "metadata": {
      "needs_background": "light"
     },
     "output_type": "display_data"
    }
   ],
   "source": [
    "plt.plot(time_axis,signal,color='black')\n",
    "plt.xlabel('Time (milliseconds)')\n",
    "plt.ylabel('Amplitude')\n",
    "plt.title('Input audio signal')\n",
    "plt.show()"
   ]
  },
  {
   "cell_type": "markdown",
   "metadata": {},
   "source": [
    "# Transforming audio signals to frequency domain\n",
    "\n",
    "Read another speech file.\n",
    "\n",
    "To transform the signal to frequency domain use discrete Fourier transformation. Check a [useful tutorial on calculations of power spectrum](http://123.physics.ucdavis.edu/week_2_files/tutorial_on_measurement_of_power_spectra.pdf) in addition to this notebook.\n",
    "\n",
    "Load a record with a sampling rate typical for phone quality."
   ]
  },
  {
   "cell_type": "code",
   "execution_count": 11,
   "metadata": {},
   "outputs": [
    {
     "name": "stdout",
     "output_type": "stream",
     "text": [
      "Spoken word sampling frequency:  8000\n",
      "\n",
      "Signal length:  3251\n",
      "\n",
      "Half length:  1626\n",
      "\n",
      "Data type:  float64\n"
     ]
    }
   ],
   "source": [
    "sampling_freq, signal = wavfile.read('spoken_word.wav')\n",
    "signal = signal / np.power(2, 15) \n",
    "len_signal = len(signal)\n",
    "len_half = np.ceil((len_signal + 1) / 2.0).astype(np.int) # half length of signal\n",
    "print('Spoken word sampling frequency: ',sampling_freq)\n",
    "print('\\nSignal length: ',len_signal)\n",
    "print('\\nHalf length: ',len_half)\n",
    "print('\\nData type: ',signal.dtype)"
   ]
  },
  {
   "cell_type": "markdown",
   "metadata": {},
   "source": [
    "Play the record. Plot the waveform."
   ]
  },
  {
   "cell_type": "code",
   "execution_count": 12,
   "metadata": {},
   "outputs": [
    {
     "data": {
      "image/png": "[encoded data removed]",
      "text/plain": [
       "<Figure size 432x288 with 1 Axes>"
      ]
     },
     "metadata": {
      "needs_background": "light"
     },
     "output_type": "display_data"
    }
   ],
   "source": [
    "time_axis=1000*np.arange(0,len_signal,1)/float(sampling_freq)\n",
    "plt.plot(time_axis,signal,color='black')\n",
    "plt.xlabel('Time (milliseconds)')\n",
    "plt.ylabel('Amplitude')\n",
    "plt.title('Input audio signal: spoken_word')\n",
    "plt.show()"
   ]
  },
  {
   "cell_type": "markdown",
   "metadata": {},
   "source": [
    "Apply Fourier Transform. Normalize frequency domain signal by dividing the first half length of the DFT array by sampling frequency.\n",
    "\n",
    "If signal in time domain is $\\{x_t\\}=x_0,\\ldots,x_{N-1}$, then its DFT is the signal in frequency domain, i.e. magnitude or energy (dB) as function of frequency \n",
    "$$\\{\\hat{x}_k\\}=\\hat{x}_0,\\ldots,\\hat{x}_{N-1},$$\n",
    "$$\\hat{x}_k =\\sum_{t=0}^{N-1}x_t \\left( \\cos \\left( \\frac{2 \\pi}{N}kt \\right) -i \\sin \\left( \\frac{2 \\pi}{N}kt \\right) \\right).$$\n",
    "Then normalized frequency domain signal is \n",
    "$$\\frac{\\hat{x}_k}{N},~k=0,\\ldots,\\frac{N}{2}.$$\n",
    "Including only half of the time range is due to Nyquist frequency."
   ]
  },
  {
   "cell_type": "code",
   "execution_count": 13,
   "metadata": {},
   "outputs": [
    {
     "name": "stdout",
     "output_type": "stream",
     "text": [
      "(3251,)\n"
     ]
    }
   ],
   "source": [
    "freq_signal = np.fft.fft(signal)  # Fourier transform\n",
    "print(freq_signal.shape)\n",
    "freq_signal = abs(freq_signal[0:len_half]) / len_signal"
   ]
  },
  {
   "cell_type": "markdown",
   "metadata": {},
   "source": [
    "The power spectrum of the signal is then defined as $\\{ |\\hat{x}_k|^2 \\}$."
   ]
  },
  {
   "cell_type": "code",
   "execution_count": 14,
   "metadata": {},
   "outputs": [
    {
     "name": "stdout",
     "output_type": "stream",
     "text": [
      "(1626,)\n"
     ]
    }
   ],
   "source": [
    "freq_signal **= 2    # power spectrum\n",
    "print(freq_signal.shape)\n",
    "\n",
    "len_fts = len(freq_signal)"
   ]
  },
  {
   "cell_type": "markdown",
   "metadata": {},
   "source": [
    "Power spectrum has property $S_{xx}(\\lambda)=S_{xx}(-\\lambda)$ which is called a two-sided power spectrum. \n",
    "\n",
    "Typical analysis is done only with one-sided spectrum, i.e. with half of the power spectrum sequence. To preserve the total amount of energy shown in the half-range double the spectrum with adjustment for cases of even or odd length."
   ]
  },
  {
   "cell_type": "code",
   "execution_count": 15,
   "metadata": {},
   "outputs": [],
   "source": [
    "if len_signal % 2:\n",
    "    freq_signal[1:len_fts] *= 2\n",
    "else:\n",
    "    freq_signal[1:len_fts-1] *= 2"
   ]
  },
  {
   "cell_type": "markdown",
   "metadata": {},
   "source": [
    "It is common to show spectrum in logarithmic units (decibels, dB). Logarithmic scale allows viewing wider dynamic ranges, i.e. small signal in the presence of large signal. \n",
    "\n",
    "General definition of decibel unit is \n",
    "$$1dB=10\\log_{10} \\left(\\frac{P}{P_r} \\right),$$\n",
    "where $P$ is the measured power and $P_r$ is the reference power (in our case 1).\n",
    "\n",
    "Extract the power value in dB."
   ]
  },
  {
   "cell_type": "code",
   "execution_count": 16,
   "metadata": {},
   "outputs": [],
   "source": [
    "signal_power = 10 * np.log10(freq_signal)"
   ]
  },
  {
   "cell_type": "markdown",
   "metadata": {},
   "source": [
    "Now plot the power spectrum in dB."
   ]
  },
  {
   "cell_type": "code",
   "execution_count": 17,
   "metadata": {},
   "outputs": [],
   "source": [
    "# Build the X axis\n",
    "x_axis = np.arange(0, len_half, 1) * (sampling_freq / len_signal) / 1000.0"
   ]
  },
  {
   "cell_type": "code",
   "execution_count": 18,
   "metadata": {},
   "outputs": [
    {
     "data": {
      "image/png": "[encoded data removed]",
      "text/plain": [
       "<Figure size 432x288 with 1 Axes>"
      ]
     },
     "metadata": {
      "needs_background": "light"
     },
     "output_type": "display_data"
    }
   ],
   "source": [
    "# Plot the figure\n",
    "plt.figure()\n",
    "plt.plot(x_axis, signal_power, color='black')\n",
    "plt.xlabel('Frequency (kHz)')\n",
    "plt.ylabel('Signal power (dB)')\n",
    "plt.show()"
   ]
  },
  {
   "cell_type": "markdown",
   "metadata": {},
   "source": [
    "Calculation of power spectrum is an important step of extracting features from speech signals. See more on feature extraction in a later section of the document."
   ]
  },
  {
   "cell_type": "markdown",
   "metadata": {},
   "source": [
    "# Extracting speech features"
   ]
  },
  {
   "cell_type": "code",
   "execution_count": 4,
   "metadata": {},
   "outputs": [],
   "source": [
    "#import numpy as np\n",
    "#import matplotlib.pyplot as plt\n",
    "#from scipy.io import wavfile \n",
    "from python_speech_features import mfcc, logfbank"
   ]
  },
  {
   "cell_type": "markdown",
   "metadata": {},
   "source": [
    "Read a file containing one of English language phonemes 'ah'."
   ]
  },
  {
   "cell_type": "code",
   "execution_count": 21,
   "metadata": {},
   "outputs": [
    {
     "name": "stdout",
     "output_type": "stream",
     "text": [
      "Sampling frequency:  8000\n",
      "Signal shape:  (49143,)\n"
     ]
    }
   ],
   "source": [
    "sampling_freq, signal = wavfile.read('ah_sound.wav')\n",
    "print('Sampling frequency: ',sampling_freq)\n",
    "print('Signal shape: ',signal.shape)"
   ]
  },
  {
   "cell_type": "markdown",
   "metadata": {},
   "source": [
    "Plot the waveform"
   ]
  },
  {
   "cell_type": "code",
   "execution_count": 22,
   "metadata": {},
   "outputs": [
    {
     "data": {
      "image/png": "[encoded data removed]",
      "text/plain": [
       "<Figure size 432x288 with 1 Axes>"
      ]
     },
     "metadata": {
      "needs_background": "light"
     },
     "output_type": "display_data"
    }
   ],
   "source": [
    "x_axis = np.arange(0, len(signal), 1) \n",
    "plt.figure()\n",
    "plt.plot(x_axis,signal,color='black')\n",
    "plt.xlabel('Index')\n",
    "plt.ylabel('Amplitude')\n",
    "plt.title('Waveform of phonem \"ah\"')\n",
    "plt.show()"
   ]
  },
  {
   "cell_type": "markdown",
   "metadata": {},
   "source": [
    "Select the informative part of the signal for analysis."
   ]
  },
  {
   "cell_type": "code",
   "execution_count": 23,
   "metadata": {},
   "outputs": [
    {
     "data": {
      "text/plain": [
       "[<matplotlib.lines.Line2D at 0xd21d05c18>]"
      ]
     },
     "execution_count": 23,
     "metadata": {},
     "output_type": "execute_result"
    },
    {
     "data": {
      "image/png": "[encoded data removed]",
      "text/plain": [
       "<Figure size 432x288 with 1 Axes>"
      ]
     },
     "metadata": {
      "needs_background": "light"
     },
     "output_type": "display_data"
    }
   ],
   "source": [
    "signal = signal[18000:28000]\n",
    "plt.plot(signal)"
   ]
  },
  {
   "cell_type": "markdown",
   "metadata": {},
   "source": [
    "Extract features: Mel Frequency Cepstral Coefficients (MFCC). Recall from lecture slides how MFCC are calculated.\n",
    "\n",
    "Function `mfcc()` has syntax:\n",
    "\n",
    "`mfcc(signal, samplerate=16000, winlen=0.025, winstep=0.01, numcep=13, nfilt=26, nfft=512, lowfreq=0, highfreq=None, preemph=0.97, ceplifter=22, appendEnergy=True, winfunc=<function <lambda> at 0x7f06854d6378>)`,\n",
    "    \n",
    "where:    \n",
    "- `signal`: the audio signal from which to compute features. Should be an N*1 array\n",
    "- `samplerate`: the sample rate of the signal\n",
    "- `winlen`: the length of the analysis window in seconds. Default is 0.025s (25 milliseconds)\n",
    "- `winstep`: the step between successive windows in seconds. Default is 0.01s (10 milliseconds)\n",
    "- `numcep`: the number of cepstrum coefficients to return, default 13\n",
    "- `nfilt`: the number of filters in the filterbank, default 26\n",
    "- `nfft`: the FFT size. Default is 512.\n",
    "- `lowfreq`: lowest band edge of mel filters. In Hz, default is 0.\n",
    "- `highfreq`: highest band edge of mel filters. In Hz, default is samplerate/2 (Nyquist)\n",
    "- `preemph`: apply preemphasis filter with preemph as coefficient. 0 is no filter. Default is 0.97.\n",
    "- `ceplifter`: apply a lifter to final cepstral coefficients. 0 is no lifter. Default is 22.\n",
    "- `appendEnergy`: if this is true, the zero lag cepstral coefficient is replaced with the log of the total frame energy. Default is True\n",
    "- `winfunc`: the analysis window to apply to each frame. By default no window is applied. You can use numpy window functions here e.g. winfunc=numpy.hamming\n",
    "\n",
    "The function returns a numpy array of size (`NUMFRAMES` by `numcep`) containing features. Each row holds 1 feature vector."
   ]
  },
  {
   "cell_type": "code",
   "execution_count": 24,
   "metadata": {},
   "outputs": [
    {
     "name": "stdout",
     "output_type": "stream",
     "text": [
      "8000\n"
     ]
    }
   ],
   "source": [
    "print(sampling_freq)\n",
    "features_mfcc = mfcc(signal, sampling_freq)"
   ]
  },
  {
   "cell_type": "markdown",
   "metadata": {},
   "source": [
    "Print the parameters for MFCC."
   ]
  },
  {
   "cell_type": "code",
   "execution_count": 25,
   "metadata": {},
   "outputs": [
    {
     "name": "stdout",
     "output_type": "stream",
     "text": [
      "\n",
      "MFCC:\n",
      "Number of windows = 124\n",
      "Length of each feature = 13\n",
      "Mfcc shape:  (124, 13)\n"
     ]
    }
   ],
   "source": [
    "print('\\nMFCC:\\nNumber of windows =', features_mfcc.shape[0])\n",
    "print('Length of each feature =', features_mfcc.shape[1])\n",
    "print('Mfcc shape: ',features_mfcc.shape)"
   ]
  },
  {
   "cell_type": "markdown",
   "metadata": {},
   "source": [
    "Plot 3 features from frames 0, 50, 100."
   ]
  },
  {
   "cell_type": "code",
   "execution_count": 26,
   "metadata": {},
   "outputs": [
    {
     "data": {
      "image/png": "[encoded data removed]",
      "text/plain": [
       "<Figure size 432x288 with 1 Axes>"
      ]
     },
     "metadata": {
      "needs_background": "light"
     },
     "output_type": "display_data"
    },
    {
     "data": {
      "text/plain": [
       "array([ 12.36369436,  -4.20994487, -15.36369062,   2.12185462,\n",
       "         8.67306238,  11.85952982,  -5.61084531,  -4.80089413,\n",
       "        -4.35972872,   5.80165236,   4.15742312,  -5.04351619,\n",
       "        -0.27468218])"
      ]
     },
     "execution_count": 26,
     "metadata": {},
     "output_type": "execute_result"
    }
   ],
   "source": [
    "x_ax=range(features_mfcc.shape[1])\n",
    "plt.bar(x_ax,features_mfcc[0],)\n",
    "plt.xlabel('Quefrency')\n",
    "plt.ylabel('Cepstral Coefficients')\n",
    "plt.title('Cepstrum of phone \"ah\": feature 0')\n",
    "plt.show()\n",
    "features_mfcc[0]"
   ]
  },
  {
   "cell_type": "code",
   "execution_count": 27,
   "metadata": {},
   "outputs": [
    {
     "data": {
      "image/png": "[encoded data removed]",
      "text/plain": [
       "<Figure size 432x288 with 1 Axes>"
      ]
     },
     "metadata": {
      "needs_background": "light"
     },
     "output_type": "display_data"
    },
    {
     "data": {
      "text/plain": [
       "array([ 21.80335663,  25.21064882, -19.71436588, -39.76150462,\n",
       "         4.94357378,  19.78164512, -11.3444953 ,   6.76042339,\n",
       "       -35.36455239,   9.78653064,  -8.2719375 ,  19.8574557 ,\n",
       "       -17.22221124])"
      ]
     },
     "execution_count": 27,
     "metadata": {},
     "output_type": "execute_result"
    }
   ],
   "source": [
    "plt.bar(x_ax,features_mfcc[50],)\n",
    "plt.xlabel('Quefrency')\n",
    "plt.ylabel('Cepstral Coefficients')\n",
    "plt.title('Cepstrum of phone \"ah\": feature 50')\n",
    "plt.show()\n",
    "features_mfcc[50]"
   ]
  },
  {
   "cell_type": "code",
   "execution_count": 28,
   "metadata": {},
   "outputs": [
    {
     "data": {
      "image/png": "[encoded data removed]",
      "text/plain": [
       "<Figure size 432x288 with 1 Axes>"
      ]
     },
     "metadata": {
      "needs_background": "light"
     },
     "output_type": "display_data"
    },
    {
     "data": {
      "text/plain": [
       "array([ 17.69735443,  23.76822791, -28.02204432, -23.70360942,\n",
       "         5.24604451,  26.90445495, -16.82618345,   3.33977075,\n",
       "        -2.91951581,   2.53393356, -13.15433236,   4.89234788,\n",
       "        16.41548237])"
      ]
     },
     "execution_count": 28,
     "metadata": {},
     "output_type": "execute_result"
    }
   ],
   "source": [
    "plt.bar(x_ax,features_mfcc[100],)\n",
    "plt.xlabel('Quefrency')\n",
    "plt.ylabel('Cepstral Coefficients')\n",
    "plt.title('Cepstrum of phone \"ah\": feature 100')\n",
    "plt.show()\n",
    "features_mfcc[100]"
   ]
  },
  {
   "cell_type": "markdown",
   "metadata": {},
   "source": [
    "Plot heat map of all features. Interpret color codes by comparing with the printed column 20 of the transposed MFCC matrix."
   ]
  },
  {
   "cell_type": "code",
   "execution_count": 29,
   "metadata": {},
   "outputs": [
    {
     "name": "stdout",
     "output_type": "stream",
     "text": [
      "(124, 13)\n",
      "[ 22.19603486  10.81052601 -27.3485195  -40.80158286  -8.04261525\n",
      "   6.62628477 -11.34477973 -14.08160422 -14.5493616   -2.14966308\n",
      " -14.62196892  -7.51295313   2.04559786]\n"
     ]
    }
   ],
   "source": [
    "print(features_mfcc.shape)\n",
    "print(features_mfcc.T[:,20])"
   ]
  },
  {
   "cell_type": "code",
   "execution_count": 30,
   "metadata": {
    "scrolled": true
   },
   "outputs": [
    {
     "data": {
      "text/plain": [
       "Text(0.5, 1.05, 'MFCC')"
      ]
     },
     "execution_count": 30,
     "metadata": {},
     "output_type": "execute_result"
    },
    {
     "data": {
      "image/png": "[encoded data removed]",
      "text/plain": [
       "<Figure size 1152x144 with 1 Axes>"
      ]
     },
     "metadata": {
      "needs_background": "light"
     },
     "output_type": "display_data"
    }
   ],
   "source": [
    "plt.matshow(features_mfcc.T)\n",
    "plt.title('MFCC')"
   ]
  },
  {
   "cell_type": "markdown",
   "metadata": {},
   "source": [
    "Plot filterbank matrix. Make sense of color codes by comparing the plot with the printed column 100 of the transposed matrix."
   ]
  },
  {
   "cell_type": "code",
   "execution_count": 31,
   "metadata": {},
   "outputs": [
    {
     "name": "stdout",
     "output_type": "stream",
     "text": [
      "\n",
      "Filter bank:\n",
      "Number of windows = 124\n",
      "Length of each feature = 26\n",
      "[12.04560179 13.28830683 11.77826366 12.39058045 14.01578833 13.06383529\n",
      " 12.73133523 14.70399259 16.20947787 16.13935284 14.50328141 16.1827176\n",
      " 15.83816027 13.92324499 12.19804285 10.66094525  9.72033785  9.89420661\n",
      "  9.79355425  9.06620216  9.74895758 10.70067082  9.26559566  9.2987448\n",
      "  8.57484408  6.90365661]\n"
     ]
    },
    {
     "data": {
      "image/png": "[encoded data removed]",
      "text/plain": [
       "<Figure size 1152x241.548 with 1 Axes>"
      ]
     },
     "metadata": {
      "needs_background": "light"
     },
     "output_type": "display_data"
    }
   ],
   "source": [
    "# Extract the Filter Bank features\n",
    "features_fb = logfbank(signal, sampling_freq,nfft=1024)\n",
    "\n",
    "# Print the parameters for Filter Bank \n",
    "print('\\nFilter bank:\\nNumber of windows =', features_fb.shape[0])\n",
    "print('Length of each feature =', features_fb.shape[1])\n",
    "print(features_fb.T[:,100])\n",
    "# Plot the features\n",
    "features_fb = features_fb.T\n",
    "plt.matshow(features_fb)\n",
    "plt.title('Filter bank')\n",
    "\n",
    "plt.show()"
   ]
  },
  {
   "cell_type": "markdown",
   "metadata": {},
   "source": [
    "# Recognizing spoken words\n",
    "\n",
    "Previous section showed how to extract features from waveform of the word in the form of MFCC of a short segment of the signal.\n",
    "\n",
    "Vectors of features form a time series that may be well described as process of transitioning between finite number of states, i.e. Markov chain.\n",
    "\n",
    "States of the Markov chain may correspond to some spoken language patterns, like phonemes, but typically they are some unknown acoustic patterns that are contained in phonemes. So, it is reasonable to assume that states of the Markov chain are not known.\n",
    "\n",
    "Thus traditional method for recognizing a word contained in the signal waveform is based on hidden Markov models.   "
   ]
  },
  {
   "cell_type": "markdown",
   "metadata": {},
   "source": [
    "## Training model\n"
   ]
  },
  {
   "cell_type": "code",
   "execution_count": 33,
   "metadata": {},
   "outputs": [],
   "source": [
    "import os\n",
    "import warnings\n",
    "import numpy as np\n",
    "from scipy.io import wavfile\n",
    "from hmmlearn import hmm      # hidden Markov model\n",
    "from python_speech_features import mfcc\n",
    "from sklearn.externals import joblib"
   ]
  },
  {
   "cell_type": "markdown",
   "metadata": {},
   "source": [
    "Define a class to train the HMM"
   ]
  },
  {
   "cell_type": "code",
   "execution_count": 34,
   "metadata": {},
   "outputs": [],
   "source": [
    "class ModelHMM(object):\n",
    "    def __init__(self, num_components=8, num_iter=1000):\n",
    "        self.n_components = num_components\n",
    "        self.n_iter = num_iter\n",
    "    # Define the covariance type and the type of HMM:\n",
    "        self.cov_type = 'diag'\n",
    "        self.model_name = 'GaussianHMM'\n",
    "    #Initialize the variable in which we will store the models for each word:\n",
    "        self.models = []\n",
    "    #Define the model using the specified parameters:\n",
    "        self.model = hmm.GaussianHMM(n_components=self.n_components,\n",
    "                covariance_type=self.cov_type,n_iter=self.n_iter)\n",
    "\n",
    "    #Define a method to train the model\n",
    "    # 'training_data' is a 2D numpy array where each row has length of number of mfcc coefficients\n",
    "    def train(self, training_data):\n",
    "        np.seterr(all='ignore')\n",
    "        cur_model = self.model.fit(training_data)\n",
    "        self.models.append(cur_model)\n",
    "\n",
    "    # Define a method to compute log likelihood score for input features\n",
    "    def compute_score(self, input_data):\n",
    "        return self.model.score(input_data)  # model.score returns log likelihood of sample input_data"
   ]
  },
  {
   "cell_type": "markdown",
   "metadata": {},
   "source": [
    "Define a function that takes folder with training sample for one word and trains HMM with it."
   ]
  },
  {
   "cell_type": "code",
   "execution_count": 35,
   "metadata": {},
   "outputs": [],
   "source": [
    "def build_one_model(input_folder,num_states,num_cep_coeff):\n",
    "    # input_folder: path to the folder containing training wav files with the word\n",
    "    # num_states: number of hidden states in HMM\n",
    "    # num_cep_coeff: number of MFCC features extracted from each time window\n",
    "    \n",
    "    X = np.array([]) # features\n",
    "    \n",
    "    training_files = [x for x in os.listdir(input_folder) if x.endswith('.wav')]\n",
    "    \n",
    "    for filename in training_files:\n",
    "        # Extract the current filepath and read the file\n",
    "        filepath = os.path.join(input_folder, filename)\n",
    "        sampling_freq, signal = wavfile.read(filepath)\n",
    "        \n",
    "        # Extract features\n",
    "        # Default values:\n",
    "        # winlen=0.025, winstep=0.01, nfilt=26, nfft=512,\n",
    "        with warnings.catch_warnings():\n",
    "            warnings.simplefilter('ignore')\n",
    "            features_mfcc = mfcc(signal, sampling_freq, numcep= num_cep_coeff)\n",
    "        \n",
    "        # Append features to the variable X\n",
    "        if len(X) == 0:\n",
    "            X = features_mfcc\n",
    "        else:\n",
    "            X = np.append(X, features_mfcc, axis=0)\n",
    "    \n",
    "    # Initiate HMM model object\n",
    "    with warnings.catch_warnings():\n",
    "        warnings.filterwarnings('ignore',category=DeprecationWarning)\n",
    "        model = ModelHMM(num_components=num_states)\n",
    "\n",
    "    # Train HMM model, calculate likelihood of the sample by the trained model\n",
    "    with warnings.catch_warnings():\n",
    "        warnings.filterwarnings('ignore',category=DeprecationWarning)\n",
    "        model.train(X)\n",
    "        model_score = model.compute_score(X)\n",
    "        \n",
    "    return model, model_score, num_cep_coeff"
   ]
  },
  {
   "cell_type": "markdown",
   "metadata": {},
   "source": [
    "Select one of the subfolders of folder `data` with fruit names. Leave one of the sample records for validation and train model using the rest of the files.\n",
    "\n",
    "Try training model with different numbers of states and cepstrum features and compare AIC values.\n",
    "\n",
    "AIC for HMM model can be calculated as \n",
    "$$-2LogLik+2p,$$ where $p$ is the number of parameters:\n",
    "$$p=n^2+kn-1,$$ $n$ is the number of states, $k$ is the number of parameters of distribution of observations (emission distribution). For Gaussian emission distribution $k=2$. \n",
    "\n",
    "See [\"Hidden Markov Models for Time Series: An Introduction Using R\", Second Edition, by W.Zucchini, I.L.MacDonald, R.Langrock, &copy; 2016 W.Zucchini, I.L.MacDonald, R.Langrock, CRC Press](https://www.amazon.com/Hidden-Markov-Models-Time-Introduction/dp/1584885734) for more information.\n"
   ]
  },
  {
   "cell_type": "code",
   "execution_count": 41,
   "metadata": {},
   "outputs": [],
   "source": [
    "def hmm_aic(LLik,n,k):\n",
    "    return -2*LLik+2*(n*n+k*n-1)"
   ]
  },
  {
   "cell_type": "code",
   "execution_count": 42,
   "metadata": {},
   "outputs": [
    {
     "data": {
      "text/plain": [
       "[<matplotlib.lines.Line2D at 0xd234fdc50>]"
      ]
     },
     "execution_count": 42,
     "metadata": {},
     "output_type": "execute_result"
    },
    {
     "data": {
      "image/png": "[encoded data removed]",
      "text/plain": [
       "<Figure size 432x288 with 1 Axes>"
      ]
     },
     "metadata": {
      "needs_background": "light"
     },
     "output_type": "display_data"
    }
   ],
   "source": [
    "my_input_folder = './data/apple'\n",
    "AIC_scores = np.array([])\n",
    "for n_st in range(2,30,1):\n",
    "    out_fun_apple = build_one_model(my_input_folder,num_states=n_st,num_cep_coeff=8)\n",
    "    AIC_scores = np.append(AIC_scores,hmm_aic(LLik=out_fun_apple[1],n=n_st,k=8))\n",
    "#    print(n_st,hmm_aic(LLik=out_fun_apple[1],n=n_st,k=2))\n",
    "plt.plot(range(2,30,1),AIC_scores)\n",
    "    "
   ]
  },
  {
   "cell_type": "markdown",
   "metadata": {},
   "source": [
    "Plotting results for different values of number of states and numbers of cepstral coefficients suggests that (at least for this word \"apple\") number of hidden states may be between 10 and 15 with a relatively small number of cepstral coefficients in features.\n",
    "\n",
    "However there is known tendency of AIC to overestimate number of hidden states. \n",
    "\n",
    "Both parameters also depend on complexity and lengths of words.\n",
    "\n",
    "Estimate model for word \"apple\" with 13 hidden states and 2 cepstral coefficients."
   ]
  },
  {
   "cell_type": "code",
   "execution_count": 43,
   "metadata": {},
   "outputs": [
    {
     "data": {
      "text/plain": [
       "(<__main__.ModelHMM at 0x1c2644f6a0>, -13615.230915099719, 8)"
      ]
     },
     "execution_count": 43,
     "metadata": {},
     "output_type": "execute_result"
    }
   ],
   "source": [
    "model_apple = build_one_model(my_input_folder,num_states=13,num_cep_coeff=8)\n",
    "model_apple"
   ]
  },
  {
   "cell_type": "markdown",
   "metadata": {},
   "source": [
    "Train models for the whole vocabulary contained in folder `data`."
   ]
  },
  {
   "cell_type": "code",
   "execution_count": 50,
   "metadata": {},
   "outputs": [],
   "source": [
    "def build_models(input_folder):\n",
    "    \n",
    "    # input_folder contains subfolders with samples of words in wav files\n",
    "    \n",
    "    # Initialize the variable to store all the models\n",
    "    speech_models = []\n",
    "\n",
    "    # Parse the input directory\n",
    "    for dirname in os.listdir(input_folder):\n",
    "\n",
    "        # Get name of subfolder \n",
    "        subfolder = os.path.join(input_folder, dirname)\n",
    "\n",
    "        if not os.path.isdir(subfolder): \n",
    "            continue\n",
    "\n",
    "        # Extract label\n",
    "        label = subfolder[subfolder.rfind('/') + 1:]\n",
    "        \n",
    "        # Fit model for label\n",
    "        model = build_one_model(subfolder,num_states=13,num_cep_coeff=2)\n",
    "        \n",
    "        # Add the model to the list\n",
    "        speech_models.append((model, label))\n",
    "        \n",
    "        # Reset model variable\n",
    "        model = None\n",
    "\n",
    "    return speech_models\n"
   ]
  },
  {
   "cell_type": "code",
   "execution_count": 51,
   "metadata": {},
   "outputs": [
    {
     "data": {
      "text/plain": [
       "[((<__main__.ModelHMM at 0x1c26472f60>, -2345.502081714978, 2), 'apple'),\n",
       " ((<__main__.ModelHMM at 0xd23815518>, -2113.476575195754, 2), 'kiwi'),\n",
       " ((<__main__.ModelHMM at 0xd23815908>, -2188.496432377176, 2), 'lime'),\n",
       " ((<__main__.ModelHMM at 0xd23815d30>, -2659.7324607105197, 2), 'banana'),\n",
       " ((<__main__.ModelHMM at 0xd23815f98>, -3243.268661445727, 2), 'pineapple'),\n",
       " ((<__main__.ModelHMM at 0xd23815438>, -4176.06521373538, 2), 'orange'),\n",
       " ((<__main__.ModelHMM at 0xd23815fd0>, -3537.632936700386, 2), 'peach')]"
      ]
     },
     "execution_count": 51,
     "metadata": {},
     "output_type": "execute_result"
    }
   ],
   "source": [
    "fruit_models = build_models('./data')\n",
    "fruit_models"
   ]
  },
  {
   "cell_type": "markdown",
   "metadata": {},
   "source": [
    "Models can be saved in **pickled** or **serialized** format or inversly transformed using `joblib.dump()` and `joblib.load()` from `sklearn.externals`. "
   ]
  },
  {
   "cell_type": "code",
   "execution_count": 46,
   "metadata": {},
   "outputs": [
    {
     "data": {
      "text/plain": [
       "['saved_fruit_models.pkl']"
      ]
     },
     "execution_count": 46,
     "metadata": {},
     "output_type": "execute_result"
    }
   ],
   "source": [
    "joblib.dump(fruit_models,'saved_fruit_models.pkl')"
   ]
  },
  {
   "cell_type": "code",
   "execution_count": 47,
   "metadata": {},
   "outputs": [
    {
     "data": {
      "text/plain": [
       "[((<__main__.ModelHMM at 0xd21f7e198>, -2365.817422502961, 2), 'apple'),\n",
       " ((<__main__.ModelHMM at 0x1c2646d4e0>, -2140.9107472542423, 2), 'kiwi'),\n",
       " ((<__main__.ModelHMM at 0x1c2646d240>, -2200.3182133408495, 2), 'lime'),\n",
       " ((<__main__.ModelHMM at 0xd23821550>, -2661.413366943681, 2), 'banana'),\n",
       " ((<__main__.ModelHMM at 0xd23821588>, -3242.896551680571, 2), 'pineapple'),\n",
       " ((<__main__.ModelHMM at 0xd23815898>, -4146.974760788972, 2), 'orange'),\n",
       " ((<__main__.ModelHMM at 0xd23815860>, -3535.9246225165734, 2), 'peach')]"
      ]
     },
     "execution_count": 47,
     "metadata": {},
     "output_type": "execute_result"
    }
   ],
   "source": [
    "joblib.load('saved_fruit_models.pkl')"
   ]
  },
  {
   "cell_type": "markdown",
   "metadata": {},
   "source": [
    "## Validating model\n",
    "\n",
    "Once model is trained it can be validated and used for words recognition by checking log likelihood scores of different words.\n",
    "\n",
    "Create a function that takes a trained model and a path to wav file and returnes log likelihood of that word, given the model."
   ]
  },
  {
   "cell_type": "code",
   "execution_count": 48,
   "metadata": {},
   "outputs": [],
   "source": [
    "def score_one_word(trained_model,test_file_path):\n",
    "    # trained_model: ModelHMM object with trained model\n",
    "    # test_file_path: path to wav file\n",
    "    \n",
    "    sampling_freq, signal = wavfile.read(test_file_path)\n",
    "    num_cep_coeff = trained_model[2]\n",
    "    \n",
    "    # Extract features\n",
    "    # Default values:\n",
    "    # winlen=0.025, winstep=0.01, nfilt=26, nfft=512,\n",
    "    with warnings.catch_warnings():\n",
    "        warnings.simplefilter('ignore')\n",
    "        features_mfcc = mfcc(signal, sampling_freq, numcep= num_cep_coeff)\n",
    "        \n",
    "        # Calculate log likelihood\n",
    "        word_score = trained_model[0].compute_score(features_mfcc)\n",
    "    return word_score"
   ]
  },
  {
   "cell_type": "markdown",
   "metadata": {},
   "source": [
    "Try the function by comparing scores of words \"apple\" and \"banana\", both words are from the folder of words not used in training. "
   ]
  },
  {
   "cell_type": "code",
   "execution_count": 49,
   "metadata": {},
   "outputs": [
    {
     "ename": "FileNotFoundError",
     "evalue": "[Errno 2] No such file or directory: './Validation/apple15.wav'",
     "output_type": "error",
     "traceback": [
      "\u001b[0;31m---------------------------------------------------------------------------\u001b[0m",
      "\u001b[0;31mFileNotFoundError\u001b[0m                         Traceback (most recent call last)",
      "\u001b[0;32m<ipython-input-49-fab69703f3a1>\u001b[0m in \u001b[0;36m<module>\u001b[0;34m\u001b[0m\n\u001b[0;32m----> 1\u001b[0;31m \u001b[0mscore_apple\u001b[0m \u001b[0;34m=\u001b[0m \u001b[0mscore_one_word\u001b[0m\u001b[0;34m(\u001b[0m\u001b[0mmodel_apple\u001b[0m\u001b[0;34m,\u001b[0m\u001b[0;34m'./Validation/apple15.wav'\u001b[0m\u001b[0;34m)\u001b[0m\u001b[0;34m\u001b[0m\u001b[0;34m\u001b[0m\u001b[0m\n\u001b[0m\u001b[1;32m      2\u001b[0m \u001b[0mscore_banana\u001b[0m \u001b[0;34m=\u001b[0m \u001b[0mscore_one_word\u001b[0m\u001b[0;34m(\u001b[0m\u001b[0mmodel_apple\u001b[0m\u001b[0;34m,\u001b[0m\u001b[0;34m'./Validation/banana15.wav'\u001b[0m\u001b[0;34m)\u001b[0m\u001b[0;34m\u001b[0m\u001b[0;34m\u001b[0m\u001b[0m\n\u001b[1;32m      3\u001b[0m \u001b[0mscore_apple\u001b[0m\u001b[0;34m,\u001b[0m \u001b[0mscore_banana\u001b[0m\u001b[0;34m\u001b[0m\u001b[0;34m\u001b[0m\u001b[0m\n",
      "\u001b[0;32m<ipython-input-48-74bb31f463bb>\u001b[0m in \u001b[0;36mscore_one_word\u001b[0;34m(trained_model, test_file_path)\u001b[0m\n\u001b[1;32m      3\u001b[0m     \u001b[0;31m# test_file_path: path to wav file\u001b[0m\u001b[0;34m\u001b[0m\u001b[0;34m\u001b[0m\u001b[0;34m\u001b[0m\u001b[0m\n\u001b[1;32m      4\u001b[0m \u001b[0;34m\u001b[0m\u001b[0m\n\u001b[0;32m----> 5\u001b[0;31m     \u001b[0msampling_freq\u001b[0m\u001b[0;34m,\u001b[0m \u001b[0msignal\u001b[0m \u001b[0;34m=\u001b[0m \u001b[0mwavfile\u001b[0m\u001b[0;34m.\u001b[0m\u001b[0mread\u001b[0m\u001b[0;34m(\u001b[0m\u001b[0mtest_file_path\u001b[0m\u001b[0;34m)\u001b[0m\u001b[0;34m\u001b[0m\u001b[0;34m\u001b[0m\u001b[0m\n\u001b[0m\u001b[1;32m      6\u001b[0m     \u001b[0mnum_cep_coeff\u001b[0m \u001b[0;34m=\u001b[0m \u001b[0mtrained_model\u001b[0m\u001b[0;34m[\u001b[0m\u001b[0;36m2\u001b[0m\u001b[0;34m]\u001b[0m\u001b[0;34m\u001b[0m\u001b[0;34m\u001b[0m\u001b[0m\n\u001b[1;32m      7\u001b[0m \u001b[0;34m\u001b[0m\u001b[0m\n",
      "\u001b[0;32m~/anaconda3/lib/python3.6/site-packages/scipy/io/wavfile.py\u001b[0m in \u001b[0;36mread\u001b[0;34m(filename, mmap)\u001b[0m\n\u001b[1;32m    231\u001b[0m         \u001b[0mmmap\u001b[0m \u001b[0;34m=\u001b[0m \u001b[0;32mFalse\u001b[0m\u001b[0;34m\u001b[0m\u001b[0;34m\u001b[0m\u001b[0m\n\u001b[1;32m    232\u001b[0m     \u001b[0;32melse\u001b[0m\u001b[0;34m:\u001b[0m\u001b[0;34m\u001b[0m\u001b[0;34m\u001b[0m\u001b[0m\n\u001b[0;32m--> 233\u001b[0;31m         \u001b[0mfid\u001b[0m \u001b[0;34m=\u001b[0m \u001b[0mopen\u001b[0m\u001b[0;34m(\u001b[0m\u001b[0mfilename\u001b[0m\u001b[0;34m,\u001b[0m \u001b[0;34m'rb'\u001b[0m\u001b[0;34m)\u001b[0m\u001b[0;34m\u001b[0m\u001b[0;34m\u001b[0m\u001b[0m\n\u001b[0m\u001b[1;32m    234\u001b[0m \u001b[0;34m\u001b[0m\u001b[0m\n\u001b[1;32m    235\u001b[0m     \u001b[0;32mtry\u001b[0m\u001b[0;34m:\u001b[0m\u001b[0;34m\u001b[0m\u001b[0;34m\u001b[0m\u001b[0m\n",
      "\u001b[0;31mFileNotFoundError\u001b[0m: [Errno 2] No such file or directory: './Validation/apple15.wav'"
     ]
    }
   ],
   "source": [
    "score_apple = score_one_word(model_apple,'./Validation/apple15.wav')\n",
    "score_banana = score_one_word(model_apple,'./Validation/banana15.wav')\n",
    "score_apple, score_banana"
   ]
  },
  {
   "cell_type": "markdown",
   "metadata": {},
   "source": [
    "As expected, likelihood of \"apple\" is much higher than likelihood of \"banana\".\n",
    "\n",
    "## Recognizing words"
   ]
  },
  {
   "cell_type": "code",
   "execution_count": 42,
   "metadata": {},
   "outputs": [],
   "source": [
    "def recognize_words(test_files_folder):\n",
    "    results = []\n",
    "    \n",
    "    for filename in os.listdir(test_files_folder):\n",
    "\n",
    "        # Get the name of the subfolder \n",
    "        current_file = os.path.join(test_files_folder,filename)\n",
    "        \n",
    "        # Extract true label from file name\n",
    "        start_index = current_file.find('/') + 1\n",
    "        end_index = current_file.rfind('15')\n",
    "        true_label = current_file[start_index:end_index]\n",
    "        print('\\n\\nTrue label: ',true_label)\n",
    " \n",
    "        max_score = -float('inf')\n",
    "        output_label = None\n",
    "\n",
    "        # Loop through vocabulary models\n",
    "        for item in fruit_models:\n",
    "            trained_model, label = item\n",
    "            current_score = score_one_word(trained_model,current_file)\n",
    "            if current_score > max_score:\n",
    "                max_score = current_score\n",
    "                output_label = label\n",
    "            print('\\nNext model')\n",
    "            print('Current label, score: ',label,current_score)\n",
    "            print('Output label, max score: ',output_label,max_score)\n",
    "        results.append((true_label,output_label))\n",
    "    return results"
   ]
  },
  {
   "cell_type": "code",
   "execution_count": 43,
   "metadata": {},
   "outputs": [
    {
     "name": "stdout",
     "output_type": "stream",
     "text": [
      "\n",
      "\n",
      "True label:  kiwi\n",
      "\n",
      "Next model\n",
      "Current label, score:  orange -258.405015966\n",
      "Output label, max score:  orange -258.405015966\n",
      "\n",
      "Next model\n",
      "Current label, score:  peach -217.831841473\n",
      "Output label, max score:  peach -217.831841473\n",
      "\n",
      "Next model\n",
      "Current label, score:  lime -314.155762336\n",
      "Output label, max score:  peach -217.831841473\n",
      "\n",
      "Next model\n",
      "Current label, score:  kiwi -161.754076064\n",
      "Output label, max score:  kiwi -161.754076064\n",
      "\n",
      "Next model\n",
      "Current label, score:  apple -239.739311527\n",
      "Output label, max score:  kiwi -161.754076064\n",
      "\n",
      "Next model\n",
      "Current label, score:  banana -381.972307956\n",
      "Output label, max score:  kiwi -161.754076064\n",
      "\n",
      "Next model\n",
      "Current label, score:  pineapple -311.607125494\n",
      "Output label, max score:  kiwi -161.754076064\n",
      "\n",
      "\n",
      "True label:  peach\n",
      "\n",
      "Next model\n",
      "Current label, score:  orange -395.371667526\n",
      "Output label, max score:  orange -395.371667526\n",
      "\n",
      "Next model\n",
      "Current label, score:  peach -271.212903089\n",
      "Output label, max score:  peach -271.212903089\n",
      "\n",
      "Next model\n",
      "Current label, score:  lime -1559.43134333\n",
      "Output label, max score:  peach -271.212903089\n",
      "\n",
      "Next model\n",
      "Current label, score:  kiwi -429.154972508\n",
      "Output label, max score:  peach -271.212903089\n",
      "\n",
      "Next model\n",
      "Current label, score:  apple -685.167495687\n",
      "Output label, max score:  peach -271.212903089\n",
      "\n",
      "Next model\n",
      "Current label, score:  banana -1714.89399588\n",
      "Output label, max score:  peach -271.212903089\n",
      "\n",
      "Next model\n",
      "Current label, score:  pineapple -1438.66446284\n",
      "Output label, max score:  peach -271.212903089\n",
      "\n",
      "\n",
      "True label:  orange\n",
      "\n",
      "Next model\n",
      "Current label, score:  orange -316.025635288\n",
      "Output label, max score:  orange -316.025635288\n",
      "\n",
      "Next model\n",
      "Current label, score:  peach -894.550851573\n",
      "Output label, max score:  orange -316.025635288\n",
      "\n",
      "Next model\n",
      "Current label, score:  lime -824.70541105\n",
      "Output label, max score:  orange -316.025635288\n",
      "\n",
      "Next model\n",
      "Current label, score:  kiwi -692.526855039\n",
      "Output label, max score:  orange -316.025635288\n",
      "\n",
      "Next model\n",
      "Current label, score:  apple -514.623722504\n",
      "Output label, max score:  orange -316.025635288\n",
      "\n",
      "Next model\n",
      "Current label, score:  banana -1253.26166471\n",
      "Output label, max score:  orange -316.025635288\n",
      "\n",
      "Next model\n",
      "Current label, score:  pineapple -1051.48804419\n",
      "Output label, max score:  orange -316.025635288\n",
      "\n",
      "\n",
      "True label:  apple\n",
      "\n",
      "Next model\n",
      "Current label, score:  orange -332.05038214\n",
      "Output label, max score:  orange -332.05038214\n",
      "\n",
      "Next model\n",
      "Current label, score:  peach -332.584248202\n",
      "Output label, max score:  orange -332.05038214\n",
      "\n",
      "Next model\n",
      "Current label, score:  lime -291.637608214\n",
      "Output label, max score:  lime -291.637608214\n",
      "\n",
      "Next model\n",
      "Current label, score:  kiwi -271.231645909\n",
      "Output label, max score:  kiwi -271.231645909\n",
      "\n",
      "Next model\n",
      "Current label, score:  apple -178.61175963\n",
      "Output label, max score:  apple -178.61175963\n",
      "\n",
      "Next model\n",
      "Current label, score:  banana -290.276921308\n",
      "Output label, max score:  apple -178.61175963\n",
      "\n",
      "Next model\n",
      "Current label, score:  pineapple -314.065040373\n",
      "Output label, max score:  apple -178.61175963\n",
      "\n",
      "\n",
      "True label:  lime\n",
      "\n",
      "Next model\n",
      "Current label, score:  orange -236.797474954\n",
      "Output label, max score:  orange -236.797474954\n",
      "\n",
      "Next model\n",
      "Current label, score:  peach -623.245125921\n",
      "Output label, max score:  orange -236.797474954\n",
      "\n",
      "Next model\n",
      "Current label, score:  lime -156.345009098\n",
      "Output label, max score:  lime -156.345009098\n",
      "\n",
      "Next model\n",
      "Current label, score:  kiwi -317.679754563\n",
      "Output label, max score:  lime -156.345009098\n",
      "\n",
      "Next model\n",
      "Current label, score:  apple -248.095388224\n",
      "Output label, max score:  lime -156.345009098\n",
      "\n",
      "Next model\n",
      "Current label, score:  banana -231.878896776\n",
      "Output label, max score:  lime -156.345009098\n",
      "\n",
      "Next model\n",
      "Current label, score:  pineapple -204.917378058\n",
      "Output label, max score:  lime -156.345009098\n",
      "\n",
      "\n",
      "True label:  pineapple\n",
      "\n",
      "Next model\n",
      "Current label, score:  orange -350.82045923\n",
      "Output label, max score:  orange -350.82045923\n",
      "\n",
      "Next model\n",
      "Current label, score:  peach -627.138997602\n",
      "Output label, max score:  orange -350.82045923\n",
      "\n",
      "Next model\n",
      "Current label, score:  lime -314.896579427\n",
      "Output label, max score:  lime -314.896579427\n",
      "\n",
      "Next model\n",
      "Current label, score:  kiwi -330.527893262\n",
      "Output label, max score:  lime -314.896579427\n",
      "\n",
      "Next model\n",
      "Current label, score:  apple -343.538030303\n",
      "Output label, max score:  lime -314.896579427\n",
      "\n",
      "Next model\n",
      "Current label, score:  banana -291.900755788\n",
      "Output label, max score:  banana -291.900755788\n",
      "\n",
      "Next model\n",
      "Current label, score:  pineapple -254.726351917\n",
      "Output label, max score:  pineapple -254.726351917\n",
      "\n",
      "\n",
      "True label:  banana\n",
      "\n",
      "Next model\n",
      "Current label, score:  orange -280.852970357\n",
      "Output label, max score:  orange -280.852970357\n",
      "\n",
      "Next model\n",
      "Current label, score:  peach -552.544066695\n",
      "Output label, max score:  orange -280.852970357\n",
      "\n",
      "Next model\n",
      "Current label, score:  lime -272.137012797\n",
      "Output label, max score:  lime -272.137012797\n",
      "\n",
      "Next model\n",
      "Current label, score:  kiwi -282.173165641\n",
      "Output label, max score:  lime -272.137012797\n",
      "\n",
      "Next model\n",
      "Current label, score:  apple -240.076462545\n",
      "Output label, max score:  apple -240.076462545\n",
      "\n",
      "Next model\n",
      "Current label, score:  banana -185.21516924\n",
      "Output label, max score:  banana -185.21516924\n",
      "\n",
      "Next model\n",
      "Current label, score:  pineapple -237.801531873\n",
      "Output label, max score:  banana -185.21516924\n"
     ]
    },
    {
     "data": {
      "text/plain": [
       "[('kiwi', 'kiwi'),\n",
       " ('peach', 'peach'),\n",
       " ('orange', 'orange'),\n",
       " ('apple', 'apple'),\n",
       " ('lime', 'lime'),\n",
       " ('pineapple', 'pineapple'),\n",
       " ('banana', 'banana')]"
      ]
     },
     "execution_count": 43,
     "metadata": {},
     "output_type": "execute_result"
    }
   ],
   "source": [
    "recognize_words('Validation')"
   ]
  }
 ],
 "metadata": {
  "kernelspec": {
   "display_name": "Python 3",
   "language": "python",
   "name": "python3"
  },
  "language_info": {
   "codemirror_mode": {
    "name": "ipython",
    "version": 3
   },
   "file_extension": ".py",
   "mimetype": "text/x-python",
   "name": "python",
   "nbconvert_exporter": "python",
   "pygments_lexer": "ipython3",
   "version": "3.6.7"
  },
  "latex_envs": {
   "LaTeX_envs_menu_present": true,
   "autoclose": false,
   "autocomplete": true,
   "bibliofile": "biblio.bib",
   "cite_by": "apalike",
   "current_citInitial": 1,
   "eqLabelWithNumbers": true,
   "eqNumInitial": 1,
   "hotkeys": {
    "equation": "Ctrl-E",
    "itemize": "Ctrl-I"
   },
   "labels_anchors": false,
   "latex_user_defs": false,
   "report_style_numbering": false,
   "user_envs_cfg": false
  },
  "varInspector": {
   "cols": {
    "lenName": 16,
    "lenType": 16,
    "lenVar": 40
   },
   "kernels_config": {
    "python": {
     "delete_cmd_postfix": "",
     "delete_cmd_prefix": "del ",
     "library": "var_list.py",
     "varRefreshCmd": "print(var_dic_list())"
    },
    "r": {
     "delete_cmd_postfix": ") ",
     "delete_cmd_prefix": "rm(",
     "library": "var_list.r",
     "varRefreshCmd": "cat(var_dic_list()) "
    }
   },
   "oldHeight": 122,
   "position": {
    "height": "40px",
    "left": "1410px",
    "right": "20px",
    "top": "120px",
    "width": "250px"
   },
   "types_to_exclude": [
    "module",
    "function",
    "builtin_function_or_method",
    "instance",
    "_Feature"
   ],
   "varInspector_section_display": "none",
   "window_display": true
  }
 },
 "nbformat": 4,
 "nbformat_minor": 2
}
